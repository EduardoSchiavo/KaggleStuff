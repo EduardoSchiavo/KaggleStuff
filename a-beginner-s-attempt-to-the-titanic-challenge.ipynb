{
 "cells": [
  {
   "cell_type": "markdown",
   "id": "61dd076c",
   "metadata": {
    "execution": {
     "iopub.execute_input": "2021-11-14T09:36:58.213497Z",
     "iopub.status.busy": "2021-11-14T09:36:58.212756Z",
     "iopub.status.idle": "2021-11-14T09:36:58.293525Z",
     "shell.execute_reply": "2021-11-14T09:36:58.292571Z",
     "shell.execute_reply.started": "2021-11-14T09:36:58.2134Z"
    },
    "papermill": {
     "duration": 0.0782,
     "end_time": "2021-11-17T11:52:50.243878",
     "exception": false,
     "start_time": "2021-11-17T11:52:50.165678",
     "status": "completed"
    },
    "tags": []
   },
   "source": [
    "# A Beginner's Attempt to the Titanic Challenge"
   ]
  },
  {
   "cell_type": "markdown",
   "id": "3ad2b704",
   "metadata": {
    "papermill": {
     "duration": 0.142487,
     "end_time": "2021-11-17T11:52:50.463418",
     "exception": false,
     "start_time": "2021-11-17T11:52:50.320931",
     "status": "completed"
    },
    "tags": []
   },
   "source": [
    "This is my first attempt at a Kaggle competion. Also, this is the first time I have a go at trying to make prediction on a dataset without any predefined instructions. I only have a couple of online courses in data science and a few years of python programming as a background. Let's see what comes out. \n",
    "\n",
    "Here's what this notebook is **NOT**:\n",
    "- A top scoring one. My best score is somewhere around 80% (a little below that to be totally honest)\n",
    "\n",
    "- A tutorial for beginners. This is just how I approach the problem, it's not meant as a guide. Any external feedback on how to improve is much appreaciated\n",
    "\n",
    "- A scam. I've seen many notebooks scoring one, just feeding the example results back as a submission. You won't see this, or any other kind of trickery in this notebook. "
   ]
  },
  {
   "cell_type": "markdown",
   "id": "53d055bd",
   "metadata": {
    "papermill": {
     "duration": 0.076011,
     "end_time": "2021-11-17T11:52:50.617524",
     "exception": false,
     "start_time": "2021-11-17T11:52:50.541513",
     "status": "completed"
    },
    "tags": []
   },
   "source": [
    "Well, then let's start, shall we? \n",
    "\n",
    "First things first, let's get the imports out of the way"
   ]
  },
  {
   "cell_type": "code",
   "execution_count": 1,
   "id": "91d0879a",
   "metadata": {
    "_cell_guid": "b1076dfc-b9ad-4769-8c92-a6c4dae69d19",
    "_uuid": "8f2839f25d086af736a60e9eeb907d3b93b6e0e5",
    "execution": {
     "iopub.execute_input": "2021-11-17T11:52:50.782420Z",
     "iopub.status.busy": "2021-11-17T11:52:50.781715Z",
     "iopub.status.idle": "2021-11-17T11:52:53.520435Z",
     "shell.execute_reply": "2021-11-17T11:52:53.521005Z",
     "shell.execute_reply.started": "2021-11-17T11:51:01.889625Z"
    },
    "papermill": {
     "duration": 2.826688,
     "end_time": "2021-11-17T11:52:53.521316",
     "exception": false,
     "start_time": "2021-11-17T11:52:50.694628",
     "status": "completed"
    },
    "tags": []
   },
   "outputs": [
    {
     "name": "stdout",
     "output_type": "stream",
     "text": [
      "/kaggle/input/titanic/train.csv\n",
      "/kaggle/input/titanic/test.csv\n",
      "/kaggle/input/titanic/gender_submission.csv\n"
     ]
    }
   ],
   "source": [
    "import numpy as np # linear algebra\n",
    "import pandas as pd # data processing, CSV file I/O (e.g. pd.read_csv)\n",
    "\n",
    "#Plotting stuff\n",
    "import plotly.express as px \n",
    "import plotly.graph_objects as go\n",
    "import seaborn as sns\n",
    "import matplotlib.pyplot as plt\n",
    "import matplotlib\n",
    "matplotlib.rcParams.update({'font.size': 20})\n",
    "\n",
    "#Machine learning stuff\n",
    "from sklearn import preprocessing\n",
    "from sklearn.model_selection import train_test_split\n",
    "from sklearn.neighbors import KNeighborsClassifier\n",
    "from sklearn import metrics\n",
    "from sklearn.tree import DecisionTreeClassifier\n",
    "from sklearn.linear_model import LogisticRegression\n",
    "from sklearn.metrics import confusion_matrix\n",
    "from sklearn.model_selection import GridSearchCV\n",
    "from sklearn import svm\n",
    "from sklearn.ensemble import RandomForestClassifier\n",
    "\n",
    "\n",
    "# Input data files are available in the read-only \"../input/\" directory\n",
    "# For example, running this (by clicking run or pressing Shift+Enter) will list all files under the input directory\n",
    "\n",
    "import os\n",
    "for dirname, _, filenames in os.walk('/kaggle/input'):\n",
    "    for filename in filenames:\n",
    "        print(os.path.join(dirname, filename))\n",
    "\n",
    "# You can write up to 20GB to the current directory (/kaggle/working/) that gets preserved as output when you create a version using \"Save & Run All\" \n",
    "# You can also write temporary files to /kaggle/temp/, but they won't be saved outside of the current session"
   ]
  },
  {
   "cell_type": "markdown",
   "id": "2b9c0be3",
   "metadata": {
    "papermill": {
     "duration": 0.076407,
     "end_time": "2021-11-17T11:52:53.674828",
     "exception": false,
     "start_time": "2021-11-17T11:52:53.598421",
     "status": "completed"
    },
    "tags": []
   },
   "source": [
    "Here's just a function to plot confusion matrices that I had in some old notebook from a course. I'll just keep this here, in case we need it later on. "
   ]
  },
  {
   "cell_type": "code",
   "execution_count": 2,
   "id": "4969a8eb",
   "metadata": {
    "execution": {
     "iopub.execute_input": "2021-11-17T11:52:53.833457Z",
     "iopub.status.busy": "2021-11-17T11:52:53.832383Z",
     "iopub.status.idle": "2021-11-17T11:52:53.844121Z",
     "shell.execute_reply": "2021-11-17T11:52:53.844697Z",
     "shell.execute_reply.started": "2021-11-17T11:51:01.956699Z"
    },
    "papermill": {
     "duration": 0.093365,
     "end_time": "2021-11-17T11:52:53.844934",
     "exception": false,
     "start_time": "2021-11-17T11:52:53.751569",
     "status": "completed"
    },
    "tags": []
   },
   "outputs": [],
   "source": [
    "from sklearn.metrics import classification_report, confusion_matrix\n",
    "import itertools\n",
    "\n",
    "def plot_confusion_matrix(cm, classes,\n",
    "                          normalize=False,\n",
    "                          title='Confusion matrix',\n",
    "                          cmap=plt.cm.Greens):\n",
    "    \"\"\"\n",
    "    This function prints and plots the confusion matrix.\n",
    "    Normalization can be applied by setting `normalize=True`.\n",
    "    \"\"\"\n",
    "    if normalize:\n",
    "        cm = cm.astype('float') / cm.sum(axis=1)[:, np.newaxis]\n",
    "        print(\"Normalized confusion matrix\")\n",
    "    else:\n",
    "        print('Confusion matrix, without normalization')\n",
    "\n",
    "    print(cm)\n",
    "\n",
    "    plt.imshow(cm, interpolation='nearest', cmap=cmap)\n",
    "    plt.title(title)\n",
    "    plt.colorbar()\n",
    "    tick_marks = np.arange(len(classes))\n",
    "    plt.xticks(tick_marks, classes, rotation=45)\n",
    "    plt.yticks(tick_marks, classes)\n",
    "\n",
    "    fmt = '.2f' if normalize else 'd'\n",
    "    thresh = cm.max() / 2.\n",
    "    for i, j in itertools.product(range(cm.shape[0]), range(cm.shape[1])):\n",
    "        plt.text(j, i, format(cm[i, j], fmt),\n",
    "                 horizontalalignment=\"center\",\n",
    "                 color=\"white\" if cm[i, j] > thresh else \"black\")\n",
    "\n",
    "    plt.tight_layout()\n",
    "    plt.ylabel('True label')\n",
    "    plt.xlabel('Predicted label')"
   ]
  },
  {
   "cell_type": "markdown",
   "id": "d75a78bf",
   "metadata": {
    "papermill": {
     "duration": 0.079455,
     "end_time": "2021-11-17T11:52:54.002252",
     "exception": false,
     "start_time": "2021-11-17T11:52:53.922797",
     "status": "completed"
    },
    "tags": []
   },
   "source": [
    "# Exploratory Data Analysis\n",
    "\n",
    "Reading the training dataset. On this, we're gonna do a little EDA to try and see which entries have a predictive value and which ones are useless"
   ]
  },
  {
   "cell_type": "code",
   "execution_count": 3,
   "id": "4c9567dc",
   "metadata": {
    "execution": {
     "iopub.execute_input": "2021-11-17T11:52:54.164056Z",
     "iopub.status.busy": "2021-11-17T11:52:54.162981Z",
     "iopub.status.idle": "2021-11-17T11:52:54.208006Z",
     "shell.execute_reply": "2021-11-17T11:52:54.207326Z",
     "shell.execute_reply.started": "2021-11-17T11:51:01.975369Z"
    },
    "papermill": {
     "duration": 0.128306,
     "end_time": "2021-11-17T11:52:54.208195",
     "exception": false,
     "start_time": "2021-11-17T11:52:54.079889",
     "status": "completed"
    },
    "tags": []
   },
   "outputs": [
    {
     "data": {
      "text/html": [
       "<div>\n",
       "<style scoped>\n",
       "    .dataframe tbody tr th:only-of-type {\n",
       "        vertical-align: middle;\n",
       "    }\n",
       "\n",
       "    .dataframe tbody tr th {\n",
       "        vertical-align: top;\n",
       "    }\n",
       "\n",
       "    .dataframe thead th {\n",
       "        text-align: right;\n",
       "    }\n",
       "</style>\n",
       "<table border=\"1\" class=\"dataframe\">\n",
       "  <thead>\n",
       "    <tr style=\"text-align: right;\">\n",
       "      <th></th>\n",
       "      <th>PassengerId</th>\n",
       "      <th>Survived</th>\n",
       "      <th>Pclass</th>\n",
       "      <th>Name</th>\n",
       "      <th>Sex</th>\n",
       "      <th>Age</th>\n",
       "      <th>SibSp</th>\n",
       "      <th>Parch</th>\n",
       "      <th>Ticket</th>\n",
       "      <th>Fare</th>\n",
       "      <th>Cabin</th>\n",
       "      <th>Embarked</th>\n",
       "    </tr>\n",
       "  </thead>\n",
       "  <tbody>\n",
       "    <tr>\n",
       "      <th>0</th>\n",
       "      <td>1</td>\n",
       "      <td>0</td>\n",
       "      <td>3</td>\n",
       "      <td>Braund, Mr. Owen Harris</td>\n",
       "      <td>male</td>\n",
       "      <td>22.0</td>\n",
       "      <td>1</td>\n",
       "      <td>0</td>\n",
       "      <td>A/5 21171</td>\n",
       "      <td>7.2500</td>\n",
       "      <td>NaN</td>\n",
       "      <td>S</td>\n",
       "    </tr>\n",
       "    <tr>\n",
       "      <th>1</th>\n",
       "      <td>2</td>\n",
       "      <td>1</td>\n",
       "      <td>1</td>\n",
       "      <td>Cumings, Mrs. John Bradley (Florence Briggs Th...</td>\n",
       "      <td>female</td>\n",
       "      <td>38.0</td>\n",
       "      <td>1</td>\n",
       "      <td>0</td>\n",
       "      <td>PC 17599</td>\n",
       "      <td>71.2833</td>\n",
       "      <td>C85</td>\n",
       "      <td>C</td>\n",
       "    </tr>\n",
       "    <tr>\n",
       "      <th>2</th>\n",
       "      <td>3</td>\n",
       "      <td>1</td>\n",
       "      <td>3</td>\n",
       "      <td>Heikkinen, Miss. Laina</td>\n",
       "      <td>female</td>\n",
       "      <td>26.0</td>\n",
       "      <td>0</td>\n",
       "      <td>0</td>\n",
       "      <td>STON/O2. 3101282</td>\n",
       "      <td>7.9250</td>\n",
       "      <td>NaN</td>\n",
       "      <td>S</td>\n",
       "    </tr>\n",
       "    <tr>\n",
       "      <th>3</th>\n",
       "      <td>4</td>\n",
       "      <td>1</td>\n",
       "      <td>1</td>\n",
       "      <td>Futrelle, Mrs. Jacques Heath (Lily May Peel)</td>\n",
       "      <td>female</td>\n",
       "      <td>35.0</td>\n",
       "      <td>1</td>\n",
       "      <td>0</td>\n",
       "      <td>113803</td>\n",
       "      <td>53.1000</td>\n",
       "      <td>C123</td>\n",
       "      <td>S</td>\n",
       "    </tr>\n",
       "    <tr>\n",
       "      <th>4</th>\n",
       "      <td>5</td>\n",
       "      <td>0</td>\n",
       "      <td>3</td>\n",
       "      <td>Allen, Mr. William Henry</td>\n",
       "      <td>male</td>\n",
       "      <td>35.0</td>\n",
       "      <td>0</td>\n",
       "      <td>0</td>\n",
       "      <td>373450</td>\n",
       "      <td>8.0500</td>\n",
       "      <td>NaN</td>\n",
       "      <td>S</td>\n",
       "    </tr>\n",
       "  </tbody>\n",
       "</table>\n",
       "</div>"
      ],
      "text/plain": [
       "   PassengerId  Survived  Pclass  \\\n",
       "0            1         0       3   \n",
       "1            2         1       1   \n",
       "2            3         1       3   \n",
       "3            4         1       1   \n",
       "4            5         0       3   \n",
       "\n",
       "                                                Name     Sex   Age  SibSp  \\\n",
       "0                            Braund, Mr. Owen Harris    male  22.0      1   \n",
       "1  Cumings, Mrs. John Bradley (Florence Briggs Th...  female  38.0      1   \n",
       "2                             Heikkinen, Miss. Laina  female  26.0      0   \n",
       "3       Futrelle, Mrs. Jacques Heath (Lily May Peel)  female  35.0      1   \n",
       "4                           Allen, Mr. William Henry    male  35.0      0   \n",
       "\n",
       "   Parch            Ticket     Fare Cabin Embarked  \n",
       "0      0         A/5 21171   7.2500   NaN        S  \n",
       "1      0          PC 17599  71.2833   C85        C  \n",
       "2      0  STON/O2. 3101282   7.9250   NaN        S  \n",
       "3      0            113803  53.1000  C123        S  \n",
       "4      0            373450   8.0500   NaN        S  "
      ]
     },
     "execution_count": 3,
     "metadata": {},
     "output_type": "execute_result"
    }
   ],
   "source": [
    "train_df=pd.read_csv('/kaggle/input/titanic/train.csv')\n",
    "train_df.head()\n"
   ]
  },
  {
   "cell_type": "markdown",
   "id": "0d3fa8ea",
   "metadata": {
    "papermill": {
     "duration": 0.08181,
     "end_time": "2021-11-17T11:52:54.370926",
     "exception": false,
     "start_time": "2021-11-17T11:52:54.289116",
     "status": "completed"
    },
    "tags": []
   },
   "source": [
    "## Survival By Age\n",
    "\n",
    "It looks like the Age of the passengers is not strongly correlated with their survival to the disaster. Except for the infants (age 0-1) which were almost all saved and those older than 65 that were all left to drown. Zoom in on the areas to see. "
   ]
  },
  {
   "cell_type": "code",
   "execution_count": 4,
   "id": "e4fcdff0",
   "metadata": {
    "execution": {
     "iopub.execute_input": "2021-11-17T11:52:54.537048Z",
     "iopub.status.busy": "2021-11-17T11:52:54.534666Z",
     "iopub.status.idle": "2021-11-17T11:52:55.868460Z",
     "shell.execute_reply": "2021-11-17T11:52:55.867935Z",
     "shell.execute_reply.started": "2021-11-17T11:51:02.011094Z"
    },
    "papermill": {
     "duration": 1.418437,
     "end_time": "2021-11-17T11:52:55.868628",
     "exception": false,
     "start_time": "2021-11-17T11:52:54.450191",
     "status": "completed"
    },
    "tags": []
   },
   "outputs": [
    {
     "data": {
      "text/html": [
       "        <script type=\"text/javascript\">\n",
       "        window.PlotlyConfig = {MathJaxConfig: 'local'};\n",
       "        if (window.MathJax) {MathJax.Hub.Config({SVG: {font: \"STIX-Web\"}});}\n",
       "        if (typeof require !== 'undefined') {\n",
       "        require.undef(\"plotly\");\n",
       "        requirejs.config({\n",
       "            paths: {\n",
       "                'plotly': ['https://cdn.plot.ly/plotly-2.4.2.min']\n",
       "            }\n",
       "        });\n",
       "        require(['plotly'], function(Plotly) {\n",
       "            window._Plotly = Plotly;\n",
       "        });\n",
       "        }\n",
       "        </script>\n",
       "        "
      ]
     },
     "metadata": {},
     "output_type": "display_data"
    },
    {
     "data": {
      "text/html": [
       "<div>                            <div id=\"7dd7f61c-6bd3-4ca3-84f1-a015b800fcae\" class=\"plotly-graph-div\" style=\"height:525px; width:100%;\"></div>            <script type=\"text/javascript\">                require([\"plotly\"], function(Plotly) {                    window.PLOTLYENV=window.PLOTLYENV || {};                                    if (document.getElementById(\"7dd7f61c-6bd3-4ca3-84f1-a015b800fcae\")) {                    Plotly.newPlot(                        \"7dd7f61c-6bd3-4ca3-84f1-a015b800fcae\",                        [{\"hovertemplate\":\"PassengerId=%{x}<br>Age=%{y}<br>Survived=%{marker.color}<extra></extra>\",\"legendgroup\":\"\",\"marker\":{\"color\":[0,1,1,1,0,0,0,0,1,1,1,1,0,0,0,1,0,1,0,1,0,1,1,1,0,1,0,0,1,0,0,1,1,0,0,0,1,0,0,1,0,0,0,1,1,0,0,1,0,0,0,0,1,1,0,1,1,0,1,0,0,1,0,0,0,1,1,0,1,0,0,0,0,0,1,0,0,0,1,1,0,1,1,0,1,1,0,0,1,0,0,0,0,0,0,0,0,1,1,0,0,0,0,0,0,0,1,1,0,1,0,0,0,0,0,0,0,0,0,0,0,0,0,1,0,1,0,1,1,0,0,0,0,1,0,0,1,0,0,0,0,1,1,0,0,0,1,0,0,0,0,1,0,0,0,0,1,0,0,0,0,1,0,0,0,1,1,0,0,0,0,0,1,0,0,0,0,0,0,0,0,0,0,1,1,0,1,1,0,0,1,0,1,1,1,1,0,0,1,0,0,0,0,0,1,0,0,1,1,1,0,1,0,0,0,1,1,0,1,0,1,0,0,0,1,0,1,0,0,0,1,0,0,1,0,0,0,1,0,0,0,1,0,0,0,0,0,1,1,0,0,0,0,0,0,1,1,1,1,1,0,1,0,0,0,0,0,1,1,1,0,1,1,0,1,1,0,0,0,1,0,0,0,1,0,0,1,0,1,1,1,1,0,0,0,0,0,0,1,1,1,1,0,1,0,1,1,1,0,1,1,1,0,0,0,1,1,0,1,1,0,0,1,1,0,1,0,1,1,1,1,0,0,0,1,0,0,1,1,0,1,1,0,0,0,1,1,1,1,0,0,0,0,0,0,0,1,0,1,1,0,0,0,0,0,0,1,1,1,1,1,0,0,0,0,1,1,0,0,0,1,1,0,1,0,0,0,1,0,1,1,1,0,1,1,0,0,0,0,1,1,0,0,0,0,0,0,1,0,0,0,0,1,0,1,0,1,1,0,0,0,0,0,0,0,0,1,1,0,1,1,1,1,0,0,1,0,1,0,0,1,0,0,1,1,1,1,1,1,1,0,0,0,1,0,1,0,1,1,0,1,0,0,0,0,0,0,0,0,1,0,0,1,1,0,0,0,0,0,1,0,0,0,1,1,0,1,0,0,1,0,0,0,0,0,0,1,0,0,0,0,0,0,0,1,0,1,1,0,1,1,0,1,1,0,0,1,0,1,0,1,0,0,1,0,0,1,0,0,0,1,0,0,1,0,1,0,1,0,1,1,0,0,1,0,0,1,1,0,1,1,0,0,1,1,0,1,0,1,1,0,0,0,0,0,0,0,0,0,1,1,1,1,1,0,0,1,1,0,1,1,1,0,0,0,1,0,1,0,0,0,1,0,0,0,0,1,0,0,1,1,0,0,0,1,0,0,1,1,1,0,0,1,0,0,1,0,0,1,0,0,1,1,0,0,0,0,1,0,0,1,0,1,0,0,1,0,0,0,0,0,1,0,1,1,1,0,1,0,1,0,1,0,1,0,0,0,0,0,0,1,0,0,0,1,0,0,0,0,1,1,0,0,1,0,0,0,1,0,1,0,1,0,0,0,0,0,0,0,1,1,1,1,0,0,0,0,1,0,0,1,1,0,0,0,0,1,1,1,1,1,0,1,0,0,0,1,1,0,0,1,0,0,0,1,0,1,1,0,0,1,0,0,0,0,0,0,1,0,0,1,0,1,0,1,0,0,1,0,0,1,1,0,0,1,1,0,0,0,1,0,0,1,1,0,1,0,0,0,0,0,0,0,0,1,0,0,1,0,1,1,1,0,0,0,0,1,0,1,0,0,0,0,0,0,0,1,1,0,0,0,1,1,1,1,0,0,0,0,1,0,0,0,0,0,0,0,0,0,0,1,1,0,1,0,0,0,1,1,1,1,1,0,0,0,1,0,0,1,1,0,0,1,0,0,0,0,0,0,1,0,0,0,1,0,1,1,1,1,0,0,0,1,0,0,1,1,0,0,1,0,1,0,0,1,1,0,0,0,1,1,0,0,0,0,0,0,1,0,1,0],\"coloraxis\":\"coloraxis\",\"symbol\":\"circle\"},\"mode\":\"markers\",\"name\":\"\",\"orientation\":\"v\",\"showlegend\":false,\"type\":\"scatter\",\"x\":[1,2,3,4,5,6,7,8,9,10,11,12,13,14,15,16,17,18,19,20,21,22,23,24,25,26,27,28,29,30,31,32,33,34,35,36,37,38,39,40,41,42,43,44,45,46,47,48,49,50,51,52,53,54,55,56,57,58,59,60,61,62,63,64,65,66,67,68,69,70,71,72,73,74,75,76,77,78,79,80,81,82,83,84,85,86,87,88,89,90,91,92,93,94,95,96,97,98,99,100,101,102,103,104,105,106,107,108,109,110,111,112,113,114,115,116,117,118,119,120,121,122,123,124,125,126,127,128,129,130,131,132,133,134,135,136,137,138,139,140,141,142,143,144,145,146,147,148,149,150,151,152,153,154,155,156,157,158,159,160,161,162,163,164,165,166,167,168,169,170,171,172,173,174,175,176,177,178,179,180,181,182,183,184,185,186,187,188,189,190,191,192,193,194,195,196,197,198,199,200,201,202,203,204,205,206,207,208,209,210,211,212,213,214,215,216,217,218,219,220,221,222,223,224,225,226,227,228,229,230,231,232,233,234,235,236,237,238,239,240,241,242,243,244,245,246,247,248,249,250,251,252,253,254,255,256,257,258,259,260,261,262,263,264,265,266,267,268,269,270,271,272,273,274,275,276,277,278,279,280,281,282,283,284,285,286,287,288,289,290,291,292,293,294,295,296,297,298,299,300,301,302,303,304,305,306,307,308,309,310,311,312,313,314,315,316,317,318,319,320,321,322,323,324,325,326,327,328,329,330,331,332,333,334,335,336,337,338,339,340,341,342,343,344,345,346,347,348,349,350,351,352,353,354,355,356,357,358,359,360,361,362,363,364,365,366,367,368,369,370,371,372,373,374,375,376,377,378,379,380,381,382,383,384,385,386,387,388,389,390,391,392,393,394,395,396,397,398,399,400,401,402,403,404,405,406,407,408,409,410,411,412,413,414,415,416,417,418,419,420,421,422,423,424,425,426,427,428,429,430,431,432,433,434,435,436,437,438,439,440,441,442,443,444,445,446,447,448,449,450,451,452,453,454,455,456,457,458,459,460,461,462,463,464,465,466,467,468,469,470,471,472,473,474,475,476,477,478,479,480,481,482,483,484,485,486,487,488,489,490,491,492,493,494,495,496,497,498,499,500,501,502,503,504,505,506,507,508,509,510,511,512,513,514,515,516,517,518,519,520,521,522,523,524,525,526,527,528,529,530,531,532,533,534,535,536,537,538,539,540,541,542,543,544,545,546,547,548,549,550,551,552,553,554,555,556,557,558,559,560,561,562,563,564,565,566,567,568,569,570,571,572,573,574,575,576,577,578,579,580,581,582,583,584,585,586,587,588,589,590,591,592,593,594,595,596,597,598,599,600,601,602,603,604,605,606,607,608,609,610,611,612,613,614,615,616,617,618,619,620,621,622,623,624,625,626,627,628,629,630,631,632,633,634,635,636,637,638,639,640,641,642,643,644,645,646,647,648,649,650,651,652,653,654,655,656,657,658,659,660,661,662,663,664,665,666,667,668,669,670,671,672,673,674,675,676,677,678,679,680,681,682,683,684,685,686,687,688,689,690,691,692,693,694,695,696,697,698,699,700,701,702,703,704,705,706,707,708,709,710,711,712,713,714,715,716,717,718,719,720,721,722,723,724,725,726,727,728,729,730,731,732,733,734,735,736,737,738,739,740,741,742,743,744,745,746,747,748,749,750,751,752,753,754,755,756,757,758,759,760,761,762,763,764,765,766,767,768,769,770,771,772,773,774,775,776,777,778,779,780,781,782,783,784,785,786,787,788,789,790,791,792,793,794,795,796,797,798,799,800,801,802,803,804,805,806,807,808,809,810,811,812,813,814,815,816,817,818,819,820,821,822,823,824,825,826,827,828,829,830,831,832,833,834,835,836,837,838,839,840,841,842,843,844,845,846,847,848,849,850,851,852,853,854,855,856,857,858,859,860,861,862,863,864,865,866,867,868,869,870,871,872,873,874,875,876,877,878,879,880,881,882,883,884,885,886,887,888,889,890,891],\"xaxis\":\"x\",\"y\":[22.0,38.0,26.0,35.0,35.0,null,54.0,2.0,27.0,14.0,4.0,58.0,20.0,39.0,14.0,55.0,2.0,null,31.0,null,35.0,34.0,15.0,28.0,8.0,38.0,null,19.0,null,null,40.0,null,null,66.0,28.0,42.0,null,21.0,18.0,14.0,40.0,27.0,null,3.0,19.0,null,null,null,null,18.0,7.0,21.0,49.0,29.0,65.0,null,21.0,28.5,5.0,11.0,22.0,38.0,45.0,4.0,null,null,29.0,19.0,17.0,26.0,32.0,16.0,21.0,26.0,32.0,25.0,null,null,0.83,30.0,22.0,29.0,null,28.0,17.0,33.0,16.0,null,23.0,24.0,29.0,20.0,46.0,26.0,59.0,null,71.0,23.0,34.0,34.0,28.0,null,21.0,33.0,37.0,28.0,21.0,null,38.0,null,47.0,14.5,22.0,20.0,17.0,21.0,70.5,29.0,24.0,2.0,21.0,null,32.5,32.5,54.0,12.0,null,24.0,null,45.0,33.0,20.0,47.0,29.0,25.0,23.0,19.0,37.0,16.0,24.0,null,22.0,24.0,19.0,18.0,19.0,27.0,9.0,36.5,42.0,51.0,22.0,55.5,40.5,null,51.0,16.0,30.0,null,null,44.0,40.0,26.0,17.0,1.0,9.0,null,45.0,null,28.0,61.0,4.0,1.0,21.0,56.0,18.0,null,50.0,30.0,36.0,null,null,9.0,1.0,4.0,null,null,45.0,40.0,36.0,32.0,19.0,19.0,3.0,44.0,58.0,null,42.0,null,24.0,28.0,null,34.0,45.5,18.0,2.0,32.0,26.0,16.0,40.0,24.0,35.0,22.0,30.0,null,31.0,27.0,42.0,32.0,30.0,16.0,27.0,51.0,null,38.0,22.0,19.0,20.5,18.0,null,35.0,29.0,59.0,5.0,24.0,null,44.0,8.0,19.0,33.0,null,null,29.0,22.0,30.0,44.0,25.0,24.0,37.0,54.0,null,29.0,62.0,30.0,41.0,29.0,null,30.0,35.0,50.0,null,3.0,52.0,40.0,null,36.0,16.0,25.0,58.0,35.0,null,25.0,41.0,37.0,null,63.0,45.0,null,7.0,35.0,65.0,28.0,16.0,19.0,null,33.0,30.0,22.0,42.0,22.0,26.0,19.0,36.0,24.0,24.0,null,23.5,2.0,null,50.0,null,null,19.0,null,null,0.92,null,17.0,30.0,30.0,24.0,18.0,26.0,28.0,43.0,26.0,24.0,54.0,31.0,40.0,22.0,27.0,30.0,22.0,null,36.0,61.0,36.0,31.0,16.0,null,45.5,38.0,16.0,null,null,29.0,41.0,45.0,45.0,2.0,24.0,28.0,25.0,36.0,24.0,40.0,null,3.0,42.0,23.0,null,15.0,25.0,null,28.0,22.0,38.0,null,null,40.0,29.0,45.0,35.0,null,30.0,60.0,null,null,24.0,25.0,18.0,19.0,22.0,3.0,null,22.0,27.0,20.0,19.0,42.0,1.0,32.0,35.0,null,18.0,1.0,36.0,null,17.0,36.0,21.0,28.0,23.0,24.0,22.0,31.0,46.0,23.0,28.0,39.0,26.0,21.0,28.0,20.0,34.0,51.0,3.0,21.0,null,null,null,33.0,null,44.0,null,34.0,18.0,30.0,10.0,null,21.0,29.0,28.0,18.0,null,28.0,19.0,null,32.0,28.0,null,42.0,17.0,50.0,14.0,21.0,24.0,64.0,31.0,45.0,20.0,25.0,28.0,null,4.0,13.0,34.0,5.0,52.0,36.0,null,30.0,49.0,null,29.0,65.0,null,50.0,null,48.0,34.0,47.0,48.0,null,38.0,null,56.0,null,0.75,null,38.0,33.0,23.0,22.0,null,34.0,29.0,22.0,2.0,9.0,null,50.0,63.0,25.0,null,35.0,58.0,30.0,9.0,null,21.0,55.0,71.0,21.0,null,54.0,null,25.0,24.0,17.0,21.0,null,37.0,16.0,18.0,33.0,null,28.0,26.0,29.0,null,36.0,54.0,24.0,47.0,34.0,null,36.0,32.0,30.0,22.0,null,44.0,null,40.5,50.0,null,39.0,23.0,2.0,null,17.0,null,30.0,7.0,45.0,30.0,null,22.0,36.0,9.0,11.0,32.0,50.0,64.0,19.0,null,33.0,8.0,17.0,27.0,null,22.0,22.0,62.0,48.0,null,39.0,36.0,null,40.0,28.0,null,null,24.0,19.0,29.0,null,32.0,62.0,53.0,36.0,null,16.0,19.0,34.0,39.0,null,32.0,25.0,39.0,54.0,36.0,null,18.0,47.0,60.0,22.0,null,35.0,52.0,47.0,null,37.0,36.0,null,49.0,null,49.0,24.0,null,null,44.0,35.0,36.0,30.0,27.0,22.0,40.0,39.0,null,null,null,35.0,24.0,34.0,26.0,4.0,26.0,27.0,42.0,20.0,21.0,21.0,61.0,57.0,21.0,26.0,null,80.0,51.0,32.0,null,9.0,28.0,32.0,31.0,41.0,null,20.0,24.0,2.0,null,0.75,48.0,19.0,56.0,null,23.0,null,18.0,21.0,null,18.0,24.0,null,32.0,23.0,58.0,50.0,40.0,47.0,36.0,20.0,32.0,25.0,null,43.0,null,40.0,31.0,70.0,31.0,null,18.0,24.5,18.0,43.0,36.0,null,27.0,20.0,14.0,60.0,25.0,14.0,19.0,18.0,15.0,31.0,4.0,null,25.0,60.0,52.0,44.0,null,49.0,42.0,18.0,35.0,18.0,25.0,26.0,39.0,45.0,42.0,22.0,null,24.0,null,48.0,29.0,52.0,19.0,38.0,27.0,null,33.0,6.0,17.0,34.0,50.0,27.0,20.0,30.0,null,25.0,25.0,29.0,11.0,null,23.0,23.0,28.5,48.0,35.0,null,null,null,36.0,21.0,24.0,31.0,70.0,16.0,30.0,19.0,31.0,4.0,6.0,33.0,23.0,48.0,0.67,28.0,18.0,34.0,33.0,null,41.0,20.0,36.0,16.0,51.0,null,30.5,null,32.0,24.0,48.0,57.0,null,54.0,18.0,null,5.0,null,43.0,13.0,17.0,29.0,null,25.0,25.0,18.0,8.0,1.0,46.0,null,16.0,null,null,25.0,39.0,49.0,31.0,30.0,30.0,34.0,31.0,11.0,0.42,27.0,31.0,39.0,18.0,39.0,33.0,26.0,39.0,35.0,6.0,30.5,null,23.0,31.0,43.0,10.0,52.0,27.0,38.0,27.0,2.0,null,null,1.0,null,62.0,15.0,0.83,null,23.0,18.0,39.0,21.0,null,32.0,null,20.0,16.0,30.0,34.5,17.0,42.0,null,35.0,28.0,null,4.0,74.0,9.0,16.0,44.0,18.0,45.0,51.0,24.0,null,41.0,21.0,48.0,null,24.0,42.0,27.0,31.0,null,4.0,26.0,47.0,33.0,47.0,28.0,15.0,20.0,19.0,null,56.0,25.0,33.0,22.0,28.0,25.0,39.0,27.0,19.0,null,26.0,32.0],\"yaxis\":\"y\"}],                        {\"coloraxis\":{\"colorbar\":{\"title\":{\"text\":\"Survived\"}},\"colorscale\":[[0.0,\"#0d0887\"],[0.1111111111111111,\"#46039f\"],[0.2222222222222222,\"#7201a8\"],[0.3333333333333333,\"#9c179e\"],[0.4444444444444444,\"#bd3786\"],[0.5555555555555556,\"#d8576b\"],[0.6666666666666666,\"#ed7953\"],[0.7777777777777778,\"#fb9f3a\"],[0.8888888888888888,\"#fdca26\"],[1.0,\"#f0f921\"]]},\"legend\":{\"tracegroupgap\":0},\"margin\":{\"t\":60},\"template\":{\"data\":{\"bar\":[{\"error_x\":{\"color\":\"#2a3f5f\"},\"error_y\":{\"color\":\"#2a3f5f\"},\"marker\":{\"line\":{\"color\":\"#E5ECF6\",\"width\":0.5},\"pattern\":{\"fillmode\":\"overlay\",\"size\":10,\"solidity\":0.2}},\"type\":\"bar\"}],\"barpolar\":[{\"marker\":{\"line\":{\"color\":\"#E5ECF6\",\"width\":0.5},\"pattern\":{\"fillmode\":\"overlay\",\"size\":10,\"solidity\":0.2}},\"type\":\"barpolar\"}],\"carpet\":[{\"aaxis\":{\"endlinecolor\":\"#2a3f5f\",\"gridcolor\":\"white\",\"linecolor\":\"white\",\"minorgridcolor\":\"white\",\"startlinecolor\":\"#2a3f5f\"},\"baxis\":{\"endlinecolor\":\"#2a3f5f\",\"gridcolor\":\"white\",\"linecolor\":\"white\",\"minorgridcolor\":\"white\",\"startlinecolor\":\"#2a3f5f\"},\"type\":\"carpet\"}],\"choropleth\":[{\"colorbar\":{\"outlinewidth\":0,\"ticks\":\"\"},\"type\":\"choropleth\"}],\"contour\":[{\"colorbar\":{\"outlinewidth\":0,\"ticks\":\"\"},\"colorscale\":[[0.0,\"#0d0887\"],[0.1111111111111111,\"#46039f\"],[0.2222222222222222,\"#7201a8\"],[0.3333333333333333,\"#9c179e\"],[0.4444444444444444,\"#bd3786\"],[0.5555555555555556,\"#d8576b\"],[0.6666666666666666,\"#ed7953\"],[0.7777777777777778,\"#fb9f3a\"],[0.8888888888888888,\"#fdca26\"],[1.0,\"#f0f921\"]],\"type\":\"contour\"}],\"contourcarpet\":[{\"colorbar\":{\"outlinewidth\":0,\"ticks\":\"\"},\"type\":\"contourcarpet\"}],\"heatmap\":[{\"colorbar\":{\"outlinewidth\":0,\"ticks\":\"\"},\"colorscale\":[[0.0,\"#0d0887\"],[0.1111111111111111,\"#46039f\"],[0.2222222222222222,\"#7201a8\"],[0.3333333333333333,\"#9c179e\"],[0.4444444444444444,\"#bd3786\"],[0.5555555555555556,\"#d8576b\"],[0.6666666666666666,\"#ed7953\"],[0.7777777777777778,\"#fb9f3a\"],[0.8888888888888888,\"#fdca26\"],[1.0,\"#f0f921\"]],\"type\":\"heatmap\"}],\"heatmapgl\":[{\"colorbar\":{\"outlinewidth\":0,\"ticks\":\"\"},\"colorscale\":[[0.0,\"#0d0887\"],[0.1111111111111111,\"#46039f\"],[0.2222222222222222,\"#7201a8\"],[0.3333333333333333,\"#9c179e\"],[0.4444444444444444,\"#bd3786\"],[0.5555555555555556,\"#d8576b\"],[0.6666666666666666,\"#ed7953\"],[0.7777777777777778,\"#fb9f3a\"],[0.8888888888888888,\"#fdca26\"],[1.0,\"#f0f921\"]],\"type\":\"heatmapgl\"}],\"histogram\":[{\"marker\":{\"pattern\":{\"fillmode\":\"overlay\",\"size\":10,\"solidity\":0.2}},\"type\":\"histogram\"}],\"histogram2d\":[{\"colorbar\":{\"outlinewidth\":0,\"ticks\":\"\"},\"colorscale\":[[0.0,\"#0d0887\"],[0.1111111111111111,\"#46039f\"],[0.2222222222222222,\"#7201a8\"],[0.3333333333333333,\"#9c179e\"],[0.4444444444444444,\"#bd3786\"],[0.5555555555555556,\"#d8576b\"],[0.6666666666666666,\"#ed7953\"],[0.7777777777777778,\"#fb9f3a\"],[0.8888888888888888,\"#fdca26\"],[1.0,\"#f0f921\"]],\"type\":\"histogram2d\"}],\"histogram2dcontour\":[{\"colorbar\":{\"outlinewidth\":0,\"ticks\":\"\"},\"colorscale\":[[0.0,\"#0d0887\"],[0.1111111111111111,\"#46039f\"],[0.2222222222222222,\"#7201a8\"],[0.3333333333333333,\"#9c179e\"],[0.4444444444444444,\"#bd3786\"],[0.5555555555555556,\"#d8576b\"],[0.6666666666666666,\"#ed7953\"],[0.7777777777777778,\"#fb9f3a\"],[0.8888888888888888,\"#fdca26\"],[1.0,\"#f0f921\"]],\"type\":\"histogram2dcontour\"}],\"mesh3d\":[{\"colorbar\":{\"outlinewidth\":0,\"ticks\":\"\"},\"type\":\"mesh3d\"}],\"parcoords\":[{\"line\":{\"colorbar\":{\"outlinewidth\":0,\"ticks\":\"\"}},\"type\":\"parcoords\"}],\"pie\":[{\"automargin\":true,\"type\":\"pie\"}],\"scatter\":[{\"marker\":{\"colorbar\":{\"outlinewidth\":0,\"ticks\":\"\"}},\"type\":\"scatter\"}],\"scatter3d\":[{\"line\":{\"colorbar\":{\"outlinewidth\":0,\"ticks\":\"\"}},\"marker\":{\"colorbar\":{\"outlinewidth\":0,\"ticks\":\"\"}},\"type\":\"scatter3d\"}],\"scattercarpet\":[{\"marker\":{\"colorbar\":{\"outlinewidth\":0,\"ticks\":\"\"}},\"type\":\"scattercarpet\"}],\"scattergeo\":[{\"marker\":{\"colorbar\":{\"outlinewidth\":0,\"ticks\":\"\"}},\"type\":\"scattergeo\"}],\"scattergl\":[{\"marker\":{\"colorbar\":{\"outlinewidth\":0,\"ticks\":\"\"}},\"type\":\"scattergl\"}],\"scattermapbox\":[{\"marker\":{\"colorbar\":{\"outlinewidth\":0,\"ticks\":\"\"}},\"type\":\"scattermapbox\"}],\"scatterpolar\":[{\"marker\":{\"colorbar\":{\"outlinewidth\":0,\"ticks\":\"\"}},\"type\":\"scatterpolar\"}],\"scatterpolargl\":[{\"marker\":{\"colorbar\":{\"outlinewidth\":0,\"ticks\":\"\"}},\"type\":\"scatterpolargl\"}],\"scatterternary\":[{\"marker\":{\"colorbar\":{\"outlinewidth\":0,\"ticks\":\"\"}},\"type\":\"scatterternary\"}],\"surface\":[{\"colorbar\":{\"outlinewidth\":0,\"ticks\":\"\"},\"colorscale\":[[0.0,\"#0d0887\"],[0.1111111111111111,\"#46039f\"],[0.2222222222222222,\"#7201a8\"],[0.3333333333333333,\"#9c179e\"],[0.4444444444444444,\"#bd3786\"],[0.5555555555555556,\"#d8576b\"],[0.6666666666666666,\"#ed7953\"],[0.7777777777777778,\"#fb9f3a\"],[0.8888888888888888,\"#fdca26\"],[1.0,\"#f0f921\"]],\"type\":\"surface\"}],\"table\":[{\"cells\":{\"fill\":{\"color\":\"#EBF0F8\"},\"line\":{\"color\":\"white\"}},\"header\":{\"fill\":{\"color\":\"#C8D4E3\"},\"line\":{\"color\":\"white\"}},\"type\":\"table\"}]},\"layout\":{\"annotationdefaults\":{\"arrowcolor\":\"#2a3f5f\",\"arrowhead\":0,\"arrowwidth\":1},\"autotypenumbers\":\"strict\",\"coloraxis\":{\"colorbar\":{\"outlinewidth\":0,\"ticks\":\"\"}},\"colorscale\":{\"diverging\":[[0,\"#8e0152\"],[0.1,\"#c51b7d\"],[0.2,\"#de77ae\"],[0.3,\"#f1b6da\"],[0.4,\"#fde0ef\"],[0.5,\"#f7f7f7\"],[0.6,\"#e6f5d0\"],[0.7,\"#b8e186\"],[0.8,\"#7fbc41\"],[0.9,\"#4d9221\"],[1,\"#276419\"]],\"sequential\":[[0.0,\"#0d0887\"],[0.1111111111111111,\"#46039f\"],[0.2222222222222222,\"#7201a8\"],[0.3333333333333333,\"#9c179e\"],[0.4444444444444444,\"#bd3786\"],[0.5555555555555556,\"#d8576b\"],[0.6666666666666666,\"#ed7953\"],[0.7777777777777778,\"#fb9f3a\"],[0.8888888888888888,\"#fdca26\"],[1.0,\"#f0f921\"]],\"sequentialminus\":[[0.0,\"#0d0887\"],[0.1111111111111111,\"#46039f\"],[0.2222222222222222,\"#7201a8\"],[0.3333333333333333,\"#9c179e\"],[0.4444444444444444,\"#bd3786\"],[0.5555555555555556,\"#d8576b\"],[0.6666666666666666,\"#ed7953\"],[0.7777777777777778,\"#fb9f3a\"],[0.8888888888888888,\"#fdca26\"],[1.0,\"#f0f921\"]]},\"colorway\":[\"#636efa\",\"#EF553B\",\"#00cc96\",\"#ab63fa\",\"#FFA15A\",\"#19d3f3\",\"#FF6692\",\"#B6E880\",\"#FF97FF\",\"#FECB52\"],\"font\":{\"color\":\"#2a3f5f\"},\"geo\":{\"bgcolor\":\"white\",\"lakecolor\":\"white\",\"landcolor\":\"#E5ECF6\",\"showlakes\":true,\"showland\":true,\"subunitcolor\":\"white\"},\"hoverlabel\":{\"align\":\"left\"},\"hovermode\":\"closest\",\"mapbox\":{\"style\":\"light\"},\"paper_bgcolor\":\"white\",\"plot_bgcolor\":\"#E5ECF6\",\"polar\":{\"angularaxis\":{\"gridcolor\":\"white\",\"linecolor\":\"white\",\"ticks\":\"\"},\"bgcolor\":\"#E5ECF6\",\"radialaxis\":{\"gridcolor\":\"white\",\"linecolor\":\"white\",\"ticks\":\"\"}},\"scene\":{\"xaxis\":{\"backgroundcolor\":\"#E5ECF6\",\"gridcolor\":\"white\",\"gridwidth\":2,\"linecolor\":\"white\",\"showbackground\":true,\"ticks\":\"\",\"zerolinecolor\":\"white\"},\"yaxis\":{\"backgroundcolor\":\"#E5ECF6\",\"gridcolor\":\"white\",\"gridwidth\":2,\"linecolor\":\"white\",\"showbackground\":true,\"ticks\":\"\",\"zerolinecolor\":\"white\"},\"zaxis\":{\"backgroundcolor\":\"#E5ECF6\",\"gridcolor\":\"white\",\"gridwidth\":2,\"linecolor\":\"white\",\"showbackground\":true,\"ticks\":\"\",\"zerolinecolor\":\"white\"}},\"shapedefaults\":{\"line\":{\"color\":\"#2a3f5f\"}},\"ternary\":{\"aaxis\":{\"gridcolor\":\"white\",\"linecolor\":\"white\",\"ticks\":\"\"},\"baxis\":{\"gridcolor\":\"white\",\"linecolor\":\"white\",\"ticks\":\"\"},\"bgcolor\":\"#E5ECF6\",\"caxis\":{\"gridcolor\":\"white\",\"linecolor\":\"white\",\"ticks\":\"\"}},\"title\":{\"x\":0.05},\"xaxis\":{\"automargin\":true,\"gridcolor\":\"white\",\"linecolor\":\"white\",\"ticks\":\"\",\"title\":{\"standoff\":15},\"zerolinecolor\":\"white\",\"zerolinewidth\":2},\"yaxis\":{\"automargin\":true,\"gridcolor\":\"white\",\"linecolor\":\"white\",\"ticks\":\"\",\"title\":{\"standoff\":15},\"zerolinecolor\":\"white\",\"zerolinewidth\":2}}},\"xaxis\":{\"anchor\":\"y\",\"domain\":[0.0,1.0],\"title\":{\"text\":\"PassengerId\"}},\"yaxis\":{\"anchor\":\"x\",\"domain\":[0.0,1.0],\"title\":{\"text\":\"Age\"}}},                        {\"responsive\": true}                    ).then(function(){\n",
       "                            \n",
       "var gd = document.getElementById('7dd7f61c-6bd3-4ca3-84f1-a015b800fcae');\n",
       "var x = new MutationObserver(function (mutations, observer) {{\n",
       "        var display = window.getComputedStyle(gd).display;\n",
       "        if (!display || display === 'none') {{\n",
       "            console.log([gd, 'removed!']);\n",
       "            Plotly.purge(gd);\n",
       "            observer.disconnect();\n",
       "        }}\n",
       "}});\n",
       "\n",
       "// Listen for the removal of the full notebook cells\n",
       "var notebookContainer = gd.closest('#notebook-container');\n",
       "if (notebookContainer) {{\n",
       "    x.observe(notebookContainer, {childList: true});\n",
       "}}\n",
       "\n",
       "// Listen for the clearing of the current output cell\n",
       "var outputEl = gd.closest('.output');\n",
       "if (outputEl) {{\n",
       "    x.observe(outputEl, {childList: true});\n",
       "}}\n",
       "\n",
       "                        })                };                });            </script>        </div>"
      ]
     },
     "metadata": {},
     "output_type": "display_data"
    }
   ],
   "source": [
    "px.scatter(train_df, x='PassengerId', y='Age', color='Survived')"
   ]
  },
  {
   "cell_type": "markdown",
   "id": "53e63ea4",
   "metadata": {
    "papermill": {
     "duration": 0.081456,
     "end_time": "2021-11-17T11:52:56.031568",
     "exception": false,
     "start_time": "2021-11-17T11:52:55.950112",
     "status": "completed"
    },
    "tags": []
   },
   "source": [
    "Mr. Algernon Henry Wilson looks like an outlier to me. He's the only person his Age that survived. I'll remove it from the test set. "
   ]
  },
  {
   "cell_type": "code",
   "execution_count": 5,
   "id": "8cf2a17d",
   "metadata": {
    "execution": {
     "iopub.execute_input": "2021-11-17T11:52:56.199744Z",
     "iopub.status.busy": "2021-11-17T11:52:56.199100Z",
     "iopub.status.idle": "2021-11-17T11:52:56.206524Z",
     "shell.execute_reply": "2021-11-17T11:52:56.207267Z",
     "shell.execute_reply.started": "2021-11-17T11:51:02.089927Z"
    },
    "papermill": {
     "duration": 0.093855,
     "end_time": "2021-11-17T11:52:56.207457",
     "exception": false,
     "start_time": "2021-11-17T11:52:56.113602",
     "status": "completed"
    },
    "tags": []
   },
   "outputs": [
    {
     "data": {
      "text/plain": [
       "PassengerId                                     631\n",
       "Survived                                          1\n",
       "Pclass                                            1\n",
       "Name           Barkworth, Mr. Algernon Henry Wilson\n",
       "Sex                                            male\n",
       "Age                                            80.0\n",
       "SibSp                                             0\n",
       "Parch                                             0\n",
       "Ticket                                        27042\n",
       "Fare                                           30.0\n",
       "Cabin                                           A23\n",
       "Embarked                                          S\n",
       "Name: 630, dtype: object"
      ]
     },
     "execution_count": 5,
     "metadata": {},
     "output_type": "execute_result"
    }
   ],
   "source": [
    "train_df.iloc[630]"
   ]
  },
  {
   "cell_type": "code",
   "execution_count": 6,
   "id": "f219b271",
   "metadata": {
    "execution": {
     "iopub.execute_input": "2021-11-17T11:52:56.371202Z",
     "iopub.status.busy": "2021-11-17T11:52:56.370502Z",
     "iopub.status.idle": "2021-11-17T11:52:56.376090Z",
     "shell.execute_reply": "2021-11-17T11:52:56.376626Z",
     "shell.execute_reply.started": "2021-11-17T11:51:02.101300Z"
    },
    "papermill": {
     "duration": 0.089476,
     "end_time": "2021-11-17T11:52:56.376838",
     "exception": false,
     "start_time": "2021-11-17T11:52:56.287362",
     "status": "completed"
    },
    "tags": []
   },
   "outputs": [],
   "source": [
    "train_df.drop([630], inplace=True)"
   ]
  },
  {
   "cell_type": "markdown",
   "id": "fca3f941",
   "metadata": {
    "papermill": {
     "duration": 0.085223,
     "end_time": "2021-11-17T11:52:56.545578",
     "exception": false,
     "start_time": "2021-11-17T11:52:56.460355",
     "status": "completed"
    },
    "tags": []
   },
   "source": [
    "## Survival by Sex"
   ]
  },
  {
   "cell_type": "markdown",
   "id": "8d8b9619",
   "metadata": {
    "papermill": {
     "duration": 0.080942,
     "end_time": "2021-11-17T11:52:56.706468",
     "exception": false,
     "start_time": "2021-11-17T11:52:56.625526",
     "status": "completed"
    },
    "tags": []
   },
   "source": [
    "\"Women and children first!\" \n",
    "\n",
    "1921 was probably not a great time to be a woman. On the bright side, you would have had a bigger chance of surviving the Titanic disaster!"
   ]
  },
  {
   "cell_type": "code",
   "execution_count": 7,
   "id": "5db6d2d3",
   "metadata": {
    "execution": {
     "iopub.execute_input": "2021-11-17T11:52:56.880011Z",
     "iopub.status.busy": "2021-11-17T11:52:56.879249Z",
     "iopub.status.idle": "2021-11-17T11:52:57.431281Z",
     "shell.execute_reply": "2021-11-17T11:52:57.431803Z",
     "shell.execute_reply.started": "2021-11-17T11:51:02.114856Z"
    },
    "papermill": {
     "duration": 0.64379,
     "end_time": "2021-11-17T11:52:57.431978",
     "exception": false,
     "start_time": "2021-11-17T11:52:56.788188",
     "status": "completed"
    },
    "tags": []
   },
   "outputs": [
    {
     "data": {
      "image/png": "[encoded data removed]",
      "text/plain": [
       "<Figure size 1080x360 with 2 Axes>"
      ]
     },
     "metadata": {
      "needs_background": "light"
     },
     "output_type": "display_data"
    }
   ],
   "source": [
    "bins = np.linspace(-2, 3, 10)\n",
    "g = sns.FacetGrid(train_df, col=\"Sex\", hue=\"Survived\", palette=\"Set1\", height=5, aspect=1.5, col_wrap=2)\n",
    "g.map(plt.hist, 'Survived', bins=bins, ec='k')\n",
    "\n",
    "g.axes[-1].legend()\n",
    "g.axes[0].set_ylabel('Value Count')\n",
    "\n",
    "g.axes[0].set_xlabel('')\n",
    "g.axes[1].set_xlabel('')\n",
    "\n",
    "g.axes[0].set_xticks([0, 1])\n",
    "g.axes[0].set_xticklabels(['Dead ', 'Survived'])\n",
    "\n",
    "plt.show()"
   ]
  },
  {
   "cell_type": "markdown",
   "id": "4be57091",
   "metadata": {
    "papermill": {
     "duration": 0.081286,
     "end_time": "2021-11-17T11:52:57.594652",
     "exception": false,
     "start_time": "2021-11-17T11:52:57.513366",
     "status": "completed"
    },
    "tags": []
   },
   "source": [
    "## Survival by Passenger Class"
   ]
  },
  {
   "cell_type": "markdown",
   "id": "dc00e573",
   "metadata": {
    "papermill": {
     "duration": 0.079713,
     "end_time": "2021-11-17T11:52:57.758160",
     "exception": false,
     "start_time": "2021-11-17T11:52:57.678447",
     "status": "completed"
    },
    "tags": []
   },
   "source": [
    "Unsurprisingly, going down from upper to lower class the ratio dead/survived increases. The wealthy first  passengers were saved, while the peasants were left to drown... way to go, Titanic crew!"
   ]
  },
  {
   "cell_type": "code",
   "execution_count": 8,
   "id": "7a00e613",
   "metadata": {
    "execution": {
     "iopub.execute_input": "2021-11-17T11:52:57.926495Z",
     "iopub.status.busy": "2021-11-17T11:52:57.925427Z",
     "iopub.status.idle": "2021-11-17T11:52:58.572690Z",
     "shell.execute_reply": "2021-11-17T11:52:58.573340Z",
     "shell.execute_reply.started": "2021-11-17T11:51:02.866905Z"
    },
    "papermill": {
     "duration": 0.733867,
     "end_time": "2021-11-17T11:52:58.573545",
     "exception": false,
     "start_time": "2021-11-17T11:52:57.839678",
     "status": "completed"
    },
    "tags": []
   },
   "outputs": [
    {
     "data": {
      "image/png": "[encoded data removed]",
      "text/plain": [
       "<Figure size 1620x360 with 3 Axes>"
      ]
     },
     "metadata": {
      "needs_background": "light"
     },
     "output_type": "display_data"
    }
   ],
   "source": [
    "bins = np.linspace(-2, 2, 10)\n",
    "g = sns.FacetGrid(train_df, col=\"Pclass\", hue=\"Survived\", height=5, aspect=1.5, palette=\"Set1\", col_wrap=3)\n",
    "g.map(plt.hist, 'Survived', bins=bins, ec='k')\n",
    "g.axes[0].set_ylabel('Value Count')\n",
    "\n",
    "for i in range(3):\n",
    "    g.axes[i].set_xlabel('')\n",
    "\n",
    "g.axes[0].set_xticks([0, 1])\n",
    "g.axes[0].set_xticklabels(['Dead ', 'Survived'])\n",
    "g.axes[-1].legend()\n",
    "plt.show()"
   ]
  },
  {
   "cell_type": "markdown",
   "id": "6477218e",
   "metadata": {
    "papermill": {
     "duration": 0.080581,
     "end_time": "2021-11-17T11:52:58.735621",
     "exception": false,
     "start_time": "2021-11-17T11:52:58.655040",
     "status": "completed"
    },
    "tags": []
   },
   "source": [
    "It also looks like there's a correlation between Fare and Survival rate among upper class passengers. There are only three passengers that paid a Fare around 500. I am not sure whether these should be treated as outliers. It does make sense that those who were the whealthiest among the whealthy were saved. It's appalling, but it does make sense. Let's try with and without them."
   ]
  },
  {
   "cell_type": "code",
   "execution_count": 9,
   "id": "69b06f7a",
   "metadata": {
    "execution": {
     "iopub.execute_input": "2021-11-17T11:52:58.908237Z",
     "iopub.status.busy": "2021-11-17T11:52:58.907379Z",
     "iopub.status.idle": "2021-11-17T11:52:58.910057Z",
     "shell.execute_reply": "2021-11-17T11:52:58.910500Z",
     "shell.execute_reply.started": "2021-11-17T11:51:03.490792Z"
    },
    "papermill": {
     "duration": 0.0944,
     "end_time": "2021-11-17T11:52:58.910693",
     "exception": false,
     "start_time": "2021-11-17T11:52:58.816293",
     "status": "completed"
    },
    "tags": []
   },
   "outputs": [],
   "source": [
    "# Subtracting one to match passenger id with index\n",
    "train_df.drop([258], inplace=True)\n",
    "train_df.drop([679], inplace=True)\n",
    "train_df.drop([737], inplace=True)"
   ]
  },
  {
   "cell_type": "markdown",
   "id": "9211df1d",
   "metadata": {
    "papermill": {
     "duration": 0.0808,
     "end_time": "2021-11-17T11:52:59.072989",
     "exception": false,
     "start_time": "2021-11-17T11:52:58.992189",
     "status": "completed"
    },
    "tags": []
   },
   "source": [
    "It looks like the prediction accuracies don't change with or without those data points. (comment or delete the previous cell to see those points in the graph below)"
   ]
  },
  {
   "cell_type": "code",
   "execution_count": 10,
   "id": "7f25b65e",
   "metadata": {
    "execution": {
     "iopub.execute_input": "2021-11-17T11:52:59.254273Z",
     "iopub.status.busy": "2021-11-17T11:52:59.249829Z",
     "iopub.status.idle": "2021-11-17T11:52:59.362529Z",
     "shell.execute_reply": "2021-11-17T11:52:59.361911Z",
     "shell.execute_reply.started": "2021-11-17T11:51:03.501135Z"
    },
    "papermill": {
     "duration": 0.207125,
     "end_time": "2021-11-17T11:52:59.362702",
     "exception": false,
     "start_time": "2021-11-17T11:52:59.155577",
     "status": "completed"
    },
    "tags": []
   },
   "outputs": [
    {
     "data": {
      "text/html": [
       "<div>                            <div id=\"f03cbd43-e9a4-47c8-9127-62012ad3442e\" class=\"plotly-graph-div\" style=\"height:525px; width:100%;\"></div>            <script type=\"text/javascript\">                require([\"plotly\"], function(Plotly) {                    window.PLOTLYENV=window.PLOTLYENV || {};                                    if (document.getElementById(\"f03cbd43-e9a4-47c8-9127-62012ad3442e\")) {                    Plotly.newPlot(                        \"f03cbd43-e9a4-47c8-9127-62012ad3442e\",                        [{\"hovertemplate\":\"PassengerId=%{x}<br>Fare=%{y}<br>Pclass=%{z}<br>Survived=%{marker.color}<extra></extra>\",\"legendgroup\":\"\",\"marker\":{\"color\":[0,1,1,1,0,0,0,0,1,1,1,1,0,0,0,1,0,1,0,1,0,1,1,1,0,1,0,0,1,0,0,1,1,0,0,0,1,0,0,1,0,0,0,1,1,0,0,1,0,0,0,0,1,1,0,1,1,0,1,0,0,1,0,0,0,1,1,0,1,0,0,0,0,0,1,0,0,0,1,1,0,1,1,0,1,1,0,0,1,0,0,0,0,0,0,0,0,1,1,0,0,0,0,0,0,0,1,1,0,1,0,0,0,0,0,0,0,0,0,0,0,0,0,1,0,1,0,1,1,0,0,0,0,1,0,0,1,0,0,0,0,1,1,0,0,0,1,0,0,0,0,1,0,0,0,0,1,0,0,0,0,1,0,0,0,1,1,0,0,0,0,0,1,0,0,0,0,0,0,0,0,0,0,1,1,0,1,1,0,0,1,0,1,1,1,1,0,0,1,0,0,0,0,0,1,0,0,1,1,1,0,1,0,0,0,1,1,0,1,0,1,0,0,0,1,0,1,0,0,0,1,0,0,1,0,0,0,1,0,0,0,1,0,0,0,0,0,1,1,0,0,0,0,0,0,1,1,1,1,0,1,0,0,0,0,0,1,1,1,0,1,1,0,1,1,0,0,0,1,0,0,0,1,0,0,1,0,1,1,1,1,0,0,0,0,0,0,1,1,1,1,0,1,0,1,1,1,0,1,1,1,0,0,0,1,1,0,1,1,0,0,1,1,0,1,0,1,1,1,1,0,0,0,1,0,0,1,1,0,1,1,0,0,0,1,1,1,1,0,0,0,0,0,0,0,1,0,1,1,0,0,0,0,0,0,1,1,1,1,1,0,0,0,0,1,1,0,0,0,1,1,0,1,0,0,0,1,0,1,1,1,0,1,1,0,0,0,0,1,1,0,0,0,0,0,0,1,0,0,0,0,1,0,1,0,1,1,0,0,0,0,0,0,0,0,1,1,0,1,1,1,1,0,0,1,0,1,0,0,1,0,0,1,1,1,1,1,1,1,0,0,0,1,0,1,0,1,1,0,1,0,0,0,0,0,0,0,0,1,0,0,1,1,0,0,0,0,0,1,0,0,0,1,1,0,1,0,0,1,0,0,0,0,0,0,1,0,0,0,0,0,0,0,1,0,1,1,0,1,1,0,1,1,0,0,1,0,1,0,1,0,0,1,0,0,1,0,0,0,1,0,0,1,0,1,0,1,0,1,1,0,0,1,0,0,1,1,0,1,1,0,0,1,1,0,1,0,1,1,0,0,0,0,0,0,0,0,0,1,1,1,1,1,0,0,1,1,0,1,1,1,0,0,0,1,0,1,0,0,0,1,0,0,0,0,1,0,0,1,1,0,0,0,1,0,0,1,1,1,0,0,1,0,0,1,0,0,1,0,0,1,1,0,0,0,0,1,0,0,0,1,0,0,1,0,0,0,0,0,1,0,1,1,1,0,1,0,1,0,1,0,1,0,0,0,0,0,0,1,0,0,0,1,0,0,0,0,1,1,0,0,1,0,0,0,1,0,0,1,0,0,0,0,0,0,0,1,1,1,1,0,0,0,0,1,0,0,1,1,0,0,0,0,1,1,1,1,1,0,1,0,0,0,1,1,0,0,1,0,0,0,1,0,1,1,0,0,1,0,0,0,0,0,0,0,0,1,0,1,0,1,0,0,1,0,0,1,1,0,0,1,1,0,0,0,1,0,0,1,1,0,1,0,0,0,0,0,0,0,0,1,0,0,1,0,1,1,1,0,0,0,0,1,0,1,0,0,0,0,0,0,0,1,1,0,0,0,1,1,1,1,0,0,0,0,1,0,0,0,0,0,0,0,0,0,0,1,1,0,1,0,0,0,1,1,1,1,1,0,0,0,1,0,0,1,1,0,0,1,0,0,0,0,0,0,1,0,0,0,1,0,1,1,1,1,0,0,0,1,0,0,1,1,0,0,1,0,1,0,0,1,1,0,0,0,1,1,0,0,0,0,0,0,1,0,1,0],\"coloraxis\":\"coloraxis\",\"symbol\":\"circle\"},\"mode\":\"markers\",\"name\":\"\",\"scene\":\"scene\",\"showlegend\":false,\"type\":\"scatter3d\",\"x\":[1,2,3,4,5,6,7,8,9,10,11,12,13,14,15,16,17,18,19,20,21,22,23,24,25,26,27,28,29,30,31,32,33,34,35,36,37,38,39,40,41,42,43,44,45,46,47,48,49,50,51,52,53,54,55,56,57,58,59,60,61,62,63,64,65,66,67,68,69,70,71,72,73,74,75,76,77,78,79,80,81,82,83,84,85,86,87,88,89,90,91,92,93,94,95,96,97,98,99,100,101,102,103,104,105,106,107,108,109,110,111,112,113,114,115,116,117,118,119,120,121,122,123,124,125,126,127,128,129,130,131,132,133,134,135,136,137,138,139,140,141,142,143,144,145,146,147,148,149,150,151,152,153,154,155,156,157,158,159,160,161,162,163,164,165,166,167,168,169,170,171,172,173,174,175,176,177,178,179,180,181,182,183,184,185,186,187,188,189,190,191,192,193,194,195,196,197,198,199,200,201,202,203,204,205,206,207,208,209,210,211,212,213,214,215,216,217,218,219,220,221,222,223,224,225,226,227,228,229,230,231,232,233,234,235,236,237,238,239,240,241,242,243,244,245,246,247,248,249,250,251,252,253,254,255,256,257,258,260,261,262,263,264,265,266,267,268,269,270,271,272,273,274,275,276,277,278,279,280,281,282,283,284,285,286,287,288,289,290,291,292,293,294,295,296,297,298,299,300,301,302,303,304,305,306,307,308,309,310,311,312,313,314,315,316,317,318,319,320,321,322,323,324,325,326,327,328,329,330,331,332,333,334,335,336,337,338,339,340,341,342,343,344,345,346,347,348,349,350,351,352,353,354,355,356,357,358,359,360,361,362,363,364,365,366,367,368,369,370,371,372,373,374,375,376,377,378,379,380,381,382,383,384,385,386,387,388,389,390,391,392,393,394,395,396,397,398,399,400,401,402,403,404,405,406,407,408,409,410,411,412,413,414,415,416,417,418,419,420,421,422,423,424,425,426,427,428,429,430,431,432,433,434,435,436,437,438,439,440,441,442,443,444,445,446,447,448,449,450,451,452,453,454,455,456,457,458,459,460,461,462,463,464,465,466,467,468,469,470,471,472,473,474,475,476,477,478,479,480,481,482,483,484,485,486,487,488,489,490,491,492,493,494,495,496,497,498,499,500,501,502,503,504,505,506,507,508,509,510,511,512,513,514,515,516,517,518,519,520,521,522,523,524,525,526,527,528,529,530,531,532,533,534,535,536,537,538,539,540,541,542,543,544,545,546,547,548,549,550,551,552,553,554,555,556,557,558,559,560,561,562,563,564,565,566,567,568,569,570,571,572,573,574,575,576,577,578,579,580,581,582,583,584,585,586,587,588,589,590,591,592,593,594,595,596,597,598,599,600,601,602,603,604,605,606,607,608,609,610,611,612,613,614,615,616,617,618,619,620,621,622,623,624,625,626,627,628,629,630,632,633,634,635,636,637,638,639,640,641,642,643,644,645,646,647,648,649,650,651,652,653,654,655,656,657,658,659,660,661,662,663,664,665,666,667,668,669,670,671,672,673,674,675,676,677,678,679,681,682,683,684,685,686,687,688,689,690,691,692,693,694,695,696,697,698,699,700,701,702,703,704,705,706,707,708,709,710,711,712,713,714,715,716,717,718,719,720,721,722,723,724,725,726,727,728,729,730,731,732,733,734,735,736,737,739,740,741,742,743,744,745,746,747,748,749,750,751,752,753,754,755,756,757,758,759,760,761,762,763,764,765,766,767,768,769,770,771,772,773,774,775,776,777,778,779,780,781,782,783,784,785,786,787,788,789,790,791,792,793,794,795,796,797,798,799,800,801,802,803,804,805,806,807,808,809,810,811,812,813,814,815,816,817,818,819,820,821,822,823,824,825,826,827,828,829,830,831,832,833,834,835,836,837,838,839,840,841,842,843,844,845,846,847,848,849,850,851,852,853,854,855,856,857,858,859,860,861,862,863,864,865,866,867,868,869,870,871,872,873,874,875,876,877,878,879,880,881,882,883,884,885,886,887,888,889,890,891],\"y\":[7.25,71.2833,7.925,53.1,8.05,8.4583,51.8625,21.075,11.1333,30.0708,16.7,26.55,8.05,31.275,7.8542,16.0,29.125,13.0,18.0,7.225,26.0,13.0,8.0292,35.5,21.075,31.3875,7.225,263.0,7.8792,7.8958,27.7208,146.5208,7.75,10.5,82.1708,52.0,7.2292,8.05,18.0,11.2417,9.475,21.0,7.8958,41.5792,7.8792,8.05,15.5,7.75,21.6792,17.8,39.6875,7.8,76.7292,26.0,61.9792,35.5,10.5,7.2292,27.75,46.9,7.2292,80.0,83.475,27.9,27.7208,15.2458,10.5,8.1583,7.925,8.6625,10.5,46.9,73.5,14.4542,56.4958,7.65,7.8958,8.05,29.0,12.475,9.0,9.5,7.7875,47.1,10.5,15.85,34.375,8.05,263.0,8.05,8.05,7.8542,61.175,20.575,7.25,8.05,34.6542,63.3583,23.0,26.0,7.8958,7.8958,77.2875,8.6542,7.925,7.8958,7.65,7.775,7.8958,24.15,52.0,14.4542,8.05,9.825,14.4583,7.925,7.75,21.0,247.5208,31.275,73.5,8.05,30.0708,13.0,77.2875,11.2417,7.75,7.1417,22.3583,6.975,7.8958,7.05,14.5,26.0,13.0,15.0458,26.2833,53.1,9.2167,79.2,15.2458,7.75,15.85,6.75,11.5,36.75,7.7958,34.375,26.0,13.0,12.525,66.6,8.05,14.5,7.3125,61.3792,7.7333,8.05,8.6625,69.55,16.1,15.75,7.775,8.6625,39.6875,20.525,55.0,27.9,25.925,56.4958,33.5,29.125,11.1333,7.925,30.6958,7.8542,25.4667,28.7125,13.0,0.0,69.55,15.05,31.3875,39.0,22.025,50.0,15.5,26.55,15.5,7.8958,13.0,13.0,7.8542,26.0,27.7208,146.5208,7.75,8.4042,7.75,13.0,9.5,69.55,6.4958,7.225,8.05,10.4625,15.85,18.7875,7.75,31.0,7.05,21.0,7.25,13.0,7.75,113.275,7.925,27.0,76.2917,10.5,8.05,13.0,8.05,7.8958,90.0,9.35,10.5,7.25,13.0,25.4667,83.475,7.775,13.5,31.3875,10.5,7.55,26.0,26.25,10.5,12.275,14.4542,15.5,10.5,7.125,7.225,90.0,7.775,14.5,52.5542,26.0,7.25,10.4625,26.55,16.1,20.2125,15.2458,79.2,86.5,26.0,7.75,31.3875,79.65,0.0,7.75,10.5,39.6875,7.775,153.4625,135.6333,31.0,0.0,19.5,29.7,7.75,77.9583,7.75,0.0,29.125,20.25,7.75,7.8542,9.5,8.05,26.0,8.6625,9.5,7.8958,13.0,7.75,78.85,91.0792,12.875,8.85,7.8958,27.7208,7.2292,151.55,30.5,247.5208,7.75,23.25,0.0,12.35,8.05,151.55,110.8833,108.9,24.0,56.9292,83.1583,262.375,26.0,7.8958,26.25,7.8542,26.0,14.0,164.8667,134.5,7.25,7.8958,12.35,29.0,69.55,135.6333,6.2375,13.0,20.525,57.9792,23.25,28.5,153.4625,18.0,133.65,7.8958,66.6,134.5,8.05,35.5,26.0,263.0,13.0,13.0,13.0,13.0,13.0,16.1,15.9,8.6625,9.225,35.0,7.2292,17.8,7.225,9.5,55.0,13.0,7.8792,7.8792,27.9,27.7208,14.4542,7.05,15.5,7.25,75.25,7.2292,7.75,69.3,55.4417,6.4958,8.05,135.6333,21.075,82.1708,7.25,211.5,4.0125,7.775,227.525,15.7417,7.925,52.0,7.8958,73.5,46.9,13.0,7.7292,12.0,120.0,7.7958,7.925,113.275,16.7,7.7958,7.8542,26.0,10.5,12.65,7.925,8.05,9.825,15.85,8.6625,21.0,7.75,18.75,7.775,25.4667,7.8958,6.8583,90.0,0.0,7.925,8.05,32.5,13.0,13.0,24.15,7.8958,7.7333,7.875,14.4,20.2125,7.25,26.0,26.0,7.75,8.05,26.55,16.1,26.0,7.125,55.9,120.0,34.375,18.75,263.0,10.5,26.25,9.5,7.775,13.0,8.1125,81.8583,19.5,26.55,19.2583,30.5,27.75,19.9667,27.75,89.1042,8.05,7.8958,26.55,51.8625,10.5,7.75,26.55,8.05,38.5,13.0,8.05,7.05,0.0,26.55,7.725,19.2583,7.25,8.6625,27.75,13.7917,9.8375,52.0,21.0,7.0458,7.5208,12.2875,46.9,0.0,8.05,9.5875,91.0792,25.4667,90.0,29.7,8.05,15.9,19.9667,7.25,30.5,49.5042,8.05,14.4583,78.2667,15.1,151.55,7.7958,8.6625,7.75,7.6292,9.5875,86.5,108.9,26.0,26.55,22.525,56.4958,7.75,8.05,26.2875,59.4,7.4958,34.0208,10.5,24.15,26.0,7.8958,93.5,7.8958,7.225,57.9792,7.2292,7.75,10.5,221.7792,7.925,11.5,26.0,7.2292,7.2292,22.3583,8.6625,26.25,26.55,106.425,14.5,49.5,71.0,31.275,31.275,26.0,106.425,26.0,26.0,13.8625,20.525,36.75,110.8833,26.0,7.8292,7.225,7.775,26.55,39.6,227.525,79.65,17.4,7.75,7.8958,13.5,8.05,8.05,24.15,7.8958,21.075,7.2292,7.8542,10.5,51.4792,26.3875,7.75,8.05,14.5,13.0,55.9,14.4583,7.925,30.0,110.8833,26.0,40.125,8.7125,79.65,15.0,79.2,8.05,8.05,7.125,78.2667,7.25,7.75,26.0,24.15,33.0,0.0,7.225,56.9292,27.0,7.8958,42.4,8.05,26.55,15.55,7.8958,30.5,41.5792,153.4625,31.275,7.05,15.5,7.75,8.05,65.0,14.4,16.1,39.0,10.5,14.4542,52.5542,15.7417,7.8542,16.1,32.3208,12.35,77.9583,7.8958,7.7333,7.0542,30.5,0.0,27.9,13.0,7.925,26.25,39.6875,16.1,7.8542,69.3,27.9,56.4958,19.2583,76.7292,7.8958,35.5,7.55,7.55,7.8958,23.0,8.4333,7.8292,6.75,73.5,7.8958,15.5,13.0,113.275,133.65,7.225,25.5875,7.4958,7.925,73.5,13.0,7.775,8.05,52.0,39.0,52.0,10.5,13.0,0.0,7.775,8.05,9.8417,46.9,8.1375,76.7292,9.225,46.9,39.0,41.5792,39.6875,10.1708,7.7958,211.3375,57.0,13.4167,56.4958,7.225,26.55,13.5,8.05,7.7333,110.8833,7.65,227.525,26.2875,14.4542,7.7417,7.8542,26.0,13.5,26.2875,151.55,15.2458,49.5042,26.55,52.0,9.4833,13.0,7.65,227.525,10.5,15.5,7.775,33.0,7.0542,13.0,13.0,53.1,8.6625,21.0,7.7375,26.0,7.925,211.3375,18.7875,0.0,13.0,13.0,16.1,34.375,7.8958,7.8958,30.0,78.85,262.375,16.1,7.925,71.0,20.25,13.0,53.1,7.75,23.0,12.475,9.5,7.8958,65.0,14.5,7.7958,11.5,8.05,86.5,14.5,7.125,7.2292,120.0,7.775,77.9583,39.6,7.75,24.15,8.3625,9.5,7.8542,10.5,7.225,23.0,7.75,7.75,12.475,7.7375,211.3375,7.2292,57.0,30.0,23.45,7.05,7.25,7.4958,29.125,20.575,79.2,7.75,26.0,69.55,30.6958,7.8958,13.0,25.9292,8.6833,7.2292,24.15,13.0,26.25,120.0,8.5167,6.975,7.775,0.0,7.775,13.0,53.1,7.8875,24.15,10.5,31.275,8.05,0.0,7.925,37.0042,6.45,27.9,93.5,8.6625,0.0,12.475,39.6875,6.95,56.4958,37.0042,7.75,80.0,14.4542,18.75,7.2292,7.8542,8.3,83.1583,8.6625,8.05,56.4958,29.7,7.925,10.5,31.0,6.4375,8.6625,7.55,69.55,7.8958,33.0,89.1042,31.275,7.775,15.2458,39.4,26.0,9.35,164.8667,26.55,19.2583,7.2292,14.1083,11.5,25.9292,69.55,13.0,13.0,13.8583,50.4958,9.5,11.1333,7.8958,52.5542,5.0,9.0,24.0,7.225,9.8458,7.8958,7.8958,83.1583,26.0,7.8958,10.5167,10.5,7.05,29.125,13.0,30.0,23.45,30.0,7.75],\"z\":[3,1,3,1,3,3,1,3,3,2,3,1,3,3,3,2,3,2,3,3,2,2,3,1,3,3,3,1,3,3,1,1,3,2,1,1,3,3,3,3,3,2,3,2,3,3,3,3,3,3,3,3,1,2,1,1,2,3,2,3,3,1,1,3,1,3,2,3,3,3,2,3,2,3,3,3,3,3,2,3,3,3,3,1,2,3,3,3,1,3,3,3,1,3,3,3,1,1,2,2,3,3,1,3,3,3,3,3,3,3,1,3,3,3,3,3,3,2,1,3,2,3,2,2,1,3,3,3,3,3,3,3,3,2,2,2,1,1,3,1,3,3,3,3,2,2,3,3,2,2,2,1,3,3,3,1,3,3,3,3,3,2,3,3,3,3,1,3,1,3,1,3,3,3,1,3,3,1,2,3,3,2,3,2,3,1,3,1,3,3,2,2,3,2,1,1,3,3,3,2,3,3,3,3,3,3,3,3,3,1,3,2,3,2,3,1,3,2,1,2,3,2,3,3,1,3,2,3,2,3,1,3,2,3,2,3,2,2,2,2,3,3,2,3,3,1,3,2,1,2,3,3,1,3,3,3,1,1,2,3,3,1,1,3,2,3,3,1,1,1,3,2,1,3,1,3,2,3,3,3,3,3,3,1,3,3,3,2,3,1,1,2,3,3,1,3,1,1,1,3,3,3,2,3,1,1,1,2,1,1,1,2,3,2,3,2,2,1,1,3,3,2,2,3,1,3,2,3,1,3,1,1,3,1,3,1,1,3,1,2,1,2,2,2,2,2,3,3,3,3,1,3,3,3,3,1,2,3,3,3,2,3,3,3,3,1,3,3,1,1,3,3,1,3,1,3,1,3,3,1,3,3,1,3,2,3,2,3,2,1,3,3,1,3,3,3,2,2,2,3,3,3,3,3,2,3,2,3,3,3,3,1,2,3,3,2,2,2,3,3,3,3,3,3,3,2,2,3,3,1,3,2,3,1,1,3,2,1,2,2,3,3,2,3,1,2,1,3,1,2,3,1,1,3,3,1,1,2,3,1,3,1,2,3,3,2,1,3,3,3,3,2,2,3,1,2,3,3,3,3,2,3,3,1,3,1,1,3,3,3,3,1,1,3,3,1,3,1,3,3,3,3,3,1,1,2,1,3,3,3,3,1,1,3,1,2,3,2,3,1,3,3,1,3,3,2,1,3,2,2,3,3,3,3,2,1,1,3,1,1,3,3,2,1,1,2,2,3,2,1,2,3,3,3,1,1,1,1,3,3,3,2,3,3,3,3,3,3,3,2,1,1,3,3,3,2,1,3,3,2,1,2,1,3,1,2,1,3,3,3,1,3,3,2,3,2,3,3,1,2,3,1,3,1,3,3,1,2,1,3,3,3,3,3,2,3,3,2,2,3,1,3,3,3,1,2,1,3,3,3,1,1,3,2,3,2,3,3,3,1,3,3,3,1,3,1,3,3,3,2,3,3,3,2,3,3,2,1,1,3,1,3,3,2,2,3,3,1,2,1,2,2,2,3,3,3,3,3,1,3,3,2,2,3,3,3,1,1,3,3,3,1,2,3,3,1,3,1,1,3,3,3,2,2,1,1,3,1,1,1,3,2,3,1,2,3,3,2,3,2,2,1,3,2,3,2,3,1,3,2,2,2,3,3,3,3,1,1,1,3,3,1,3,2,1,3,2,3,3,3,2,2,3,2,3,1,3,3,3,1,3,1,1,3,3,3,3,3,2,3,2,3,3,3,3,1,3,1,1,3,3,3,3,3,3,1,3,2,3,1,3,2,1,3,3,3,2,2,1,3,3,3,1,3,2,1,3,3,2,3,3,1,3,2,3,3,1,3,1,3,3,3,3,2,3,1,3,2,3,3,3,1,3,3,3,1,3,2,1,3,3,3,3,3,2,1,3,3,3,1,2,3,1,1,3,3,3,2,1,3,2,2,2,1,3,3,3,1,1,3,2,3,3,3,3,1,2,3,3,2,3,3,2,1,3,1,3]}],                        {\"coloraxis\":{\"colorbar\":{\"title\":{\"text\":\"Survived\"}},\"colorscale\":[[0.0,\"#0d0887\"],[0.1111111111111111,\"#46039f\"],[0.2222222222222222,\"#7201a8\"],[0.3333333333333333,\"#9c179e\"],[0.4444444444444444,\"#bd3786\"],[0.5555555555555556,\"#d8576b\"],[0.6666666666666666,\"#ed7953\"],[0.7777777777777778,\"#fb9f3a\"],[0.8888888888888888,\"#fdca26\"],[1.0,\"#f0f921\"]]},\"legend\":{\"tracegroupgap\":0},\"margin\":{\"t\":60},\"scene\":{\"domain\":{\"x\":[0.0,1.0],\"y\":[0.0,1.0]},\"xaxis\":{\"title\":{\"text\":\"PassengerId\"}},\"yaxis\":{\"title\":{\"text\":\"Fare\"}},\"zaxis\":{\"title\":{\"text\":\"Pclass\"}}},\"template\":{\"data\":{\"bar\":[{\"error_x\":{\"color\":\"#2a3f5f\"},\"error_y\":{\"color\":\"#2a3f5f\"},\"marker\":{\"line\":{\"color\":\"#E5ECF6\",\"width\":0.5},\"pattern\":{\"fillmode\":\"overlay\",\"size\":10,\"solidity\":0.2}},\"type\":\"bar\"}],\"barpolar\":[{\"marker\":{\"line\":{\"color\":\"#E5ECF6\",\"width\":0.5},\"pattern\":{\"fillmode\":\"overlay\",\"size\":10,\"solidity\":0.2}},\"type\":\"barpolar\"}],\"carpet\":[{\"aaxis\":{\"endlinecolor\":\"#2a3f5f\",\"gridcolor\":\"white\",\"linecolor\":\"white\",\"minorgridcolor\":\"white\",\"startlinecolor\":\"#2a3f5f\"},\"baxis\":{\"endlinecolor\":\"#2a3f5f\",\"gridcolor\":\"white\",\"linecolor\":\"white\",\"minorgridcolor\":\"white\",\"startlinecolor\":\"#2a3f5f\"},\"type\":\"carpet\"}],\"choropleth\":[{\"colorbar\":{\"outlinewidth\":0,\"ticks\":\"\"},\"type\":\"choropleth\"}],\"contour\":[{\"colorbar\":{\"outlinewidth\":0,\"ticks\":\"\"},\"colorscale\":[[0.0,\"#0d0887\"],[0.1111111111111111,\"#46039f\"],[0.2222222222222222,\"#7201a8\"],[0.3333333333333333,\"#9c179e\"],[0.4444444444444444,\"#bd3786\"],[0.5555555555555556,\"#d8576b\"],[0.6666666666666666,\"#ed7953\"],[0.7777777777777778,\"#fb9f3a\"],[0.8888888888888888,\"#fdca26\"],[1.0,\"#f0f921\"]],\"type\":\"contour\"}],\"contourcarpet\":[{\"colorbar\":{\"outlinewidth\":0,\"ticks\":\"\"},\"type\":\"contourcarpet\"}],\"heatmap\":[{\"colorbar\":{\"outlinewidth\":0,\"ticks\":\"\"},\"colorscale\":[[0.0,\"#0d0887\"],[0.1111111111111111,\"#46039f\"],[0.2222222222222222,\"#7201a8\"],[0.3333333333333333,\"#9c179e\"],[0.4444444444444444,\"#bd3786\"],[0.5555555555555556,\"#d8576b\"],[0.6666666666666666,\"#ed7953\"],[0.7777777777777778,\"#fb9f3a\"],[0.8888888888888888,\"#fdca26\"],[1.0,\"#f0f921\"]],\"type\":\"heatmap\"}],\"heatmapgl\":[{\"colorbar\":{\"outlinewidth\":0,\"ticks\":\"\"},\"colorscale\":[[0.0,\"#0d0887\"],[0.1111111111111111,\"#46039f\"],[0.2222222222222222,\"#7201a8\"],[0.3333333333333333,\"#9c179e\"],[0.4444444444444444,\"#bd3786\"],[0.5555555555555556,\"#d8576b\"],[0.6666666666666666,\"#ed7953\"],[0.7777777777777778,\"#fb9f3a\"],[0.8888888888888888,\"#fdca26\"],[1.0,\"#f0f921\"]],\"type\":\"heatmapgl\"}],\"histogram\":[{\"marker\":{\"pattern\":{\"fillmode\":\"overlay\",\"size\":10,\"solidity\":0.2}},\"type\":\"histogram\"}],\"histogram2d\":[{\"colorbar\":{\"outlinewidth\":0,\"ticks\":\"\"},\"colorscale\":[[0.0,\"#0d0887\"],[0.1111111111111111,\"#46039f\"],[0.2222222222222222,\"#7201a8\"],[0.3333333333333333,\"#9c179e\"],[0.4444444444444444,\"#bd3786\"],[0.5555555555555556,\"#d8576b\"],[0.6666666666666666,\"#ed7953\"],[0.7777777777777778,\"#fb9f3a\"],[0.8888888888888888,\"#fdca26\"],[1.0,\"#f0f921\"]],\"type\":\"histogram2d\"}],\"histogram2dcontour\":[{\"colorbar\":{\"outlinewidth\":0,\"ticks\":\"\"},\"colorscale\":[[0.0,\"#0d0887\"],[0.1111111111111111,\"#46039f\"],[0.2222222222222222,\"#7201a8\"],[0.3333333333333333,\"#9c179e\"],[0.4444444444444444,\"#bd3786\"],[0.5555555555555556,\"#d8576b\"],[0.6666666666666666,\"#ed7953\"],[0.7777777777777778,\"#fb9f3a\"],[0.8888888888888888,\"#fdca26\"],[1.0,\"#f0f921\"]],\"type\":\"histogram2dcontour\"}],\"mesh3d\":[{\"colorbar\":{\"outlinewidth\":0,\"ticks\":\"\"},\"type\":\"mesh3d\"}],\"parcoords\":[{\"line\":{\"colorbar\":{\"outlinewidth\":0,\"ticks\":\"\"}},\"type\":\"parcoords\"}],\"pie\":[{\"automargin\":true,\"type\":\"pie\"}],\"scatter\":[{\"marker\":{\"colorbar\":{\"outlinewidth\":0,\"ticks\":\"\"}},\"type\":\"scatter\"}],\"scatter3d\":[{\"line\":{\"colorbar\":{\"outlinewidth\":0,\"ticks\":\"\"}},\"marker\":{\"colorbar\":{\"outlinewidth\":0,\"ticks\":\"\"}},\"type\":\"scatter3d\"}],\"scattercarpet\":[{\"marker\":{\"colorbar\":{\"outlinewidth\":0,\"ticks\":\"\"}},\"type\":\"scattercarpet\"}],\"scattergeo\":[{\"marker\":{\"colorbar\":{\"outlinewidth\":0,\"ticks\":\"\"}},\"type\":\"scattergeo\"}],\"scattergl\":[{\"marker\":{\"colorbar\":{\"outlinewidth\":0,\"ticks\":\"\"}},\"type\":\"scattergl\"}],\"scattermapbox\":[{\"marker\":{\"colorbar\":{\"outlinewidth\":0,\"ticks\":\"\"}},\"type\":\"scattermapbox\"}],\"scatterpolar\":[{\"marker\":{\"colorbar\":{\"outlinewidth\":0,\"ticks\":\"\"}},\"type\":\"scatterpolar\"}],\"scatterpolargl\":[{\"marker\":{\"colorbar\":{\"outlinewidth\":0,\"ticks\":\"\"}},\"type\":\"scatterpolargl\"}],\"scatterternary\":[{\"marker\":{\"colorbar\":{\"outlinewidth\":0,\"ticks\":\"\"}},\"type\":\"scatterternary\"}],\"surface\":[{\"colorbar\":{\"outlinewidth\":0,\"ticks\":\"\"},\"colorscale\":[[0.0,\"#0d0887\"],[0.1111111111111111,\"#46039f\"],[0.2222222222222222,\"#7201a8\"],[0.3333333333333333,\"#9c179e\"],[0.4444444444444444,\"#bd3786\"],[0.5555555555555556,\"#d8576b\"],[0.6666666666666666,\"#ed7953\"],[0.7777777777777778,\"#fb9f3a\"],[0.8888888888888888,\"#fdca26\"],[1.0,\"#f0f921\"]],\"type\":\"surface\"}],\"table\":[{\"cells\":{\"fill\":{\"color\":\"#EBF0F8\"},\"line\":{\"color\":\"white\"}},\"header\":{\"fill\":{\"color\":\"#C8D4E3\"},\"line\":{\"color\":\"white\"}},\"type\":\"table\"}]},\"layout\":{\"annotationdefaults\":{\"arrowcolor\":\"#2a3f5f\",\"arrowhead\":0,\"arrowwidth\":1},\"autotypenumbers\":\"strict\",\"coloraxis\":{\"colorbar\":{\"outlinewidth\":0,\"ticks\":\"\"}},\"colorscale\":{\"diverging\":[[0,\"#8e0152\"],[0.1,\"#c51b7d\"],[0.2,\"#de77ae\"],[0.3,\"#f1b6da\"],[0.4,\"#fde0ef\"],[0.5,\"#f7f7f7\"],[0.6,\"#e6f5d0\"],[0.7,\"#b8e186\"],[0.8,\"#7fbc41\"],[0.9,\"#4d9221\"],[1,\"#276419\"]],\"sequential\":[[0.0,\"#0d0887\"],[0.1111111111111111,\"#46039f\"],[0.2222222222222222,\"#7201a8\"],[0.3333333333333333,\"#9c179e\"],[0.4444444444444444,\"#bd3786\"],[0.5555555555555556,\"#d8576b\"],[0.6666666666666666,\"#ed7953\"],[0.7777777777777778,\"#fb9f3a\"],[0.8888888888888888,\"#fdca26\"],[1.0,\"#f0f921\"]],\"sequentialminus\":[[0.0,\"#0d0887\"],[0.1111111111111111,\"#46039f\"],[0.2222222222222222,\"#7201a8\"],[0.3333333333333333,\"#9c179e\"],[0.4444444444444444,\"#bd3786\"],[0.5555555555555556,\"#d8576b\"],[0.6666666666666666,\"#ed7953\"],[0.7777777777777778,\"#fb9f3a\"],[0.8888888888888888,\"#fdca26\"],[1.0,\"#f0f921\"]]},\"colorway\":[\"#636efa\",\"#EF553B\",\"#00cc96\",\"#ab63fa\",\"#FFA15A\",\"#19d3f3\",\"#FF6692\",\"#B6E880\",\"#FF97FF\",\"#FECB52\"],\"font\":{\"color\":\"#2a3f5f\"},\"geo\":{\"bgcolor\":\"white\",\"lakecolor\":\"white\",\"landcolor\":\"#E5ECF6\",\"showlakes\":true,\"showland\":true,\"subunitcolor\":\"white\"},\"hoverlabel\":{\"align\":\"left\"},\"hovermode\":\"closest\",\"mapbox\":{\"style\":\"light\"},\"paper_bgcolor\":\"white\",\"plot_bgcolor\":\"#E5ECF6\",\"polar\":{\"angularaxis\":{\"gridcolor\":\"white\",\"linecolor\":\"white\",\"ticks\":\"\"},\"bgcolor\":\"#E5ECF6\",\"radialaxis\":{\"gridcolor\":\"white\",\"linecolor\":\"white\",\"ticks\":\"\"}},\"scene\":{\"xaxis\":{\"backgroundcolor\":\"#E5ECF6\",\"gridcolor\":\"white\",\"gridwidth\":2,\"linecolor\":\"white\",\"showbackground\":true,\"ticks\":\"\",\"zerolinecolor\":\"white\"},\"yaxis\":{\"backgroundcolor\":\"#E5ECF6\",\"gridcolor\":\"white\",\"gridwidth\":2,\"linecolor\":\"white\",\"showbackground\":true,\"ticks\":\"\",\"zerolinecolor\":\"white\"},\"zaxis\":{\"backgroundcolor\":\"#E5ECF6\",\"gridcolor\":\"white\",\"gridwidth\":2,\"linecolor\":\"white\",\"showbackground\":true,\"ticks\":\"\",\"zerolinecolor\":\"white\"}},\"shapedefaults\":{\"line\":{\"color\":\"#2a3f5f\"}},\"ternary\":{\"aaxis\":{\"gridcolor\":\"white\",\"linecolor\":\"white\",\"ticks\":\"\"},\"baxis\":{\"gridcolor\":\"white\",\"linecolor\":\"white\",\"ticks\":\"\"},\"bgcolor\":\"#E5ECF6\",\"caxis\":{\"gridcolor\":\"white\",\"linecolor\":\"white\",\"ticks\":\"\"}},\"title\":{\"x\":0.05},\"xaxis\":{\"automargin\":true,\"gridcolor\":\"white\",\"linecolor\":\"white\",\"ticks\":\"\",\"title\":{\"standoff\":15},\"zerolinecolor\":\"white\",\"zerolinewidth\":2},\"yaxis\":{\"automargin\":true,\"gridcolor\":\"white\",\"linecolor\":\"white\",\"ticks\":\"\",\"title\":{\"standoff\":15},\"zerolinecolor\":\"white\",\"zerolinewidth\":2}}}},                        {\"responsive\": true}                    ).then(function(){\n",
       "                            \n",
       "var gd = document.getElementById('f03cbd43-e9a4-47c8-9127-62012ad3442e');\n",
       "var x = new MutationObserver(function (mutations, observer) {{\n",
       "        var display = window.getComputedStyle(gd).display;\n",
       "        if (!display || display === 'none') {{\n",
       "            console.log([gd, 'removed!']);\n",
       "            Plotly.purge(gd);\n",
       "            observer.disconnect();\n",
       "        }}\n",
       "}});\n",
       "\n",
       "// Listen for the removal of the full notebook cells\n",
       "var notebookContainer = gd.closest('#notebook-container');\n",
       "if (notebookContainer) {{\n",
       "    x.observe(notebookContainer, {childList: true});\n",
       "}}\n",
       "\n",
       "// Listen for the clearing of the current output cell\n",
       "var outputEl = gd.closest('.output');\n",
       "if (outputEl) {{\n",
       "    x.observe(outputEl, {childList: true});\n",
       "}}\n",
       "\n",
       "                        })                };                });            </script>        </div>"
      ]
     },
     "metadata": {},
     "output_type": "display_data"
    }
   ],
   "source": [
    "px.scatter_3d(train_df, x='PassengerId', y='Fare', color='Survived', z='Pclass')"
   ]
  },
  {
   "cell_type": "code",
   "execution_count": 11,
   "id": "b4a1dd6e",
   "metadata": {
    "execution": {
     "iopub.execute_input": "2021-11-17T11:52:59.556627Z",
     "iopub.status.busy": "2021-11-17T11:52:59.555521Z",
     "iopub.status.idle": "2021-11-17T11:52:59.634308Z",
     "shell.execute_reply": "2021-11-17T11:52:59.634792Z",
     "shell.execute_reply.started": "2021-11-17T11:51:03.580280Z"
    },
    "papermill": {
     "duration": 0.187906,
     "end_time": "2021-11-17T11:52:59.635017",
     "exception": false,
     "start_time": "2021-11-17T11:52:59.447111",
     "status": "completed"
    },
    "tags": []
   },
   "outputs": [
    {
     "data": {
      "text/html": [
       "<div>                            <div id=\"1c1b83e6-b42b-48da-a276-b532ebd69acd\" class=\"plotly-graph-div\" style=\"height:525px; width:100%;\"></div>            <script type=\"text/javascript\">                require([\"plotly\"], function(Plotly) {                    window.PLOTLYENV=window.PLOTLYENV || {};                                    if (document.getElementById(\"1c1b83e6-b42b-48da-a276-b532ebd69acd\")) {                    Plotly.newPlot(                        \"1c1b83e6-b42b-48da-a276-b532ebd69acd\",                        [{\"hovertemplate\":\"Fare=%{x}<br>PassengerId=%{y}<br>Survived=%{marker.color}<extra></extra>\",\"legendgroup\":\"\",\"marker\":{\"color\":[1,1,0,1,1,0,0,1,0,0,1,0,1,1,0,0,0,1,0,0,1,0,0,0,0,1,0,0,1,0,1,0,0,0,0,0,1,1,1,1,1,1,1,1,0,1,0,1,1,0,0,1,1,0,0,1,0,1,1,0,0,1,1,1,1,1,1,1,1,1,1,1,1,0,0,1,0,1,0,1,0,1,1,1,1,0,1,0,1,1,1,1,1,1,0,1,0,1,1,1,0,1,0,1,1,0,0,0,1,1,0,0,0,1,0,1,0,1,1,1,0,1,1,0,0,1,1,1,0,0,1,0,1,0,1,1,1,1,1,0,1,1,1,1,0,1,1,1,1,0,1,1,0,1,1,1,0,1,0,1,0,1,1,1,0,0,1,1,1,1,1,0,1,1,1,1,1,0,1,0,0,1,1,1,0,1,1,0,0,0,1,1,0,1,0,1,0,1,1,1,1,1,1,1,1,1,0,1,0,1,1,1],\"coloraxis\":\"coloraxis\",\"symbol\":\"circle\"},\"mode\":\"markers\",\"name\":\"\",\"orientation\":\"v\",\"showlegend\":false,\"type\":\"scatter\",\"x\":[71.2833,53.1,51.8625,26.55,35.5,263.0,27.7208,146.5208,82.1708,52.0,76.7292,61.9792,35.5,80.0,83.475,27.7208,47.1,263.0,61.175,34.6542,63.3583,77.2875,52.0,247.5208,77.2875,26.2833,53.1,79.2,66.6,61.3792,55.0,25.925,33.5,30.6958,28.7125,50.0,26.55,27.7208,146.5208,31.0,113.275,76.2917,90.0,83.475,90.0,52.5542,26.55,79.2,86.5,79.65,0.0,153.4625,135.6333,31.0,29.7,77.9583,26.0,78.85,91.0792,27.7208,151.55,30.5,247.5208,151.55,110.8833,108.9,56.9292,83.1583,262.375,164.8667,134.5,135.6333,57.9792,28.5,153.4625,133.65,66.6,134.5,35.5,263.0,35.0,55.0,75.25,69.3,55.4417,135.6333,82.1708,211.5,227.525,52.0,120.0,113.275,90.0,26.55,55.9,120.0,263.0,81.8583,26.55,30.5,27.75,89.1042,26.55,51.8625,26.55,38.5,26.55,52.0,91.0792,90.0,29.7,30.5,49.5042,78.2667,151.55,86.5,108.9,26.55,26.2875,59.4,34.0208,93.5,57.9792,221.7792,26.55,106.425,49.5,71.0,106.425,26.0,110.8833,26.55,39.6,227.525,79.65,51.4792,26.3875,55.9,110.8833,40.125,79.65,79.2,78.2667,56.9292,42.4,26.55,30.5,153.4625,52.5542,32.3208,77.9583,30.5,0.0,69.3,76.7292,35.5,113.275,133.65,25.5875,52.0,52.0,76.7292,211.3375,57.0,26.55,110.8833,227.525,26.2875,26.2875,151.55,49.5042,26.55,52.0,227.525,53.1,211.3375,30.0,78.85,262.375,71.0,53.1,86.5,120.0,77.9583,39.6,211.3375,57.0,30.0,79.2,30.6958,25.9292,120.0,0.0,53.1,0.0,93.5,0.0,80.0,83.1583,29.7,31.0,89.1042,39.4,164.8667,26.55,25.9292,50.4958,52.5542,5.0,83.1583,30.0,30.0],\"xaxis\":\"x\",\"y\":[2,4,7,12,24,28,31,32,35,36,53,55,56,62,63,65,84,89,93,97,98,103,111,119,125,137,138,140,152,156,167,169,171,175,178,186,188,195,196,210,216,219,225,231,246,249,253,257,258,263,264,269,270,271,274,276,285,291,292,296,298,299,300,306,307,308,310,311,312,319,320,326,330,332,333,335,337,338,340,342,352,357,367,370,371,374,376,378,381,384,391,394,413,431,435,436,439,446,448,450,453,454,457,458,461,463,468,476,485,487,488,493,494,497,499,505,506,508,513,514,516,521,524,528,537,538,540,541,545,546,551,556,557,558,559,572,573,578,582,584,586,588,592,600,603,605,608,610,622,626,628,633,634,642,646,648,660,661,663,670,672,682,690,691,695,699,701,702,708,709,711,712,713,717,725,731,741,742,743,746,749,760,764,766,767,780,782,783,790,794,797,803,807,810,816,821,823,830,836,840,843,850,854,857,858,863,868,872,873,880,888,890],\"yaxis\":\"y\"}],                        {\"coloraxis\":{\"colorbar\":{\"title\":{\"text\":\"Survived\"}},\"colorscale\":[[0.0,\"#0d0887\"],[0.1111111111111111,\"#46039f\"],[0.2222222222222222,\"#7201a8\"],[0.3333333333333333,\"#9c179e\"],[0.4444444444444444,\"#bd3786\"],[0.5555555555555556,\"#d8576b\"],[0.6666666666666666,\"#ed7953\"],[0.7777777777777778,\"#fb9f3a\"],[0.8888888888888888,\"#fdca26\"],[1.0,\"#f0f921\"]]},\"legend\":{\"tracegroupgap\":0},\"margin\":{\"t\":60},\"template\":{\"data\":{\"bar\":[{\"error_x\":{\"color\":\"#2a3f5f\"},\"error_y\":{\"color\":\"#2a3f5f\"},\"marker\":{\"line\":{\"color\":\"#E5ECF6\",\"width\":0.5},\"pattern\":{\"fillmode\":\"overlay\",\"size\":10,\"solidity\":0.2}},\"type\":\"bar\"}],\"barpolar\":[{\"marker\":{\"line\":{\"color\":\"#E5ECF6\",\"width\":0.5},\"pattern\":{\"fillmode\":\"overlay\",\"size\":10,\"solidity\":0.2}},\"type\":\"barpolar\"}],\"carpet\":[{\"aaxis\":{\"endlinecolor\":\"#2a3f5f\",\"gridcolor\":\"white\",\"linecolor\":\"white\",\"minorgridcolor\":\"white\",\"startlinecolor\":\"#2a3f5f\"},\"baxis\":{\"endlinecolor\":\"#2a3f5f\",\"gridcolor\":\"white\",\"linecolor\":\"white\",\"minorgridcolor\":\"white\",\"startlinecolor\":\"#2a3f5f\"},\"type\":\"carpet\"}],\"choropleth\":[{\"colorbar\":{\"outlinewidth\":0,\"ticks\":\"\"},\"type\":\"choropleth\"}],\"contour\":[{\"colorbar\":{\"outlinewidth\":0,\"ticks\":\"\"},\"colorscale\":[[0.0,\"#0d0887\"],[0.1111111111111111,\"#46039f\"],[0.2222222222222222,\"#7201a8\"],[0.3333333333333333,\"#9c179e\"],[0.4444444444444444,\"#bd3786\"],[0.5555555555555556,\"#d8576b\"],[0.6666666666666666,\"#ed7953\"],[0.7777777777777778,\"#fb9f3a\"],[0.8888888888888888,\"#fdca26\"],[1.0,\"#f0f921\"]],\"type\":\"contour\"}],\"contourcarpet\":[{\"colorbar\":{\"outlinewidth\":0,\"ticks\":\"\"},\"type\":\"contourcarpet\"}],\"heatmap\":[{\"colorbar\":{\"outlinewidth\":0,\"ticks\":\"\"},\"colorscale\":[[0.0,\"#0d0887\"],[0.1111111111111111,\"#46039f\"],[0.2222222222222222,\"#7201a8\"],[0.3333333333333333,\"#9c179e\"],[0.4444444444444444,\"#bd3786\"],[0.5555555555555556,\"#d8576b\"],[0.6666666666666666,\"#ed7953\"],[0.7777777777777778,\"#fb9f3a\"],[0.8888888888888888,\"#fdca26\"],[1.0,\"#f0f921\"]],\"type\":\"heatmap\"}],\"heatmapgl\":[{\"colorbar\":{\"outlinewidth\":0,\"ticks\":\"\"},\"colorscale\":[[0.0,\"#0d0887\"],[0.1111111111111111,\"#46039f\"],[0.2222222222222222,\"#7201a8\"],[0.3333333333333333,\"#9c179e\"],[0.4444444444444444,\"#bd3786\"],[0.5555555555555556,\"#d8576b\"],[0.6666666666666666,\"#ed7953\"],[0.7777777777777778,\"#fb9f3a\"],[0.8888888888888888,\"#fdca26\"],[1.0,\"#f0f921\"]],\"type\":\"heatmapgl\"}],\"histogram\":[{\"marker\":{\"pattern\":{\"fillmode\":\"overlay\",\"size\":10,\"solidity\":0.2}},\"type\":\"histogram\"}],\"histogram2d\":[{\"colorbar\":{\"outlinewidth\":0,\"ticks\":\"\"},\"colorscale\":[[0.0,\"#0d0887\"],[0.1111111111111111,\"#46039f\"],[0.2222222222222222,\"#7201a8\"],[0.3333333333333333,\"#9c179e\"],[0.4444444444444444,\"#bd3786\"],[0.5555555555555556,\"#d8576b\"],[0.6666666666666666,\"#ed7953\"],[0.7777777777777778,\"#fb9f3a\"],[0.8888888888888888,\"#fdca26\"],[1.0,\"#f0f921\"]],\"type\":\"histogram2d\"}],\"histogram2dcontour\":[{\"colorbar\":{\"outlinewidth\":0,\"ticks\":\"\"},\"colorscale\":[[0.0,\"#0d0887\"],[0.1111111111111111,\"#46039f\"],[0.2222222222222222,\"#7201a8\"],[0.3333333333333333,\"#9c179e\"],[0.4444444444444444,\"#bd3786\"],[0.5555555555555556,\"#d8576b\"],[0.6666666666666666,\"#ed7953\"],[0.7777777777777778,\"#fb9f3a\"],[0.8888888888888888,\"#fdca26\"],[1.0,\"#f0f921\"]],\"type\":\"histogram2dcontour\"}],\"mesh3d\":[{\"colorbar\":{\"outlinewidth\":0,\"ticks\":\"\"},\"type\":\"mesh3d\"}],\"parcoords\":[{\"line\":{\"colorbar\":{\"outlinewidth\":0,\"ticks\":\"\"}},\"type\":\"parcoords\"}],\"pie\":[{\"automargin\":true,\"type\":\"pie\"}],\"scatter\":[{\"marker\":{\"colorbar\":{\"outlinewidth\":0,\"ticks\":\"\"}},\"type\":\"scatter\"}],\"scatter3d\":[{\"line\":{\"colorbar\":{\"outlinewidth\":0,\"ticks\":\"\"}},\"marker\":{\"colorbar\":{\"outlinewidth\":0,\"ticks\":\"\"}},\"type\":\"scatter3d\"}],\"scattercarpet\":[{\"marker\":{\"colorbar\":{\"outlinewidth\":0,\"ticks\":\"\"}},\"type\":\"scattercarpet\"}],\"scattergeo\":[{\"marker\":{\"colorbar\":{\"outlinewidth\":0,\"ticks\":\"\"}},\"type\":\"scattergeo\"}],\"scattergl\":[{\"marker\":{\"colorbar\":{\"outlinewidth\":0,\"ticks\":\"\"}},\"type\":\"scattergl\"}],\"scattermapbox\":[{\"marker\":{\"colorbar\":{\"outlinewidth\":0,\"ticks\":\"\"}},\"type\":\"scattermapbox\"}],\"scatterpolar\":[{\"marker\":{\"colorbar\":{\"outlinewidth\":0,\"ticks\":\"\"}},\"type\":\"scatterpolar\"}],\"scatterpolargl\":[{\"marker\":{\"colorbar\":{\"outlinewidth\":0,\"ticks\":\"\"}},\"type\":\"scatterpolargl\"}],\"scatterternary\":[{\"marker\":{\"colorbar\":{\"outlinewidth\":0,\"ticks\":\"\"}},\"type\":\"scatterternary\"}],\"surface\":[{\"colorbar\":{\"outlinewidth\":0,\"ticks\":\"\"},\"colorscale\":[[0.0,\"#0d0887\"],[0.1111111111111111,\"#46039f\"],[0.2222222222222222,\"#7201a8\"],[0.3333333333333333,\"#9c179e\"],[0.4444444444444444,\"#bd3786\"],[0.5555555555555556,\"#d8576b\"],[0.6666666666666666,\"#ed7953\"],[0.7777777777777778,\"#fb9f3a\"],[0.8888888888888888,\"#fdca26\"],[1.0,\"#f0f921\"]],\"type\":\"surface\"}],\"table\":[{\"cells\":{\"fill\":{\"color\":\"#EBF0F8\"},\"line\":{\"color\":\"white\"}},\"header\":{\"fill\":{\"color\":\"#C8D4E3\"},\"line\":{\"color\":\"white\"}},\"type\":\"table\"}]},\"layout\":{\"annotationdefaults\":{\"arrowcolor\":\"#2a3f5f\",\"arrowhead\":0,\"arrowwidth\":1},\"autotypenumbers\":\"strict\",\"coloraxis\":{\"colorbar\":{\"outlinewidth\":0,\"ticks\":\"\"}},\"colorscale\":{\"diverging\":[[0,\"#8e0152\"],[0.1,\"#c51b7d\"],[0.2,\"#de77ae\"],[0.3,\"#f1b6da\"],[0.4,\"#fde0ef\"],[0.5,\"#f7f7f7\"],[0.6,\"#e6f5d0\"],[0.7,\"#b8e186\"],[0.8,\"#7fbc41\"],[0.9,\"#4d9221\"],[1,\"#276419\"]],\"sequential\":[[0.0,\"#0d0887\"],[0.1111111111111111,\"#46039f\"],[0.2222222222222222,\"#7201a8\"],[0.3333333333333333,\"#9c179e\"],[0.4444444444444444,\"#bd3786\"],[0.5555555555555556,\"#d8576b\"],[0.6666666666666666,\"#ed7953\"],[0.7777777777777778,\"#fb9f3a\"],[0.8888888888888888,\"#fdca26\"],[1.0,\"#f0f921\"]],\"sequentialminus\":[[0.0,\"#0d0887\"],[0.1111111111111111,\"#46039f\"],[0.2222222222222222,\"#7201a8\"],[0.3333333333333333,\"#9c179e\"],[0.4444444444444444,\"#bd3786\"],[0.5555555555555556,\"#d8576b\"],[0.6666666666666666,\"#ed7953\"],[0.7777777777777778,\"#fb9f3a\"],[0.8888888888888888,\"#fdca26\"],[1.0,\"#f0f921\"]]},\"colorway\":[\"#636efa\",\"#EF553B\",\"#00cc96\",\"#ab63fa\",\"#FFA15A\",\"#19d3f3\",\"#FF6692\",\"#B6E880\",\"#FF97FF\",\"#FECB52\"],\"font\":{\"color\":\"#2a3f5f\"},\"geo\":{\"bgcolor\":\"white\",\"lakecolor\":\"white\",\"landcolor\":\"#E5ECF6\",\"showlakes\":true,\"showland\":true,\"subunitcolor\":\"white\"},\"hoverlabel\":{\"align\":\"left\"},\"hovermode\":\"closest\",\"mapbox\":{\"style\":\"light\"},\"paper_bgcolor\":\"white\",\"plot_bgcolor\":\"#E5ECF6\",\"polar\":{\"angularaxis\":{\"gridcolor\":\"white\",\"linecolor\":\"white\",\"ticks\":\"\"},\"bgcolor\":\"#E5ECF6\",\"radialaxis\":{\"gridcolor\":\"white\",\"linecolor\":\"white\",\"ticks\":\"\"}},\"scene\":{\"xaxis\":{\"backgroundcolor\":\"#E5ECF6\",\"gridcolor\":\"white\",\"gridwidth\":2,\"linecolor\":\"white\",\"showbackground\":true,\"ticks\":\"\",\"zerolinecolor\":\"white\"},\"yaxis\":{\"backgroundcolor\":\"#E5ECF6\",\"gridcolor\":\"white\",\"gridwidth\":2,\"linecolor\":\"white\",\"showbackground\":true,\"ticks\":\"\",\"zerolinecolor\":\"white\"},\"zaxis\":{\"backgroundcolor\":\"#E5ECF6\",\"gridcolor\":\"white\",\"gridwidth\":2,\"linecolor\":\"white\",\"showbackground\":true,\"ticks\":\"\",\"zerolinecolor\":\"white\"}},\"shapedefaults\":{\"line\":{\"color\":\"#2a3f5f\"}},\"ternary\":{\"aaxis\":{\"gridcolor\":\"white\",\"linecolor\":\"white\",\"ticks\":\"\"},\"baxis\":{\"gridcolor\":\"white\",\"linecolor\":\"white\",\"ticks\":\"\"},\"bgcolor\":\"#E5ECF6\",\"caxis\":{\"gridcolor\":\"white\",\"linecolor\":\"white\",\"ticks\":\"\"}},\"title\":{\"x\":0.05},\"xaxis\":{\"automargin\":true,\"gridcolor\":\"white\",\"linecolor\":\"white\",\"ticks\":\"\",\"title\":{\"standoff\":15},\"zerolinecolor\":\"white\",\"zerolinewidth\":2},\"yaxis\":{\"automargin\":true,\"gridcolor\":\"white\",\"linecolor\":\"white\",\"ticks\":\"\",\"title\":{\"standoff\":15},\"zerolinecolor\":\"white\",\"zerolinewidth\":2}}},\"xaxis\":{\"anchor\":\"y\",\"domain\":[0.0,1.0],\"title\":{\"text\":\"Fare\"}},\"yaxis\":{\"anchor\":\"x\",\"domain\":[0.0,1.0],\"title\":{\"text\":\"PassengerId\"}}},                        {\"responsive\": true}                    ).then(function(){\n",
       "                            \n",
       "var gd = document.getElementById('1c1b83e6-b42b-48da-a276-b532ebd69acd');\n",
       "var x = new MutationObserver(function (mutations, observer) {{\n",
       "        var display = window.getComputedStyle(gd).display;\n",
       "        if (!display || display === 'none') {{\n",
       "            console.log([gd, 'removed!']);\n",
       "            Plotly.purge(gd);\n",
       "            observer.disconnect();\n",
       "        }}\n",
       "}});\n",
       "\n",
       "// Listen for the removal of the full notebook cells\n",
       "var notebookContainer = gd.closest('#notebook-container');\n",
       "if (notebookContainer) {{\n",
       "    x.observe(notebookContainer, {childList: true});\n",
       "}}\n",
       "\n",
       "// Listen for the clearing of the current output cell\n",
       "var outputEl = gd.closest('.output');\n",
       "if (outputEl) {{\n",
       "    x.observe(outputEl, {childList: true});\n",
       "}}\n",
       "\n",
       "                        })                };                });            </script>        </div>"
      ]
     },
     "metadata": {},
     "output_type": "display_data"
    }
   ],
   "source": [
    "class1_df=train_df.loc[train_df['Pclass'] == 1]\n",
    "# class1_df\n",
    "px.scatter(class1_df, x='Fare', y='PassengerId', color='Survived')"
   ]
  },
  {
   "cell_type": "markdown",
   "id": "fb0f51e1",
   "metadata": {
    "papermill": {
     "duration": 0.084979,
     "end_time": "2021-11-17T11:52:59.803560",
     "exception": false,
     "start_time": "2021-11-17T11:52:59.718581",
     "status": "completed"
    },
    "tags": []
   },
   "source": [
    "# Ticket\n",
    "\n",
    "Honestly, I am not sure how to treat this data. It looks like it does have some correlation with survival. It is definitely connected with the size of the groups/families that embarked together. It may be used to recover the information about people embarked together that do not count as family members according to Parch and SibSp. But I wouldn't know how to do this. So I'll leave it out for now..."
   ]
  },
  {
   "cell_type": "code",
   "execution_count": 12,
   "id": "2a94e33c",
   "metadata": {
    "execution": {
     "iopub.execute_input": "2021-11-17T11:52:59.992367Z",
     "iopub.status.busy": "2021-11-17T11:52:59.990201Z",
     "iopub.status.idle": "2021-11-17T11:53:00.057424Z",
     "shell.execute_reply": "2021-11-17T11:53:00.056856Z",
     "shell.execute_reply.started": "2021-11-17T11:51:03.654117Z"
    },
    "papermill": {
     "duration": 0.167684,
     "end_time": "2021-11-17T11:53:00.057584",
     "exception": false,
     "start_time": "2021-11-17T11:52:59.889900",
     "status": "completed"
    },
    "tags": []
   },
   "outputs": [
    {
     "data": {
      "text/html": [
       "<div>                            <div id=\"25561df9-11b5-4dc1-a7df-febd40a06fee\" class=\"plotly-graph-div\" style=\"height:525px; width:100%;\"></div>            <script type=\"text/javascript\">                require([\"plotly\"], function(Plotly) {                    window.PLOTLYENV=window.PLOTLYENV || {};                                    if (document.getElementById(\"25561df9-11b5-4dc1-a7df-febd40a06fee\")) {                    Plotly.newPlot(                        \"25561df9-11b5-4dc1-a7df-febd40a06fee\",                        [{\"hovertemplate\":\"PassengerId=%{x}<br>Ticket=%{y}<br>Survived=%{marker.color}<extra></extra>\",\"legendgroup\":\"\",\"marker\":{\"color\":[0,1,1,1,0,0,0,0,1,1,1,1,0,0,0,1,0,1,0,1,0,1,1,1,0,1,0,0,1,0,0,1,1,0,0,0,1,0,0,1,0,0,0,1,1,0,0,1,0,0,0,0,1,1,0,1,1,0,1,0,0,1,0,0,0,1,1,0,1,0,0,0,0,0,1,0,0,0,1,1,0,1,1,0,1,1,0,0,1,0,0,0,0,0,0,0,0,1,1,0,0,0,0,0,0,0,1,1,0,1,0,0,0,0,0,0,0,0,0,0,0,0,0,1,0,1,0,1,1,0,0,0,0,1,0,0,1,0,0,0,0,1,1,0,0,0,1,0,0,0,0,1,0,0,0,0,1,0,0,0,0,1,0,0,0,1,1,0,0,0,0,0,1,0,0,0,0,0,0,0,0,0,0,1,1,0,1,1,0,0,1,0,1,1,1,1,0,0,1,0,0,0,0,0,1,0,0,1,1,1,0,1,0,0,0,1,1,0,1,0,1,0,0,0,1,0,1,0,0,0,1,0,0,1,0,0,0,1,0,0,0,1,0,0,0,0,0,1,1,0,0,0,0,0,0,1,1,1,1,0,1,0,0,0,0,0,1,1,1,0,1,1,0,1,1,0,0,0,1,0,0,0,1,0,0,1,0,1,1,1,1,0,0,0,0,0,0,1,1,1,1,0,1,0,1,1,1,0,1,1,1,0,0,0,1,1,0,1,1,0,0,1,1,0,1,0,1,1,1,1,0,0,0,1,0,0,1,1,0,1,1,0,0,0,1,1,1,1,0,0,0,0,0,0,0,1,0,1,1,0,0,0,0,0,0,1,1,1,1,1,0,0,0,0,1,1,0,0,0,1,1,0,1,0,0,0,1,0,1,1,1,0,1,1,0,0,0,0,1,1,0,0,0,0,0,0,1,0,0,0,0,1,0,1,0,1,1,0,0,0,0,0,0,0,0,1,1,0,1,1,1,1,0,0,1,0,1,0,0,1,0,0,1,1,1,1,1,1,1,0,0,0,1,0,1,0,1,1,0,1,0,0,0,0,0,0,0,0,1,0,0,1,1,0,0,0,0,0,1,0,0,0,1,1,0,1,0,0,1,0,0,0,0,0,0,1,0,0,0,0,0,0,0,1,0,1,1,0,1,1,0,1,1,0,0,1,0,1,0,1,0,0,1,0,0,1,0,0,0,1,0,0,1,0,1,0,1,0,1,1,0,0,1,0,0,1,1,0,1,1,0,0,1,1,0,1,0,1,1,0,0,0,0,0,0,0,0,0,1,1,1,1,1,0,0,1,1,0,1,1,1,0,0,0,1,0,1,0,0,0,1,0,0,0,0,1,0,0,1,1,0,0,0,1,0,0,1,1,1,0,0,1,0,0,1,0,0,1,0,0,1,1,0,0,0,0,1,0,0,0,1,0,0,1,0,0,0,0,0,1,0,1,1,1,0,1,0,1,0,1,0,1,0,0,0,0,0,0,1,0,0,0,1,0,0,0,0,1,1,0,0,1,0,0,0,1,0,0,1,0,0,0,0,0,0,0,1,1,1,1,0,0,0,0,1,0,0,1,1,0,0,0,0,1,1,1,1,1,0,1,0,0,0,1,1,0,0,1,0,0,0,1,0,1,1,0,0,1,0,0,0,0,0,0,0,0,1,0,1,0,1,0,0,1,0,0,1,1,0,0,1,1,0,0,0,1,0,0,1,1,0,1,0,0,0,0,0,0,0,0,1,0,0,1,0,1,1,1,0,0,0,0,1,0,1,0,0,0,0,0,0,0,1,1,0,0,0,1,1,1,1,0,0,0,0,1,0,0,0,0,0,0,0,0,0,0,1,1,0,1,0,0,0,1,1,1,1,1,0,0,0,1,0,0,1,1,0,0,1,0,0,0,0,0,0,1,0,0,0,1,0,1,1,1,1,0,0,0,1,0,0,1,1,0,0,1,0,1,0,0,1,1,0,0,0,1,1,0,0,0,0,0,0,1,0,1,0],\"coloraxis\":\"coloraxis\",\"symbol\":\"circle\"},\"mode\":\"markers\",\"name\":\"\",\"orientation\":\"h\",\"showlegend\":false,\"type\":\"scatter\",\"x\":[1,2,3,4,5,6,7,8,9,10,11,12,13,14,15,16,17,18,19,20,21,22,23,24,25,26,27,28,29,30,31,32,33,34,35,36,37,38,39,40,41,42,43,44,45,46,47,48,49,50,51,52,53,54,55,56,57,58,59,60,61,62,63,64,65,66,67,68,69,70,71,72,73,74,75,76,77,78,79,80,81,82,83,84,85,86,87,88,89,90,91,92,93,94,95,96,97,98,99,100,101,102,103,104,105,106,107,108,109,110,111,112,113,114,115,116,117,118,119,120,121,122,123,124,125,126,127,128,129,130,131,132,133,134,135,136,137,138,139,140,141,142,143,144,145,146,147,148,149,150,151,152,153,154,155,156,157,158,159,160,161,162,163,164,165,166,167,168,169,170,171,172,173,174,175,176,177,178,179,180,181,182,183,184,185,186,187,188,189,190,191,192,193,194,195,196,197,198,199,200,201,202,203,204,205,206,207,208,209,210,211,212,213,214,215,216,217,218,219,220,221,222,223,224,225,226,227,228,229,230,231,232,233,234,235,236,237,238,239,240,241,242,243,244,245,246,247,248,249,250,251,252,253,254,255,256,257,258,260,261,262,263,264,265,266,267,268,269,270,271,272,273,274,275,276,277,278,279,280,281,282,283,284,285,286,287,288,289,290,291,292,293,294,295,296,297,298,299,300,301,302,303,304,305,306,307,308,309,310,311,312,313,314,315,316,317,318,319,320,321,322,323,324,325,326,327,328,329,330,331,332,333,334,335,336,337,338,339,340,341,342,343,344,345,346,347,348,349,350,351,352,353,354,355,356,357,358,359,360,361,362,363,364,365,366,367,368,369,370,371,372,373,374,375,376,377,378,379,380,381,382,383,384,385,386,387,388,389,390,391,392,393,394,395,396,397,398,399,400,401,402,403,404,405,406,407,408,409,410,411,412,413,414,415,416,417,418,419,420,421,422,423,424,425,426,427,428,429,430,431,432,433,434,435,436,437,438,439,440,441,442,443,444,445,446,447,448,449,450,451,452,453,454,455,456,457,458,459,460,461,462,463,464,465,466,467,468,469,470,471,472,473,474,475,476,477,478,479,480,481,482,483,484,485,486,487,488,489,490,491,492,493,494,495,496,497,498,499,500,501,502,503,504,505,506,507,508,509,510,511,512,513,514,515,516,517,518,519,520,521,522,523,524,525,526,527,528,529,530,531,532,533,534,535,536,537,538,539,540,541,542,543,544,545,546,547,548,549,550,551,552,553,554,555,556,557,558,559,560,561,562,563,564,565,566,567,568,569,570,571,572,573,574,575,576,577,578,579,580,581,582,583,584,585,586,587,588,589,590,591,592,593,594,595,596,597,598,599,600,601,602,603,604,605,606,607,608,609,610,611,612,613,614,615,616,617,618,619,620,621,622,623,624,625,626,627,628,629,630,632,633,634,635,636,637,638,639,640,641,642,643,644,645,646,647,648,649,650,651,652,653,654,655,656,657,658,659,660,661,662,663,664,665,666,667,668,669,670,671,672,673,674,675,676,677,678,679,681,682,683,684,685,686,687,688,689,690,691,692,693,694,695,696,697,698,699,700,701,702,703,704,705,706,707,708,709,710,711,712,713,714,715,716,717,718,719,720,721,722,723,724,725,726,727,728,729,730,731,732,733,734,735,736,737,739,740,741,742,743,744,745,746,747,748,749,750,751,752,753,754,755,756,757,758,759,760,761,762,763,764,765,766,767,768,769,770,771,772,773,774,775,776,777,778,779,780,781,782,783,784,785,786,787,788,789,790,791,792,793,794,795,796,797,798,799,800,801,802,803,804,805,806,807,808,809,810,811,812,813,814,815,816,817,818,819,820,821,822,823,824,825,826,827,828,829,830,831,832,833,834,835,836,837,838,839,840,841,842,843,844,845,846,847,848,849,850,851,852,853,854,855,856,857,858,859,860,861,862,863,864,865,866,867,868,869,870,871,872,873,874,875,876,877,878,879,880,881,882,883,884,885,886,887,888,889,890,891],\"xaxis\":\"x\",\"y\":[\"A/5 21171\",\"PC 17599\",\"STON/O2. 3101282\",\"113803\",\"373450\",\"330877\",\"17463\",\"349909\",\"347742\",\"237736\",\"PP 9549\",\"113783\",\"A/5. 2151\",\"347082\",\"350406\",\"248706\",\"382652\",\"244373\",\"345763\",\"2649\",\"239865\",\"248698\",\"330923\",\"113788\",\"349909\",\"347077\",\"2631\",\"19950\",\"330959\",\"349216\",\"PC 17601\",\"PC 17569\",\"335677\",\"C.A. 24579\",\"PC 17604\",\"113789\",\"2677\",\"A./5. 2152\",\"345764\",\"2651\",\"7546\",\"11668\",\"349253\",\"SC/Paris 2123\",\"330958\",\"S.C./A.4. 23567\",\"370371\",\"14311\",\"2662\",\"349237\",\"3101295\",\"A/4. 39886\",\"PC 17572\",\"2926\",\"113509\",\"19947\",\"C.A. 31026\",\"2697\",\"C.A. 34651\",\"CA 2144\",\"2669\",\"113572\",\"36973\",\"347088\",\"PC 17605\",\"2661\",\"C.A. 29395\",\"S.P. 3464\",\"3101281\",\"315151\",\"C.A. 33111\",\"CA 2144\",\"S.O.C. 14879\",\"2680\",\"1601\",\"348123\",\"349208\",\"374746\",\"248738\",\"364516\",\"345767\",\"345779\",\"330932\",\"113059\",\"SO/C 14885\",\"3101278\",\"W./C. 6608\",\"SOTON/OQ 392086\",\"19950\",\"343275\",\"343276\",\"347466\",\"W.E.P. 5734\",\"C.A. 2315\",\"364500\",\"374910\",\"PC 17754\",\"PC 17759\",\"231919\",\"244367\",\"349245\",\"349215\",\"35281\",\"7540\",\"3101276\",\"349207\",\"343120\",\"312991\",\"349249\",\"371110\",\"110465\",\"2665\",\"324669\",\"4136\",\"2627\",\"STON/O 2. 3101294\",\"370369\",\"11668\",\"PC 17558\",\"347082\",\"S.O.C. 14879\",\"A4. 54510\",\"237736\",\"27267\",\"35281\",\"2651\",\"370372\",\"C 17369\",\"2668\",\"347061\",\"349241\",\"SOTON/O.Q. 3101307\",\"A/5. 3337\",\"228414\",\"C.A. 29178\",\"SC/PARIS 2133\",\"11752\",\"113803\",\"7534\",\"PC 17593\",\"2678\",\"347081\",\"STON/O2. 3101279\",\"365222\",\"231945\",\"C.A. 33112\",\"350043\",\"W./C. 6608\",\"230080\",\"244310\",\"S.O.P. 1166\",\"113776\",\"A.5. 11206\",\"A/5. 851\",\"Fa 265302\",\"PC 17597\",\"35851\",\"SOTON/OQ 392090\",\"315037\",\"CA. 2343\",\"371362\",\"C.A. 33595\",\"347068\",\"315093\",\"3101295\",\"363291\",\"113505\",\"347088\",\"PC 17318\",\"1601\",\"111240\",\"382652\",\"347742\",\"STON/O 2. 3101280\",\"17764\",\"350404\",\"4133\",\"PC 17595\",\"250653\",\"LINE\",\"CA. 2343\",\"SC/PARIS 2131\",\"347077\",\"230136\",\"315153\",\"113767\",\"370365\",\"111428\",\"364849\",\"349247\",\"234604\",\"28424\",\"350046\",\"230080\",\"PC 17610\",\"PC 17569\",\"368703\",\"4579\",\"370370\",\"248747\",\"345770\",\"CA. 2343\",\"3101264\",\"2628\",\"A/5 3540\",\"347054\",\"3101278\",\"2699\",\"367231\",\"112277\",\"SOTON/O.Q. 3101311\",\"F.C.C. 13528\",\"A/5 21174\",\"250646\",\"367229\",\"35273\",\"STON/O2. 3101283\",\"243847\",\"11813\",\"W/C 14208\",\"SOTON/OQ 392089\",\"220367\",\"21440\",\"349234\",\"19943\",\"PP 4348\",\"SW/PP 751\",\"A/5 21173\",\"236171\",\"4133\",\"36973\",\"347067\",\"237442\",\"347077\",\"C.A. 29566\",\"W./C. 6609\",\"26707\",\"C.A. 31921\",\"28665\",\"SCO/W 1585\",\"2665\",\"367230\",\"W./C. 14263\",\"STON/O 2. 3101275\",\"2694\",\"19928\",\"347071\",\"250649\",\"11751\",\"244252\",\"362316\",\"347054\",\"113514\",\"A/5. 3336\",\"370129\",\"2650\",\"PC 17585\",\"110152\",\"230433\",\"384461\",\"347077\",\"110413\",\"112059\",\"382649\",\"C.A. 17248\",\"3101295\",\"347083\",\"PC 17582\",\"PC 17760\",\"113798\",\"LINE\",\"250644\",\"PC 17596\",\"370375\",\"13502\",\"347073\",\"239853\",\"382652\",\"C.A. 2673\",\"336439\",\"347464\",\"345778\",\"A/5. 10482\",\"113056\",\"349239\",\"345774\",\"349206\",\"237798\",\"370373\",\"19877\",\"11967\",\"SC/Paris 2163\",\"349236\",\"349233\",\"PC 17612\",\"2693\",\"113781\",\"19988\",\"PC 17558\",\"9234\",\"367226\",\"LINE\",\"226593\",\"A/5 2466\",\"113781\",\"17421\",\"PC 17758\",\"P/PP 3381\",\"PC 17485\",\"11767\",\"PC 17608\",\"250651\",\"349243\",\"F.C.C. 13529\",\"347470\",\"244367\",\"29011\",\"36928\",\"16966\",\"A/5 21172\",\"349219\",\"234818\",\"248738\",\"CA. 2343\",\"PC 17760\",\"345364\",\"28551\",\"363291\",\"111361\",\"367226\",\"113043\",\"PC 17582\",\"345764\",\"PC 17611\",\"349225\",\"113776\",\"16966\",\"7598\",\"113784\",\"230080\",\"19950\",\"248740\",\"244361\",\"229236\",\"248733\",\"31418\",\"386525\",\"C.A. 37671\",\"315088\",\"7267\",\"113510\",\"2695\",\"349237\",\"2647\",\"345783\",\"113505\",\"237671\",\"330931\",\"330980\",\"347088\",\"SC/PARIS 2167\",\"2691\",\"SOTON/O.Q. 3101310\",\"370365\",\"C 7076\",\"110813\",\"2626\",\"14313\",\"PC 17477\",\"11765\",\"3101267\",\"323951\",\"PC 17760\",\"349909\",\"PC 17604\",\"C 7077\",\"113503\",\"2648\",\"347069\",\"PC 17757\",\"2653\",\"STON/O 2. 3101293\",\"113789\",\"349227\",\"S.O.C. 14879\",\"CA 2144\",\"27849\",\"367655\",\"SC 1748\",\"113760\",\"350034\",\"3101277\",\"35273\",\"PP 9549\",\"350052\",\"350407\",\"28403\",\"244278\",\"240929\",\"STON/O 2. 3101289\",\"341826\",\"4137\",\"STON/O2. 3101279\",\"315096\",\"28664\",\"347064\",\"29106\",\"312992\",\"4133\",\"349222\",\"394140\",\"19928\",\"239853\",\"STON/O 2. 3101269\",\"343095\",\"28220\",\"250652\",\"28228\",\"345773\",\"349254\",\"A/5. 13032\",\"315082\",\"347080\",\"370129\",\"A/4. 34244\",\"2003\",\"250655\",\"364851\",\"SOTON/O.Q. 392078\",\"110564\",\"376564\",\"SC/AH 3085\",\"STON/O 2. 3101274\",\"13507\",\"113760\",\"W./C. 6608\",\"29106\",\"19950\",\"C.A. 18723\",\"F.C.C. 13529\",\"345769\",\"347076\",\"230434\",\"65306\",\"33638\",\"250644\",\"113794\",\"2666\",\"113786\",\"C.A. 34651\",\"65303\",\"113051\",\"17453\",\"A/5 2817\",\"349240\",\"13509\",\"17464\",\"F.C.C. 13531\",\"371060\",\"19952\",\"364506\",\"111320\",\"234360\",\"A/S 2816\",\"SOTON/O.Q. 3101306\",\"239853\",\"113792\",\"36209\",\"2666\",\"323592\",\"315089\",\"C.A. 34651\",\"SC/AH Basle 541\",\"7553\",\"110465\",\"31027\",\"3460\",\"350060\",\"3101298\",\"CA 2144\",\"239854\",\"A/5 3594\",\"4134\",\"11967\",\"4133\",\"19943\",\"11771\",\"A.5. 18509\",\"C.A. 37671\",\"65304\",\"SOTON/OQ 3101317\",\"113787\",\"PC 17609\",\"A/4 45380\",\"2627\",\"36947\",\"C.A. 6212\",\"113781\",\"350035\",\"315086\",\"364846\",\"330909\",\"4135\",\"110152\",\"PC 17758\",\"26360\",\"111427\",\"C 4001\",\"1601\",\"382651\",\"SOTON/OQ 3101316\",\"PC 17473\",\"PC 17603\",\"349209\",\"36967\",\"C.A. 34260\",\"371110\",\"226875\",\"349242\",\"12749\",\"349252\",\"2624\",\"111361\",\"2700\",\"367232\",\"W./C. 14258\",\"PC 17483\",\"3101296\",\"29104\",\"26360\",\"2641\",\"2690\",\"2668\",\"315084\",\"F.C.C. 13529\",\"113050\",\"PC 17761\",\"364498\",\"13568\",\"WE/P 5735\",\"347082\",\"347082\",\"2908\",\"PC 17761\",\"693\",\"2908\",\"SC/PARIS 2146\",\"363291\",\"C.A. 33112\",\"17421\",\"244358\",\"330979\",\"2620\",\"347085\",\"113807\",\"11755\",\"PC 17757\",\"110413\",\"345572\",\"372622\",\"349251\",\"218629\",\"SOTON/OQ 392082\",\"SOTON/O.Q. 392087\",\"A/4 48871\",\"349205\",\"349909\",\"2686\",\"350417\",\"S.W./PP 752\",\"11769\",\"PC 17474\",\"14312\",\"A/4. 20589\",\"358585\",\"243880\",\"13507\",\"2689\",\"STON/O 2. 3101286\",\"237789\",\"17421\",\"28403\",\"13049\",\"3411\",\"110413\",\"237565\",\"13567\",\"14973\",\"A./5. 3235\",\"STON/O 2. 3101273\",\"36947\",\"A/5 3902\",\"364848\",\"SC/AH 29037\",\"345773\",\"248727\",\"LINE\",\"2664\",\"PC 17485\",\"243847\",\"349214\",\"113796\",\"364511\",\"111426\",\"349910\",\"349246\",\"113804\",\"SC/Paris 2123\",\"PC 17582\",\"347082\",\"SOTON/O.Q. 3101305\",\"367230\",\"370377\",\"364512\",\"220845\",\"347080\",\"A/5. 3336\",\"230136\",\"31028\",\"2659\",\"11753\",\"2653\",\"350029\",\"54636\",\"36963\",\"219533\",\"13502\",\"349224\",\"334912\",\"347743\",\"13214\",\"112052\",\"347088\",\"237668\",\"STON/O 2. 3101292\",\"C.A. 31921\",\"3101295\",\"376564\",\"350050\",\"PC 17477\",\"347088\",\"1601\",\"2666\",\"PC 17572\",\"349231\",\"13213\",\"S.O./P.P. 751\",\"CA. 2314\",\"349221\",\"231919\",\"8475\",\"330919\",\"365226\",\"S.O.C. 14879\",\"349223\",\"364849\",\"29751\",\"35273\",\"PC 17611\",\"2623\",\"5727\",\"349210\",\"STON/O 2. 3101285\",\"S.O.C. 14879\",\"234686\",\"312993\",\"A/5 3536\",\"19996\",\"29750\",\"F.C. 12750\",\"C.A. 24580\",\"244270\",\"239856\",\"349912\",\"342826\",\"4138\",\"CA 2144\",\"330935\",\"PC 17572\",\"6563\",\"CA 2144\",\"29750\",\"SC/Paris 2123\",\"3101295\",\"349228\",\"350036\",\"24160\",\"17474\",\"349256\",\"1601\",\"2672\",\"113800\",\"248731\",\"363592\",\"35852\",\"17421\",\"348121\",\"PC 17757\",\"PC 17475\",\"2691\",\"36864\",\"350025\",\"250655\",\"223596\",\"PC 17476\",\"113781\",\"2661\",\"PC 17482\",\"113028\",\"19996\",\"7545\",\"250647\",\"348124\",\"PC 17757\",\"34218\",\"36568\",\"347062\",\"248727\",\"350048\",\"12233\",\"250643\",\"113806\",\"315094\",\"31027\",\"36866\",\"236853\",\"STON/O2. 3101271\",\"24160\",\"2699\",\"239855\",\"28425\",\"233639\",\"54636\",\"W./C. 6608\",\"349201\",\"349218\",\"16988\",\"19877\",\"PC 17608\",\"376566\",\"STON/O 2. 3101288\",\"WE/P 5735\",\"C.A. 2673\",\"250648\",\"113773\",\"335097\",\"29103\",\"392096\",\"345780\",\"349204\",\"220845\",\"250649\",\"350042\",\"29108\",\"363294\",\"110152\",\"358585\",\"SOTON/O2 3101272\",\"2663\",\"113760\",\"347074\",\"13502\",\"112379\",\"364850\",\"371110\",\"8471\",\"345781\",\"350047\",\"S.O./P.P. 3\",\"2674\",\"29105\",\"347078\",\"383121\",\"364516\",\"36865\",\"24160\",\"2687\",\"17474\",\"113501\",\"W./C. 6607\",\"SOTON/O.Q. 3101312\",\"374887\",\"3101265\",\"382652\",\"C.A. 2315\",\"PC 17593\",\"12460\",\"239865\",\"CA. 2343\",\"PC 17600\",\"349203\",\"28213\",\"17465\",\"349244\",\"2685\",\"345773\",\"250647\",\"C.A. 31921\",\"113760\",\"2625\",\"347089\",\"347063\",\"112050\",\"347087\",\"248723\",\"113806\",\"3474\",\"A/4 48871\",\"28206\",\"347082\",\"364499\",\"112058\",\"STON/O2. 3101290\",\"S.C./PARIS 2079\",\"C 7075\",\"347088\",\"12749\",\"315098\",\"19972\",\"392096\",\"3101295\",\"368323\",\"1601\",\"S.C./PARIS 2079\",\"367228\",\"113572\",\"2659\",\"29106\",\"2671\",\"347468\",\"2223\",\"PC 17756\",\"315097\",\"392092\",\"1601\",\"11774\",\"SOTON/O2 3101287\",\"S.O./P.P. 3\",\"113798\",\"2683\",\"315090\",\"C.A. 5547\",\"CA. 2343\",\"349213\",\"248727\",\"17453\",\"347082\",\"347060\",\"2678\",\"PC 17592\",\"244252\",\"392091\",\"36928\",\"113055\",\"2666\",\"2629\",\"350026\",\"28134\",\"17466\",\"CA. 2343\",\"233866\",\"236852\",\"SC/PARIS 2149\",\"PC 17590\",\"345777\",\"347742\",\"349248\",\"11751\",\"695\",\"345765\",\"P/PP 3381\",\"2667\",\"7534\",\"349212\",\"349217\",\"11767\",\"230433\",\"349257\",\"7552\",\"C.A./SOTON 34068\",\"SOTON/OQ 392076\",\"382652\",\"211536\",\"112053\",\"W./C. 6607\",\"111369\",\"370376\"],\"yaxis\":\"y\"}],                        {\"coloraxis\":{\"colorbar\":{\"title\":{\"text\":\"Survived\"}},\"colorscale\":[[0.0,\"#0d0887\"],[0.1111111111111111,\"#46039f\"],[0.2222222222222222,\"#7201a8\"],[0.3333333333333333,\"#9c179e\"],[0.4444444444444444,\"#bd3786\"],[0.5555555555555556,\"#d8576b\"],[0.6666666666666666,\"#ed7953\"],[0.7777777777777778,\"#fb9f3a\"],[0.8888888888888888,\"#fdca26\"],[1.0,\"#f0f921\"]]},\"legend\":{\"tracegroupgap\":0},\"margin\":{\"t\":60},\"template\":{\"data\":{\"bar\":[{\"error_x\":{\"color\":\"#2a3f5f\"},\"error_y\":{\"color\":\"#2a3f5f\"},\"marker\":{\"line\":{\"color\":\"#E5ECF6\",\"width\":0.5},\"pattern\":{\"fillmode\":\"overlay\",\"size\":10,\"solidity\":0.2}},\"type\":\"bar\"}],\"barpolar\":[{\"marker\":{\"line\":{\"color\":\"#E5ECF6\",\"width\":0.5},\"pattern\":{\"fillmode\":\"overlay\",\"size\":10,\"solidity\":0.2}},\"type\":\"barpolar\"}],\"carpet\":[{\"aaxis\":{\"endlinecolor\":\"#2a3f5f\",\"gridcolor\":\"white\",\"linecolor\":\"white\",\"minorgridcolor\":\"white\",\"startlinecolor\":\"#2a3f5f\"},\"baxis\":{\"endlinecolor\":\"#2a3f5f\",\"gridcolor\":\"white\",\"linecolor\":\"white\",\"minorgridcolor\":\"white\",\"startlinecolor\":\"#2a3f5f\"},\"type\":\"carpet\"}],\"choropleth\":[{\"colorbar\":{\"outlinewidth\":0,\"ticks\":\"\"},\"type\":\"choropleth\"}],\"contour\":[{\"colorbar\":{\"outlinewidth\":0,\"ticks\":\"\"},\"colorscale\":[[0.0,\"#0d0887\"],[0.1111111111111111,\"#46039f\"],[0.2222222222222222,\"#7201a8\"],[0.3333333333333333,\"#9c179e\"],[0.4444444444444444,\"#bd3786\"],[0.5555555555555556,\"#d8576b\"],[0.6666666666666666,\"#ed7953\"],[0.7777777777777778,\"#fb9f3a\"],[0.8888888888888888,\"#fdca26\"],[1.0,\"#f0f921\"]],\"type\":\"contour\"}],\"contourcarpet\":[{\"colorbar\":{\"outlinewidth\":0,\"ticks\":\"\"},\"type\":\"contourcarpet\"}],\"heatmap\":[{\"colorbar\":{\"outlinewidth\":0,\"ticks\":\"\"},\"colorscale\":[[0.0,\"#0d0887\"],[0.1111111111111111,\"#46039f\"],[0.2222222222222222,\"#7201a8\"],[0.3333333333333333,\"#9c179e\"],[0.4444444444444444,\"#bd3786\"],[0.5555555555555556,\"#d8576b\"],[0.6666666666666666,\"#ed7953\"],[0.7777777777777778,\"#fb9f3a\"],[0.8888888888888888,\"#fdca26\"],[1.0,\"#f0f921\"]],\"type\":\"heatmap\"}],\"heatmapgl\":[{\"colorbar\":{\"outlinewidth\":0,\"ticks\":\"\"},\"colorscale\":[[0.0,\"#0d0887\"],[0.1111111111111111,\"#46039f\"],[0.2222222222222222,\"#7201a8\"],[0.3333333333333333,\"#9c179e\"],[0.4444444444444444,\"#bd3786\"],[0.5555555555555556,\"#d8576b\"],[0.6666666666666666,\"#ed7953\"],[0.7777777777777778,\"#fb9f3a\"],[0.8888888888888888,\"#fdca26\"],[1.0,\"#f0f921\"]],\"type\":\"heatmapgl\"}],\"histogram\":[{\"marker\":{\"pattern\":{\"fillmode\":\"overlay\",\"size\":10,\"solidity\":0.2}},\"type\":\"histogram\"}],\"histogram2d\":[{\"colorbar\":{\"outlinewidth\":0,\"ticks\":\"\"},\"colorscale\":[[0.0,\"#0d0887\"],[0.1111111111111111,\"#46039f\"],[0.2222222222222222,\"#7201a8\"],[0.3333333333333333,\"#9c179e\"],[0.4444444444444444,\"#bd3786\"],[0.5555555555555556,\"#d8576b\"],[0.6666666666666666,\"#ed7953\"],[0.7777777777777778,\"#fb9f3a\"],[0.8888888888888888,\"#fdca26\"],[1.0,\"#f0f921\"]],\"type\":\"histogram2d\"}],\"histogram2dcontour\":[{\"colorbar\":{\"outlinewidth\":0,\"ticks\":\"\"},\"colorscale\":[[0.0,\"#0d0887\"],[0.1111111111111111,\"#46039f\"],[0.2222222222222222,\"#7201a8\"],[0.3333333333333333,\"#9c179e\"],[0.4444444444444444,\"#bd3786\"],[0.5555555555555556,\"#d8576b\"],[0.6666666666666666,\"#ed7953\"],[0.7777777777777778,\"#fb9f3a\"],[0.8888888888888888,\"#fdca26\"],[1.0,\"#f0f921\"]],\"type\":\"histogram2dcontour\"}],\"mesh3d\":[{\"colorbar\":{\"outlinewidth\":0,\"ticks\":\"\"},\"type\":\"mesh3d\"}],\"parcoords\":[{\"line\":{\"colorbar\":{\"outlinewidth\":0,\"ticks\":\"\"}},\"type\":\"parcoords\"}],\"pie\":[{\"automargin\":true,\"type\":\"pie\"}],\"scatter\":[{\"marker\":{\"colorbar\":{\"outlinewidth\":0,\"ticks\":\"\"}},\"type\":\"scatter\"}],\"scatter3d\":[{\"line\":{\"colorbar\":{\"outlinewidth\":0,\"ticks\":\"\"}},\"marker\":{\"colorbar\":{\"outlinewidth\":0,\"ticks\":\"\"}},\"type\":\"scatter3d\"}],\"scattercarpet\":[{\"marker\":{\"colorbar\":{\"outlinewidth\":0,\"ticks\":\"\"}},\"type\":\"scattercarpet\"}],\"scattergeo\":[{\"marker\":{\"colorbar\":{\"outlinewidth\":0,\"ticks\":\"\"}},\"type\":\"scattergeo\"}],\"scattergl\":[{\"marker\":{\"colorbar\":{\"outlinewidth\":0,\"ticks\":\"\"}},\"type\":\"scattergl\"}],\"scattermapbox\":[{\"marker\":{\"colorbar\":{\"outlinewidth\":0,\"ticks\":\"\"}},\"type\":\"scattermapbox\"}],\"scatterpolar\":[{\"marker\":{\"colorbar\":{\"outlinewidth\":0,\"ticks\":\"\"}},\"type\":\"scatterpolar\"}],\"scatterpolargl\":[{\"marker\":{\"colorbar\":{\"outlinewidth\":0,\"ticks\":\"\"}},\"type\":\"scatterpolargl\"}],\"scatterternary\":[{\"marker\":{\"colorbar\":{\"outlinewidth\":0,\"ticks\":\"\"}},\"type\":\"scatterternary\"}],\"surface\":[{\"colorbar\":{\"outlinewidth\":0,\"ticks\":\"\"},\"colorscale\":[[0.0,\"#0d0887\"],[0.1111111111111111,\"#46039f\"],[0.2222222222222222,\"#7201a8\"],[0.3333333333333333,\"#9c179e\"],[0.4444444444444444,\"#bd3786\"],[0.5555555555555556,\"#d8576b\"],[0.6666666666666666,\"#ed7953\"],[0.7777777777777778,\"#fb9f3a\"],[0.8888888888888888,\"#fdca26\"],[1.0,\"#f0f921\"]],\"type\":\"surface\"}],\"table\":[{\"cells\":{\"fill\":{\"color\":\"#EBF0F8\"},\"line\":{\"color\":\"white\"}},\"header\":{\"fill\":{\"color\":\"#C8D4E3\"},\"line\":{\"color\":\"white\"}},\"type\":\"table\"}]},\"layout\":{\"annotationdefaults\":{\"arrowcolor\":\"#2a3f5f\",\"arrowhead\":0,\"arrowwidth\":1},\"autotypenumbers\":\"strict\",\"coloraxis\":{\"colorbar\":{\"outlinewidth\":0,\"ticks\":\"\"}},\"colorscale\":{\"diverging\":[[0,\"#8e0152\"],[0.1,\"#c51b7d\"],[0.2,\"#de77ae\"],[0.3,\"#f1b6da\"],[0.4,\"#fde0ef\"],[0.5,\"#f7f7f7\"],[0.6,\"#e6f5d0\"],[0.7,\"#b8e186\"],[0.8,\"#7fbc41\"],[0.9,\"#4d9221\"],[1,\"#276419\"]],\"sequential\":[[0.0,\"#0d0887\"],[0.1111111111111111,\"#46039f\"],[0.2222222222222222,\"#7201a8\"],[0.3333333333333333,\"#9c179e\"],[0.4444444444444444,\"#bd3786\"],[0.5555555555555556,\"#d8576b\"],[0.6666666666666666,\"#ed7953\"],[0.7777777777777778,\"#fb9f3a\"],[0.8888888888888888,\"#fdca26\"],[1.0,\"#f0f921\"]],\"sequentialminus\":[[0.0,\"#0d0887\"],[0.1111111111111111,\"#46039f\"],[0.2222222222222222,\"#7201a8\"],[0.3333333333333333,\"#9c179e\"],[0.4444444444444444,\"#bd3786\"],[0.5555555555555556,\"#d8576b\"],[0.6666666666666666,\"#ed7953\"],[0.7777777777777778,\"#fb9f3a\"],[0.8888888888888888,\"#fdca26\"],[1.0,\"#f0f921\"]]},\"colorway\":[\"#636efa\",\"#EF553B\",\"#00cc96\",\"#ab63fa\",\"#FFA15A\",\"#19d3f3\",\"#FF6692\",\"#B6E880\",\"#FF97FF\",\"#FECB52\"],\"font\":{\"color\":\"#2a3f5f\"},\"geo\":{\"bgcolor\":\"white\",\"lakecolor\":\"white\",\"landcolor\":\"#E5ECF6\",\"showlakes\":true,\"showland\":true,\"subunitcolor\":\"white\"},\"hoverlabel\":{\"align\":\"left\"},\"hovermode\":\"closest\",\"mapbox\":{\"style\":\"light\"},\"paper_bgcolor\":\"white\",\"plot_bgcolor\":\"#E5ECF6\",\"polar\":{\"angularaxis\":{\"gridcolor\":\"white\",\"linecolor\":\"white\",\"ticks\":\"\"},\"bgcolor\":\"#E5ECF6\",\"radialaxis\":{\"gridcolor\":\"white\",\"linecolor\":\"white\",\"ticks\":\"\"}},\"scene\":{\"xaxis\":{\"backgroundcolor\":\"#E5ECF6\",\"gridcolor\":\"white\",\"gridwidth\":2,\"linecolor\":\"white\",\"showbackground\":true,\"ticks\":\"\",\"zerolinecolor\":\"white\"},\"yaxis\":{\"backgroundcolor\":\"#E5ECF6\",\"gridcolor\":\"white\",\"gridwidth\":2,\"linecolor\":\"white\",\"showbackground\":true,\"ticks\":\"\",\"zerolinecolor\":\"white\"},\"zaxis\":{\"backgroundcolor\":\"#E5ECF6\",\"gridcolor\":\"white\",\"gridwidth\":2,\"linecolor\":\"white\",\"showbackground\":true,\"ticks\":\"\",\"zerolinecolor\":\"white\"}},\"shapedefaults\":{\"line\":{\"color\":\"#2a3f5f\"}},\"ternary\":{\"aaxis\":{\"gridcolor\":\"white\",\"linecolor\":\"white\",\"ticks\":\"\"},\"baxis\":{\"gridcolor\":\"white\",\"linecolor\":\"white\",\"ticks\":\"\"},\"bgcolor\":\"#E5ECF6\",\"caxis\":{\"gridcolor\":\"white\",\"linecolor\":\"white\",\"ticks\":\"\"}},\"title\":{\"x\":0.05},\"xaxis\":{\"automargin\":true,\"gridcolor\":\"white\",\"linecolor\":\"white\",\"ticks\":\"\",\"title\":{\"standoff\":15},\"zerolinecolor\":\"white\",\"zerolinewidth\":2},\"yaxis\":{\"automargin\":true,\"gridcolor\":\"white\",\"linecolor\":\"white\",\"ticks\":\"\",\"title\":{\"standoff\":15},\"zerolinecolor\":\"white\",\"zerolinewidth\":2}}},\"xaxis\":{\"anchor\":\"y\",\"domain\":[0.0,1.0],\"title\":{\"text\":\"PassengerId\"}},\"yaxis\":{\"anchor\":\"x\",\"domain\":[0.0,1.0],\"title\":{\"text\":\"Ticket\"}}},                        {\"responsive\": true}                    ).then(function(){\n",
       "                            \n",
       "var gd = document.getElementById('25561df9-11b5-4dc1-a7df-febd40a06fee');\n",
       "var x = new MutationObserver(function (mutations, observer) {{\n",
       "        var display = window.getComputedStyle(gd).display;\n",
       "        if (!display || display === 'none') {{\n",
       "            console.log([gd, 'removed!']);\n",
       "            Plotly.purge(gd);\n",
       "            observer.disconnect();\n",
       "        }}\n",
       "}});\n",
       "\n",
       "// Listen for the removal of the full notebook cells\n",
       "var notebookContainer = gd.closest('#notebook-container');\n",
       "if (notebookContainer) {{\n",
       "    x.observe(notebookContainer, {childList: true});\n",
       "}}\n",
       "\n",
       "// Listen for the clearing of the current output cell\n",
       "var outputEl = gd.closest('.output');\n",
       "if (outputEl) {{\n",
       "    x.observe(outputEl, {childList: true});\n",
       "}}\n",
       "\n",
       "                        })                };                });            </script>        </div>"
      ]
     },
     "metadata": {},
     "output_type": "display_data"
    }
   ],
   "source": [
    "px.scatter(train_df, x='PassengerId', y='Ticket', color='Survived')"
   ]
  },
  {
   "cell_type": "code",
   "execution_count": 13,
   "id": "3397ee1f",
   "metadata": {
    "execution": {
     "iopub.execute_input": "2021-11-17T11:53:00.234354Z",
     "iopub.status.busy": "2021-11-17T11:53:00.233273Z",
     "iopub.status.idle": "2021-11-17T11:53:00.245277Z",
     "shell.execute_reply": "2021-11-17T11:53:00.245781Z",
     "shell.execute_reply.started": "2021-11-17T11:51:03.733651Z"
    },
    "papermill": {
     "duration": 0.102552,
     "end_time": "2021-11-17T11:53:00.245971",
     "exception": false,
     "start_time": "2021-11-17T11:53:00.143419",
     "status": "completed"
    },
    "tags": []
   },
   "outputs": [],
   "source": [
    "ticket_df=train_df.groupby('Ticket').sum()[['Survived']]"
   ]
  },
  {
   "cell_type": "code",
   "execution_count": 14,
   "id": "343c2a42",
   "metadata": {
    "execution": {
     "iopub.execute_input": "2021-11-17T11:53:00.419686Z",
     "iopub.status.busy": "2021-11-17T11:53:00.418729Z",
     "iopub.status.idle": "2021-11-17T11:53:00.525238Z",
     "shell.execute_reply": "2021-11-17T11:53:00.524416Z",
     "shell.execute_reply.started": "2021-11-17T11:51:03.745714Z"
    },
    "papermill": {
     "duration": 0.195691,
     "end_time": "2021-11-17T11:53:00.525447",
     "exception": false,
     "start_time": "2021-11-17T11:53:00.329756",
     "status": "completed"
    },
    "tags": []
   },
   "outputs": [
    {
     "data": {
      "text/html": [
       "<div>                            <div id=\"893f9999-5d76-48f3-881a-4a9fb121c530\" class=\"plotly-graph-div\" style=\"height:525px; width:100%;\"></div>            <script type=\"text/javascript\">                require([\"plotly\"], function(Plotly) {                    window.PLOTLYENV=window.PLOTLYENV || {};                                    if (document.getElementById(\"893f9999-5d76-48f3-881a-4a9fb121c530\")) {                    Plotly.newPlot(                        \"893f9999-5d76-48f3-881a-4a9fb121c530\",                        [{\"alignmentgroup\":\"True\",\"hovertemplate\":\"variable=Survived<br>Ticket=%{x}<br>value=%{y}<extra></extra>\",\"legendgroup\":\"Survived\",\"marker\":{\"color\":\"#636efa\",\"pattern\":{\"shape\":\"\"}},\"name\":\"Survived\",\"offsetgroup\":\"Survived\",\"orientation\":\"v\",\"showlegend\":true,\"textposition\":\"auto\",\"type\":\"bar\",\"x\":[\"110152\",\"110413\",\"110465\",\"110564\",\"110813\",\"111240\",\"111320\",\"111361\",\"111369\",\"111426\",\"111427\",\"111428\",\"112050\",\"112052\",\"112053\",\"112058\",\"112059\",\"112277\",\"112379\",\"113028\",\"113043\",\"113050\",\"113051\",\"113055\",\"113056\",\"113059\",\"113501\",\"113503\",\"113505\",\"113509\",\"113510\",\"113514\",\"113572\",\"113760\",\"113767\",\"113773\",\"113776\",\"113781\",\"113783\",\"113784\",\"113786\",\"113787\",\"113788\",\"113789\",\"113792\",\"113794\",\"113796\",\"113798\",\"113800\",\"113803\",\"113804\",\"113806\",\"113807\",\"11668\",\"11751\",\"11752\",\"11753\",\"11755\",\"11765\",\"11767\",\"11769\",\"11771\",\"11774\",\"11813\",\"11967\",\"12233\",\"12460\",\"12749\",\"13049\",\"13213\",\"13214\",\"13502\",\"13507\",\"13509\",\"13567\",\"13568\",\"14311\",\"14312\",\"14313\",\"14973\",\"1601\",\"16966\",\"16988\",\"17421\",\"17453\",\"17463\",\"17464\",\"17465\",\"17466\",\"17474\",\"17764\",\"19877\",\"19928\",\"19943\",\"19947\",\"19950\",\"19952\",\"19972\",\"19988\",\"19996\",\"2003\",\"211536\",\"21440\",\"218629\",\"219533\",\"220367\",\"220845\",\"2223\",\"223596\",\"226593\",\"226875\",\"228414\",\"229236\",\"230080\",\"230136\",\"230433\",\"230434\",\"231919\",\"231945\",\"233639\",\"233866\",\"234360\",\"234604\",\"234686\",\"234818\",\"236171\",\"236852\",\"236853\",\"237442\",\"237565\",\"237668\",\"237671\",\"237736\",\"237789\",\"237798\",\"239853\",\"239854\",\"239855\",\"239856\",\"239865\",\"240929\",\"24160\",\"243847\",\"243880\",\"244252\",\"244270\",\"244278\",\"244310\",\"244358\",\"244361\",\"244367\",\"244373\",\"248698\",\"248706\",\"248723\",\"248727\",\"248731\",\"248733\",\"248738\",\"248740\",\"248747\",\"250643\",\"250644\",\"250646\",\"250647\",\"250648\",\"250649\",\"250651\",\"250652\",\"250653\",\"250655\",\"2620\",\"2623\",\"2624\",\"2625\",\"2626\",\"2627\",\"2628\",\"2629\",\"2631\",\"26360\",\"2641\",\"2647\",\"2648\",\"2649\",\"2650\",\"2651\",\"2653\",\"2659\",\"2661\",\"2662\",\"2663\",\"2664\",\"2665\",\"2666\",\"2667\",\"2668\",\"2669\",\"26707\",\"2671\",\"2672\",\"2674\",\"2677\",\"2678\",\"2680\",\"2683\",\"2685\",\"2686\",\"2687\",\"2689\",\"2690\",\"2691\",\"2693\",\"2694\",\"2695\",\"2697\",\"2699\",\"2700\",\"27267\",\"27849\",\"28134\",\"28206\",\"28213\",\"28220\",\"28228\",\"28403\",\"28424\",\"28425\",\"28551\",\"28664\",\"28665\",\"29011\",\"2908\",\"29103\",\"29104\",\"29105\",\"29106\",\"29108\",\"2926\",\"29750\",\"29751\",\"3101264\",\"3101265\",\"3101267\",\"3101276\",\"3101277\",\"3101278\",\"3101281\",\"3101295\",\"3101296\",\"3101298\",\"31027\",\"31028\",\"312991\",\"312992\",\"312993\",\"31418\",\"315037\",\"315082\",\"315084\",\"315086\",\"315088\",\"315089\",\"315090\",\"315093\",\"315094\",\"315096\",\"315097\",\"315098\",\"315151\",\"315153\",\"323592\",\"323951\",\"324669\",\"330877\",\"330909\",\"330919\",\"330923\",\"330931\",\"330932\",\"330935\",\"330958\",\"330959\",\"330979\",\"330980\",\"334912\",\"335097\",\"335677\",\"33638\",\"336439\",\"3411\",\"341826\",\"34218\",\"342826\",\"343095\",\"343120\",\"343275\",\"343276\",\"345364\",\"345572\",\"345763\",\"345764\",\"345765\",\"345767\",\"345769\",\"345770\",\"345773\",\"345774\",\"345777\",\"345778\",\"345779\",\"345780\",\"345781\",\"345783\",\"3460\",\"347054\",\"347060\",\"347061\",\"347062\",\"347063\",\"347064\",\"347067\",\"347068\",\"347069\",\"347071\",\"347073\",\"347074\",\"347076\",\"347077\",\"347078\",\"347080\",\"347081\",\"347082\",\"347083\",\"347085\",\"347087\",\"347088\",\"347089\",\"3474\",\"347464\",\"347466\",\"347468\",\"347470\",\"347742\",\"347743\",\"348121\",\"348123\",\"348124\",\"349201\",\"349203\",\"349204\",\"349205\",\"349206\",\"349207\",\"349208\",\"349209\",\"349210\",\"349212\",\"349213\",\"349214\",\"349215\",\"349216\",\"349217\",\"349218\",\"349219\",\"349221\",\"349222\",\"349223\",\"349224\",\"349225\",\"349227\",\"349228\",\"349231\",\"349233\",\"349234\",\"349236\",\"349237\",\"349239\",\"349240\",\"349241\",\"349242\",\"349243\",\"349244\",\"349245\",\"349246\",\"349247\",\"349248\",\"349249\",\"349251\",\"349252\",\"349253\",\"349254\",\"349256\",\"349257\",\"349909\",\"349910\",\"349912\",\"350025\",\"350026\",\"350029\",\"350034\",\"350035\",\"350036\",\"350042\",\"350043\",\"350046\",\"350047\",\"350048\",\"350050\",\"350052\",\"350060\",\"350404\",\"350406\",\"350407\",\"350417\",\"35273\",\"35281\",\"35851\",\"35852\",\"358585\",\"36209\",\"362316\",\"363291\",\"363294\",\"363592\",\"364498\",\"364499\",\"364500\",\"364506\",\"364511\",\"364512\",\"364516\",\"364846\",\"364848\",\"364849\",\"364850\",\"364851\",\"365222\",\"365226\",\"36568\",\"367226\",\"367228\",\"367229\",\"367230\",\"367231\",\"367232\",\"367655\",\"368323\",\"36864\",\"36865\",\"36866\",\"368703\",\"36928\",\"36947\",\"36963\",\"36967\",\"36973\",\"370129\",\"370365\",\"370369\",\"370370\",\"370371\",\"370372\",\"370373\",\"370375\",\"370376\",\"370377\",\"371060\",\"371110\",\"371362\",\"372622\",\"373450\",\"374746\",\"374887\",\"374910\",\"376564\",\"376566\",\"382649\",\"382651\",\"382652\",\"383121\",\"384461\",\"386525\",\"392091\",\"392092\",\"392096\",\"394140\",\"4133\",\"4134\",\"4135\",\"4136\",\"4137\",\"4138\",\"4579\",\"54636\",\"5727\",\"65303\",\"65304\",\"65306\",\"6563\",\"693\",\"695\",\"7267\",\"7534\",\"7540\",\"7545\",\"7546\",\"7552\",\"7553\",\"7598\",\"8471\",\"8475\",\"9234\",\"A./5. 2152\",\"A./5. 3235\",\"A.5. 11206\",\"A.5. 18509\",\"A/4 45380\",\"A/4 48871\",\"A/4. 20589\",\"A/4. 34244\",\"A/4. 39886\",\"A/5 21171\",\"A/5 21172\",\"A/5 21173\",\"A/5 21174\",\"A/5 2466\",\"A/5 2817\",\"A/5 3536\",\"A/5 3540\",\"A/5 3594\",\"A/5 3902\",\"A/5. 10482\",\"A/5. 13032\",\"A/5. 2151\",\"A/5. 3336\",\"A/5. 3337\",\"A/5. 851\",\"A/S 2816\",\"A4. 54510\",\"C 17369\",\"C 4001\",\"C 7075\",\"C 7076\",\"C 7077\",\"C.A. 17248\",\"C.A. 18723\",\"C.A. 2315\",\"C.A. 24579\",\"C.A. 24580\",\"C.A. 2673\",\"C.A. 29178\",\"C.A. 29395\",\"C.A. 29566\",\"C.A. 31026\",\"C.A. 31921\",\"C.A. 33111\",\"C.A. 33112\",\"C.A. 33595\",\"C.A. 34260\",\"C.A. 34651\",\"C.A. 37671\",\"C.A. 5547\",\"C.A. 6212\",\"C.A./SOTON 34068\",\"CA 2144\",\"CA. 2314\",\"CA. 2343\",\"F.C. 12750\",\"F.C.C. 13528\",\"F.C.C. 13529\",\"F.C.C. 13531\",\"Fa 265302\",\"LINE\",\"P/PP 3381\",\"PC 17318\",\"PC 17473\",\"PC 17474\",\"PC 17475\",\"PC 17476\",\"PC 17477\",\"PC 17482\",\"PC 17483\",\"PC 17485\",\"PC 17558\",\"PC 17569\",\"PC 17572\",\"PC 17582\",\"PC 17585\",\"PC 17590\",\"PC 17592\",\"PC 17593\",\"PC 17595\",\"PC 17596\",\"PC 17597\",\"PC 17599\",\"PC 17600\",\"PC 17601\",\"PC 17603\",\"PC 17604\",\"PC 17605\",\"PC 17608\",\"PC 17609\",\"PC 17610\",\"PC 17611\",\"PC 17612\",\"PC 17754\",\"PC 17756\",\"PC 17757\",\"PC 17758\",\"PC 17759\",\"PC 17760\",\"PC 17761\",\"PP 4348\",\"PP 9549\",\"S.C./A.4. 23567\",\"S.C./PARIS 2079\",\"S.O./P.P. 3\",\"S.O./P.P. 751\",\"S.O.C. 14879\",\"S.O.P. 1166\",\"S.P. 3464\",\"S.W./PP 752\",\"SC 1748\",\"SC/AH 29037\",\"SC/AH 3085\",\"SC/AH Basle 541\",\"SC/PARIS 2131\",\"SC/PARIS 2133\",\"SC/PARIS 2146\",\"SC/PARIS 2149\",\"SC/PARIS 2167\",\"SC/Paris 2123\",\"SC/Paris 2163\",\"SCO/W 1585\",\"SO/C 14885\",\"SOTON/O.Q. 3101305\",\"SOTON/O.Q. 3101306\",\"SOTON/O.Q. 3101307\",\"SOTON/O.Q. 3101310\",\"SOTON/O.Q. 3101311\",\"SOTON/O.Q. 3101312\",\"SOTON/O.Q. 392078\",\"SOTON/O.Q. 392087\",\"SOTON/O2 3101272\",\"SOTON/O2 3101287\",\"SOTON/OQ 3101316\",\"SOTON/OQ 3101317\",\"SOTON/OQ 392076\",\"SOTON/OQ 392082\",\"SOTON/OQ 392086\",\"SOTON/OQ 392089\",\"SOTON/OQ 392090\",\"STON/O 2. 3101269\",\"STON/O 2. 3101273\",\"STON/O 2. 3101274\",\"STON/O 2. 3101275\",\"STON/O 2. 3101280\",\"STON/O 2. 3101285\",\"STON/O 2. 3101286\",\"STON/O 2. 3101288\",\"STON/O 2. 3101289\",\"STON/O 2. 3101292\",\"STON/O 2. 3101293\",\"STON/O 2. 3101294\",\"STON/O2. 3101271\",\"STON/O2. 3101279\",\"STON/O2. 3101282\",\"STON/O2. 3101283\",\"STON/O2. 3101290\",\"SW/PP 751\",\"W./C. 14258\",\"W./C. 14263\",\"W./C. 6607\",\"W./C. 6608\",\"W./C. 6609\",\"W.E.P. 5734\",\"W/C 14208\",\"WE/P 5735\"],\"xaxis\":\"x\",\"y\":[3,2,0,1,1,0,0,2,1,1,1,1,0,0,1,0,0,1,0,0,0,0,0,1,0,0,0,0,2,0,0,0,2,4,0,0,1,2,1,0,1,0,1,1,0,1,0,1,0,1,1,2,0,0,2,1,1,1,1,2,1,0,1,1,2,0,0,2,0,1,1,3,1,0,1,1,1,1,1,0,5,2,1,3,2,0,1,1,1,2,0,1,1,2,1,2,1,0,1,2,1,0,0,0,0,0,2,0,1,1,1,1,0,2,2,2,1,2,0,0,0,0,1,0,1,0,1,0,0,0,1,0,1,1,1,0,0,0,0,0,1,3,1,1,0,1,0,0,0,0,1,1,1,1,0,2,0,1,2,0,0,0,2,0,0,1,2,0,1,0,1,1,0,0,1,1,0,0,0,0,2,0,0,0,1,1,2,2,1,2,0,1,0,0,4,1,2,0,0,0,0,0,1,0,0,0,0,0,1,0,0,0,0,0,0,0,1,0,1,1,0,0,0,1,0,0,0,0,1,0,0,0,2,1,0,1,3,0,1,1,0,0,1,0,0,0,1,1,0,0,1,1,0,1,0,0,1,0,0,0,0,0,0,0,0,0,0,0,1,0,1,0,0,0,0,0,1,1,1,1,0,1,1,0,1,0,0,1,1,0,0,0,1,0,0,1,0,0,0,1,0,0,0,0,0,0,0,1,0,0,1,0,0,0,0,0,0,0,0,0,0,0,0,0,0,0,0,0,3,0,0,1,0,1,1,0,0,1,0,0,0,0,1,3,0,0,0,0,0,0,0,0,0,0,0,0,0,0,0,0,0,0,0,0,0,0,0,0,0,0,0,0,0,0,0,0,0,0,1,0,0,0,1,0,0,0,0,0,0,0,0,0,1,0,0,0,0,0,0,0,1,0,0,0,1,1,0,0,0,0,0,0,0,0,1,2,0,1,1,0,0,0,2,0,0,0,0,0,0,0,0,2,0,0,0,0,0,0,0,0,2,1,0,2,1,0,0,0,0,0,1,0,2,2,0,0,1,0,1,0,1,0,0,1,1,0,0,0,1,0,0,0,0,0,0,1,0,0,1,0,0,0,1,1,0,2,0,0,1,0,0,0,1,0,0,0,0,0,1,0,0,0,0,0,0,0,0,0,0,1,0,0,1,0,0,0,0,0,0,0,0,0,0,0,0,0,0,0,0,1,0,0,1,0,0,0,0,0,0,0,1,0,0,0,1,0,0,1,0,0,1,0,1,0,1,2,0,1,1,1,2,2,0,0,0,0,1,0,0,1,2,1,0,1,1,0,1,1,1,1,2,1,0,2,1,2,3,2,1,0,1,0,0,0,0,1,0,0,1,1,0,2,0,1,2,0,0,1,3,1,1,2,1,0,2,0,1,0,0,0,0,0,1,1,0,1,1,0,0,1,1,0,2,0,0,1,0,0,0,0,0,0,1,0,0,0,0,0,0,0,0,1,0,1,0,0,0,0,1,1,1,1,0,0,0,0,1,1,1,0,1,1,0,0,0,0,0,0,1],\"yaxis\":\"y\"}],                        {\"barmode\":\"relative\",\"legend\":{\"title\":{\"text\":\"variable\"},\"tracegroupgap\":0},\"margin\":{\"t\":60},\"template\":{\"data\":{\"bar\":[{\"error_x\":{\"color\":\"#2a3f5f\"},\"error_y\":{\"color\":\"#2a3f5f\"},\"marker\":{\"line\":{\"color\":\"#E5ECF6\",\"width\":0.5},\"pattern\":{\"fillmode\":\"overlay\",\"size\":10,\"solidity\":0.2}},\"type\":\"bar\"}],\"barpolar\":[{\"marker\":{\"line\":{\"color\":\"#E5ECF6\",\"width\":0.5},\"pattern\":{\"fillmode\":\"overlay\",\"size\":10,\"solidity\":0.2}},\"type\":\"barpolar\"}],\"carpet\":[{\"aaxis\":{\"endlinecolor\":\"#2a3f5f\",\"gridcolor\":\"white\",\"linecolor\":\"white\",\"minorgridcolor\":\"white\",\"startlinecolor\":\"#2a3f5f\"},\"baxis\":{\"endlinecolor\":\"#2a3f5f\",\"gridcolor\":\"white\",\"linecolor\":\"white\",\"minorgridcolor\":\"white\",\"startlinecolor\":\"#2a3f5f\"},\"type\":\"carpet\"}],\"choropleth\":[{\"colorbar\":{\"outlinewidth\":0,\"ticks\":\"\"},\"type\":\"choropleth\"}],\"contour\":[{\"colorbar\":{\"outlinewidth\":0,\"ticks\":\"\"},\"colorscale\":[[0.0,\"#0d0887\"],[0.1111111111111111,\"#46039f\"],[0.2222222222222222,\"#7201a8\"],[0.3333333333333333,\"#9c179e\"],[0.4444444444444444,\"#bd3786\"],[0.5555555555555556,\"#d8576b\"],[0.6666666666666666,\"#ed7953\"],[0.7777777777777778,\"#fb9f3a\"],[0.8888888888888888,\"#fdca26\"],[1.0,\"#f0f921\"]],\"type\":\"contour\"}],\"contourcarpet\":[{\"colorbar\":{\"outlinewidth\":0,\"ticks\":\"\"},\"type\":\"contourcarpet\"}],\"heatmap\":[{\"colorbar\":{\"outlinewidth\":0,\"ticks\":\"\"},\"colorscale\":[[0.0,\"#0d0887\"],[0.1111111111111111,\"#46039f\"],[0.2222222222222222,\"#7201a8\"],[0.3333333333333333,\"#9c179e\"],[0.4444444444444444,\"#bd3786\"],[0.5555555555555556,\"#d8576b\"],[0.6666666666666666,\"#ed7953\"],[0.7777777777777778,\"#fb9f3a\"],[0.8888888888888888,\"#fdca26\"],[1.0,\"#f0f921\"]],\"type\":\"heatmap\"}],\"heatmapgl\":[{\"colorbar\":{\"outlinewidth\":0,\"ticks\":\"\"},\"colorscale\":[[0.0,\"#0d0887\"],[0.1111111111111111,\"#46039f\"],[0.2222222222222222,\"#7201a8\"],[0.3333333333333333,\"#9c179e\"],[0.4444444444444444,\"#bd3786\"],[0.5555555555555556,\"#d8576b\"],[0.6666666666666666,\"#ed7953\"],[0.7777777777777778,\"#fb9f3a\"],[0.8888888888888888,\"#fdca26\"],[1.0,\"#f0f921\"]],\"type\":\"heatmapgl\"}],\"histogram\":[{\"marker\":{\"pattern\":{\"fillmode\":\"overlay\",\"size\":10,\"solidity\":0.2}},\"type\":\"histogram\"}],\"histogram2d\":[{\"colorbar\":{\"outlinewidth\":0,\"ticks\":\"\"},\"colorscale\":[[0.0,\"#0d0887\"],[0.1111111111111111,\"#46039f\"],[0.2222222222222222,\"#7201a8\"],[0.3333333333333333,\"#9c179e\"],[0.4444444444444444,\"#bd3786\"],[0.5555555555555556,\"#d8576b\"],[0.6666666666666666,\"#ed7953\"],[0.7777777777777778,\"#fb9f3a\"],[0.8888888888888888,\"#fdca26\"],[1.0,\"#f0f921\"]],\"type\":\"histogram2d\"}],\"histogram2dcontour\":[{\"colorbar\":{\"outlinewidth\":0,\"ticks\":\"\"},\"colorscale\":[[0.0,\"#0d0887\"],[0.1111111111111111,\"#46039f\"],[0.2222222222222222,\"#7201a8\"],[0.3333333333333333,\"#9c179e\"],[0.4444444444444444,\"#bd3786\"],[0.5555555555555556,\"#d8576b\"],[0.6666666666666666,\"#ed7953\"],[0.7777777777777778,\"#fb9f3a\"],[0.8888888888888888,\"#fdca26\"],[1.0,\"#f0f921\"]],\"type\":\"histogram2dcontour\"}],\"mesh3d\":[{\"colorbar\":{\"outlinewidth\":0,\"ticks\":\"\"},\"type\":\"mesh3d\"}],\"parcoords\":[{\"line\":{\"colorbar\":{\"outlinewidth\":0,\"ticks\":\"\"}},\"type\":\"parcoords\"}],\"pie\":[{\"automargin\":true,\"type\":\"pie\"}],\"scatter\":[{\"marker\":{\"colorbar\":{\"outlinewidth\":0,\"ticks\":\"\"}},\"type\":\"scatter\"}],\"scatter3d\":[{\"line\":{\"colorbar\":{\"outlinewidth\":0,\"ticks\":\"\"}},\"marker\":{\"colorbar\":{\"outlinewidth\":0,\"ticks\":\"\"}},\"type\":\"scatter3d\"}],\"scattercarpet\":[{\"marker\":{\"colorbar\":{\"outlinewidth\":0,\"ticks\":\"\"}},\"type\":\"scattercarpet\"}],\"scattergeo\":[{\"marker\":{\"colorbar\":{\"outlinewidth\":0,\"ticks\":\"\"}},\"type\":\"scattergeo\"}],\"scattergl\":[{\"marker\":{\"colorbar\":{\"outlinewidth\":0,\"ticks\":\"\"}},\"type\":\"scattergl\"}],\"scattermapbox\":[{\"marker\":{\"colorbar\":{\"outlinewidth\":0,\"ticks\":\"\"}},\"type\":\"scattermapbox\"}],\"scatterpolar\":[{\"marker\":{\"colorbar\":{\"outlinewidth\":0,\"ticks\":\"\"}},\"type\":\"scatterpolar\"}],\"scatterpolargl\":[{\"marker\":{\"colorbar\":{\"outlinewidth\":0,\"ticks\":\"\"}},\"type\":\"scatterpolargl\"}],\"scatterternary\":[{\"marker\":{\"colorbar\":{\"outlinewidth\":0,\"ticks\":\"\"}},\"type\":\"scatterternary\"}],\"surface\":[{\"colorbar\":{\"outlinewidth\":0,\"ticks\":\"\"},\"colorscale\":[[0.0,\"#0d0887\"],[0.1111111111111111,\"#46039f\"],[0.2222222222222222,\"#7201a8\"],[0.3333333333333333,\"#9c179e\"],[0.4444444444444444,\"#bd3786\"],[0.5555555555555556,\"#d8576b\"],[0.6666666666666666,\"#ed7953\"],[0.7777777777777778,\"#fb9f3a\"],[0.8888888888888888,\"#fdca26\"],[1.0,\"#f0f921\"]],\"type\":\"surface\"}],\"table\":[{\"cells\":{\"fill\":{\"color\":\"#EBF0F8\"},\"line\":{\"color\":\"white\"}},\"header\":{\"fill\":{\"color\":\"#C8D4E3\"},\"line\":{\"color\":\"white\"}},\"type\":\"table\"}]},\"layout\":{\"annotationdefaults\":{\"arrowcolor\":\"#2a3f5f\",\"arrowhead\":0,\"arrowwidth\":1},\"autotypenumbers\":\"strict\",\"coloraxis\":{\"colorbar\":{\"outlinewidth\":0,\"ticks\":\"\"}},\"colorscale\":{\"diverging\":[[0,\"#8e0152\"],[0.1,\"#c51b7d\"],[0.2,\"#de77ae\"],[0.3,\"#f1b6da\"],[0.4,\"#fde0ef\"],[0.5,\"#f7f7f7\"],[0.6,\"#e6f5d0\"],[0.7,\"#b8e186\"],[0.8,\"#7fbc41\"],[0.9,\"#4d9221\"],[1,\"#276419\"]],\"sequential\":[[0.0,\"#0d0887\"],[0.1111111111111111,\"#46039f\"],[0.2222222222222222,\"#7201a8\"],[0.3333333333333333,\"#9c179e\"],[0.4444444444444444,\"#bd3786\"],[0.5555555555555556,\"#d8576b\"],[0.6666666666666666,\"#ed7953\"],[0.7777777777777778,\"#fb9f3a\"],[0.8888888888888888,\"#fdca26\"],[1.0,\"#f0f921\"]],\"sequentialminus\":[[0.0,\"#0d0887\"],[0.1111111111111111,\"#46039f\"],[0.2222222222222222,\"#7201a8\"],[0.3333333333333333,\"#9c179e\"],[0.4444444444444444,\"#bd3786\"],[0.5555555555555556,\"#d8576b\"],[0.6666666666666666,\"#ed7953\"],[0.7777777777777778,\"#fb9f3a\"],[0.8888888888888888,\"#fdca26\"],[1.0,\"#f0f921\"]]},\"colorway\":[\"#636efa\",\"#EF553B\",\"#00cc96\",\"#ab63fa\",\"#FFA15A\",\"#19d3f3\",\"#FF6692\",\"#B6E880\",\"#FF97FF\",\"#FECB52\"],\"font\":{\"color\":\"#2a3f5f\"},\"geo\":{\"bgcolor\":\"white\",\"lakecolor\":\"white\",\"landcolor\":\"#E5ECF6\",\"showlakes\":true,\"showland\":true,\"subunitcolor\":\"white\"},\"hoverlabel\":{\"align\":\"left\"},\"hovermode\":\"closest\",\"mapbox\":{\"style\":\"light\"},\"paper_bgcolor\":\"white\",\"plot_bgcolor\":\"#E5ECF6\",\"polar\":{\"angularaxis\":{\"gridcolor\":\"white\",\"linecolor\":\"white\",\"ticks\":\"\"},\"bgcolor\":\"#E5ECF6\",\"radialaxis\":{\"gridcolor\":\"white\",\"linecolor\":\"white\",\"ticks\":\"\"}},\"scene\":{\"xaxis\":{\"backgroundcolor\":\"#E5ECF6\",\"gridcolor\":\"white\",\"gridwidth\":2,\"linecolor\":\"white\",\"showbackground\":true,\"ticks\":\"\",\"zerolinecolor\":\"white\"},\"yaxis\":{\"backgroundcolor\":\"#E5ECF6\",\"gridcolor\":\"white\",\"gridwidth\":2,\"linecolor\":\"white\",\"showbackground\":true,\"ticks\":\"\",\"zerolinecolor\":\"white\"},\"zaxis\":{\"backgroundcolor\":\"#E5ECF6\",\"gridcolor\":\"white\",\"gridwidth\":2,\"linecolor\":\"white\",\"showbackground\":true,\"ticks\":\"\",\"zerolinecolor\":\"white\"}},\"shapedefaults\":{\"line\":{\"color\":\"#2a3f5f\"}},\"ternary\":{\"aaxis\":{\"gridcolor\":\"white\",\"linecolor\":\"white\",\"ticks\":\"\"},\"baxis\":{\"gridcolor\":\"white\",\"linecolor\":\"white\",\"ticks\":\"\"},\"bgcolor\":\"#E5ECF6\",\"caxis\":{\"gridcolor\":\"white\",\"linecolor\":\"white\",\"ticks\":\"\"}},\"title\":{\"x\":0.05},\"xaxis\":{\"automargin\":true,\"gridcolor\":\"white\",\"linecolor\":\"white\",\"ticks\":\"\",\"title\":{\"standoff\":15},\"zerolinecolor\":\"white\",\"zerolinewidth\":2},\"yaxis\":{\"automargin\":true,\"gridcolor\":\"white\",\"linecolor\":\"white\",\"ticks\":\"\",\"title\":{\"standoff\":15},\"zerolinecolor\":\"white\",\"zerolinewidth\":2}}},\"xaxis\":{\"anchor\":\"y\",\"domain\":[0.0,1.0],\"title\":{\"text\":\"Ticket\"}},\"yaxis\":{\"anchor\":\"x\",\"domain\":[0.0,1.0],\"title\":{\"text\":\"value\"}}},                        {\"responsive\": true}                    ).then(function(){\n",
       "                            \n",
       "var gd = document.getElementById('893f9999-5d76-48f3-881a-4a9fb121c530');\n",
       "var x = new MutationObserver(function (mutations, observer) {{\n",
       "        var display = window.getComputedStyle(gd).display;\n",
       "        if (!display || display === 'none') {{\n",
       "            console.log([gd, 'removed!']);\n",
       "            Plotly.purge(gd);\n",
       "            observer.disconnect();\n",
       "        }}\n",
       "}});\n",
       "\n",
       "// Listen for the removal of the full notebook cells\n",
       "var notebookContainer = gd.closest('#notebook-container');\n",
       "if (notebookContainer) {{\n",
       "    x.observe(notebookContainer, {childList: true});\n",
       "}}\n",
       "\n",
       "// Listen for the clearing of the current output cell\n",
       "var outputEl = gd.closest('.output');\n",
       "if (outputEl) {{\n",
       "    x.observe(outputEl, {childList: true});\n",
       "}}\n",
       "\n",
       "                        })                };                });            </script>        </div>"
      ]
     },
     "metadata": {},
     "output_type": "display_data"
    }
   ],
   "source": [
    "px.bar(ticket_df)"
   ]
  },
  {
   "cell_type": "markdown",
   "id": "f6be4c3c",
   "metadata": {
    "papermill": {
     "duration": 0.086195,
     "end_time": "2021-11-17T11:53:00.697987",
     "exception": false,
     "start_time": "2021-11-17T11:53:00.611792",
     "status": "completed"
    },
    "tags": []
   },
   "source": [
    "## Port"
   ]
  },
  {
   "cell_type": "markdown",
   "id": "94aae6c2",
   "metadata": {
    "papermill": {
     "duration": 0.087393,
     "end_time": "2021-11-17T11:53:00.873647",
     "exception": false,
     "start_time": "2021-11-17T11:53:00.786254",
     "status": "completed"
    },
    "tags": []
   },
   "source": [
    "Against my expectations, it looks like the port where the passengers were embarked is correlated with their survival."
   ]
  },
  {
   "cell_type": "code",
   "execution_count": 15,
   "id": "1722066e",
   "metadata": {
    "execution": {
     "iopub.execute_input": "2021-11-17T11:53:01.054715Z",
     "iopub.status.busy": "2021-11-17T11:53:01.054058Z",
     "iopub.status.idle": "2021-11-17T11:53:01.609236Z",
     "shell.execute_reply": "2021-11-17T11:53:01.608516Z",
     "shell.execute_reply.started": "2021-11-17T11:51:03.826077Z"
    },
    "papermill": {
     "duration": 0.648139,
     "end_time": "2021-11-17T11:53:01.609397",
     "exception": false,
     "start_time": "2021-11-17T11:53:00.961258",
     "status": "completed"
    },
    "tags": []
   },
   "outputs": [
    {
     "data": {
      "image/png": "[encoded data removed]",
      "text/plain": [
       "<Figure size 1123.2x288 with 3 Axes>"
      ]
     },
     "metadata": {
      "needs_background": "light"
     },
     "output_type": "display_data"
    }
   ],
   "source": [
    "bins = np.linspace(-2, 2, 10)\n",
    "g = sns.FacetGrid(train_df, col=\"Embarked\", hue=\"Survived\", height=4.0, aspect=1.3, palette=\"Set1\", col_wrap=3)\n",
    "g.map(plt.hist, 'Survived', bins=bins, ec='k')\n",
    "for i in range(3):\n",
    "    g.axes[i].set_xlabel('')\n",
    "\n",
    "g.axes[0].set_xticks([0, 1])\n",
    "g.axes[0].set_xticklabels(['Dead ', 'Survived'])\n",
    "g.axes[-1].legend()\n",
    "plt.show()"
   ]
  },
  {
   "cell_type": "markdown",
   "id": "8144cc73",
   "metadata": {
    "papermill": {
     "duration": 0.085624,
     "end_time": "2021-11-17T11:53:01.780730",
     "exception": false,
     "start_time": "2021-11-17T11:53:01.695106",
     "status": "completed"
    },
    "tags": []
   },
   "source": [
    "## Family Size"
   ]
  },
  {
   "cell_type": "markdown",
   "id": "997913b9",
   "metadata": {
    "papermill": {
     "duration": 0.088224,
     "end_time": "2021-11-17T11:53:01.954198",
     "exception": false,
     "start_time": "2021-11-17T11:53:01.865974",
     "status": "completed"
    },
    "tags": []
   },
   "source": [
    "Let's try to see how the size of the groups (families) affected the survival of the passengers."
   ]
  },
  {
   "cell_type": "code",
   "execution_count": 16,
   "id": "b2bddc3b",
   "metadata": {
    "execution": {
     "iopub.execute_input": "2021-11-17T11:53:02.130521Z",
     "iopub.status.busy": "2021-11-17T11:53:02.129787Z",
     "iopub.status.idle": "2021-11-17T11:53:02.148279Z",
     "shell.execute_reply": "2021-11-17T11:53:02.148809Z",
     "shell.execute_reply.started": "2021-11-17T11:51:04.386174Z"
    },
    "papermill": {
     "duration": 0.108208,
     "end_time": "2021-11-17T11:53:02.149003",
     "exception": false,
     "start_time": "2021-11-17T11:53:02.040795",
     "status": "completed"
    },
    "tags": []
   },
   "outputs": [
    {
     "data": {
      "text/html": [
       "<div>\n",
       "<style scoped>\n",
       "    .dataframe tbody tr th:only-of-type {\n",
       "        vertical-align: middle;\n",
       "    }\n",
       "\n",
       "    .dataframe tbody tr th {\n",
       "        vertical-align: top;\n",
       "    }\n",
       "\n",
       "    .dataframe thead th {\n",
       "        text-align: right;\n",
       "    }\n",
       "</style>\n",
       "<table border=\"1\" class=\"dataframe\">\n",
       "  <thead>\n",
       "    <tr style=\"text-align: right;\">\n",
       "      <th></th>\n",
       "      <th>PassengerId</th>\n",
       "      <th>Survived</th>\n",
       "      <th>Pclass</th>\n",
       "      <th>Age</th>\n",
       "      <th>Parch</th>\n",
       "      <th>Fare</th>\n",
       "    </tr>\n",
       "    <tr>\n",
       "      <th>SibSp</th>\n",
       "      <th></th>\n",
       "      <th></th>\n",
       "      <th></th>\n",
       "      <th></th>\n",
       "      <th></th>\n",
       "      <th></th>\n",
       "    </tr>\n",
       "  </thead>\n",
       "  <tbody>\n",
       "    <tr>\n",
       "      <th>0</th>\n",
       "      <td>454.564570</td>\n",
       "      <td>0.341060</td>\n",
       "      <td>2.360927</td>\n",
       "      <td>31.268201</td>\n",
       "      <td>0.185430</td>\n",
       "      <td>23.267824</td>\n",
       "    </tr>\n",
       "    <tr>\n",
       "      <th>1</th>\n",
       "      <td>439.727273</td>\n",
       "      <td>0.535885</td>\n",
       "      <td>2.057416</td>\n",
       "      <td>30.089727</td>\n",
       "      <td>0.655502</td>\n",
       "      <td>44.147370</td>\n",
       "    </tr>\n",
       "    <tr>\n",
       "      <th>2</th>\n",
       "      <td>412.428571</td>\n",
       "      <td>0.464286</td>\n",
       "      <td>2.357143</td>\n",
       "      <td>22.620000</td>\n",
       "      <td>0.642857</td>\n",
       "      <td>51.753718</td>\n",
       "    </tr>\n",
       "    <tr>\n",
       "      <th>3</th>\n",
       "      <td>321.562500</td>\n",
       "      <td>0.250000</td>\n",
       "      <td>2.562500</td>\n",
       "      <td>13.916667</td>\n",
       "      <td>1.312500</td>\n",
       "      <td>68.908862</td>\n",
       "    </tr>\n",
       "    <tr>\n",
       "      <th>4</th>\n",
       "      <td>381.611111</td>\n",
       "      <td>0.166667</td>\n",
       "      <td>3.000000</td>\n",
       "      <td>7.055556</td>\n",
       "      <td>1.500000</td>\n",
       "      <td>31.855556</td>\n",
       "    </tr>\n",
       "    <tr>\n",
       "      <th>5</th>\n",
       "      <td>336.800000</td>\n",
       "      <td>0.000000</td>\n",
       "      <td>3.000000</td>\n",
       "      <td>10.200000</td>\n",
       "      <td>2.000000</td>\n",
       "      <td>46.900000</td>\n",
       "    </tr>\n",
       "    <tr>\n",
       "      <th>8</th>\n",
       "      <td>481.714286</td>\n",
       "      <td>0.000000</td>\n",
       "      <td>3.000000</td>\n",
       "      <td>NaN</td>\n",
       "      <td>2.000000</td>\n",
       "      <td>69.550000</td>\n",
       "    </tr>\n",
       "  </tbody>\n",
       "</table>\n",
       "</div>"
      ],
      "text/plain": [
       "       PassengerId  Survived    Pclass        Age     Parch       Fare\n",
       "SibSp                                                                 \n",
       "0       454.564570  0.341060  2.360927  31.268201  0.185430  23.267824\n",
       "1       439.727273  0.535885  2.057416  30.089727  0.655502  44.147370\n",
       "2       412.428571  0.464286  2.357143  22.620000  0.642857  51.753718\n",
       "3       321.562500  0.250000  2.562500  13.916667  1.312500  68.908862\n",
       "4       381.611111  0.166667  3.000000   7.055556  1.500000  31.855556\n",
       "5       336.800000  0.000000  3.000000  10.200000  2.000000  46.900000\n",
       "8       481.714286  0.000000  3.000000        NaN  2.000000  69.550000"
      ]
     },
     "execution_count": 16,
     "metadata": {},
     "output_type": "execute_result"
    }
   ],
   "source": [
    "temp_df=train_df.groupby(['SibSp']).mean()\n",
    "temp_df"
   ]
  },
  {
   "cell_type": "code",
   "execution_count": 17,
   "id": "2ebc888b",
   "metadata": {
    "execution": {
     "iopub.execute_input": "2021-11-17T11:53:02.326087Z",
     "iopub.status.busy": "2021-11-17T11:53:02.325101Z",
     "iopub.status.idle": "2021-11-17T11:53:02.388198Z",
     "shell.execute_reply": "2021-11-17T11:53:02.388724Z",
     "shell.execute_reply.started": "2021-11-17T11:51:04.408035Z"
    },
    "papermill": {
     "duration": 0.152052,
     "end_time": "2021-11-17T11:53:02.388954",
     "exception": false,
     "start_time": "2021-11-17T11:53:02.236902",
     "status": "completed"
    },
    "tags": []
   },
   "outputs": [
    {
     "data": {
      "text/html": [
       "<div>                            <div id=\"493495d8-4f00-41ad-a778-7394d96c7130\" class=\"plotly-graph-div\" style=\"height:525px; width:100%;\"></div>            <script type=\"text/javascript\">                require([\"plotly\"], function(Plotly) {                    window.PLOTLYENV=window.PLOTLYENV || {};                                    if (document.getElementById(\"493495d8-4f00-41ad-a778-7394d96c7130\")) {                    Plotly.newPlot(                        \"493495d8-4f00-41ad-a778-7394d96c7130\",                        [{\"alignmentgroup\":\"True\",\"hovertemplate\":\"SibSp=%{x}<br>Survived=%{y}<extra></extra>\",\"legendgroup\":\"\",\"marker\":{\"color\":\"#636efa\",\"pattern\":{\"shape\":\"\"}},\"name\":\"\",\"offsetgroup\":\"\",\"orientation\":\"v\",\"showlegend\":false,\"textposition\":\"auto\",\"type\":\"bar\",\"x\":[0,1,2,3,4,5,8],\"xaxis\":\"x\",\"y\":[0.34105960264900664,0.5358851674641149,0.4642857142857143,0.25,0.16666666666666666,0.0,0.0],\"yaxis\":\"y\"}],                        {\"barmode\":\"relative\",\"legend\":{\"tracegroupgap\":0},\"margin\":{\"t\":60},\"template\":{\"data\":{\"bar\":[{\"error_x\":{\"color\":\"#2a3f5f\"},\"error_y\":{\"color\":\"#2a3f5f\"},\"marker\":{\"line\":{\"color\":\"#E5ECF6\",\"width\":0.5},\"pattern\":{\"fillmode\":\"overlay\",\"size\":10,\"solidity\":0.2}},\"type\":\"bar\"}],\"barpolar\":[{\"marker\":{\"line\":{\"color\":\"#E5ECF6\",\"width\":0.5},\"pattern\":{\"fillmode\":\"overlay\",\"size\":10,\"solidity\":0.2}},\"type\":\"barpolar\"}],\"carpet\":[{\"aaxis\":{\"endlinecolor\":\"#2a3f5f\",\"gridcolor\":\"white\",\"linecolor\":\"white\",\"minorgridcolor\":\"white\",\"startlinecolor\":\"#2a3f5f\"},\"baxis\":{\"endlinecolor\":\"#2a3f5f\",\"gridcolor\":\"white\",\"linecolor\":\"white\",\"minorgridcolor\":\"white\",\"startlinecolor\":\"#2a3f5f\"},\"type\":\"carpet\"}],\"choropleth\":[{\"colorbar\":{\"outlinewidth\":0,\"ticks\":\"\"},\"type\":\"choropleth\"}],\"contour\":[{\"colorbar\":{\"outlinewidth\":0,\"ticks\":\"\"},\"colorscale\":[[0.0,\"#0d0887\"],[0.1111111111111111,\"#46039f\"],[0.2222222222222222,\"#7201a8\"],[0.3333333333333333,\"#9c179e\"],[0.4444444444444444,\"#bd3786\"],[0.5555555555555556,\"#d8576b\"],[0.6666666666666666,\"#ed7953\"],[0.7777777777777778,\"#fb9f3a\"],[0.8888888888888888,\"#fdca26\"],[1.0,\"#f0f921\"]],\"type\":\"contour\"}],\"contourcarpet\":[{\"colorbar\":{\"outlinewidth\":0,\"ticks\":\"\"},\"type\":\"contourcarpet\"}],\"heatmap\":[{\"colorbar\":{\"outlinewidth\":0,\"ticks\":\"\"},\"colorscale\":[[0.0,\"#0d0887\"],[0.1111111111111111,\"#46039f\"],[0.2222222222222222,\"#7201a8\"],[0.3333333333333333,\"#9c179e\"],[0.4444444444444444,\"#bd3786\"],[0.5555555555555556,\"#d8576b\"],[0.6666666666666666,\"#ed7953\"],[0.7777777777777778,\"#fb9f3a\"],[0.8888888888888888,\"#fdca26\"],[1.0,\"#f0f921\"]],\"type\":\"heatmap\"}],\"heatmapgl\":[{\"colorbar\":{\"outlinewidth\":0,\"ticks\":\"\"},\"colorscale\":[[0.0,\"#0d0887\"],[0.1111111111111111,\"#46039f\"],[0.2222222222222222,\"#7201a8\"],[0.3333333333333333,\"#9c179e\"],[0.4444444444444444,\"#bd3786\"],[0.5555555555555556,\"#d8576b\"],[0.6666666666666666,\"#ed7953\"],[0.7777777777777778,\"#fb9f3a\"],[0.8888888888888888,\"#fdca26\"],[1.0,\"#f0f921\"]],\"type\":\"heatmapgl\"}],\"histogram\":[{\"marker\":{\"pattern\":{\"fillmode\":\"overlay\",\"size\":10,\"solidity\":0.2}},\"type\":\"histogram\"}],\"histogram2d\":[{\"colorbar\":{\"outlinewidth\":0,\"ticks\":\"\"},\"colorscale\":[[0.0,\"#0d0887\"],[0.1111111111111111,\"#46039f\"],[0.2222222222222222,\"#7201a8\"],[0.3333333333333333,\"#9c179e\"],[0.4444444444444444,\"#bd3786\"],[0.5555555555555556,\"#d8576b\"],[0.6666666666666666,\"#ed7953\"],[0.7777777777777778,\"#fb9f3a\"],[0.8888888888888888,\"#fdca26\"],[1.0,\"#f0f921\"]],\"type\":\"histogram2d\"}],\"histogram2dcontour\":[{\"colorbar\":{\"outlinewidth\":0,\"ticks\":\"\"},\"colorscale\":[[0.0,\"#0d0887\"],[0.1111111111111111,\"#46039f\"],[0.2222222222222222,\"#7201a8\"],[0.3333333333333333,\"#9c179e\"],[0.4444444444444444,\"#bd3786\"],[0.5555555555555556,\"#d8576b\"],[0.6666666666666666,\"#ed7953\"],[0.7777777777777778,\"#fb9f3a\"],[0.8888888888888888,\"#fdca26\"],[1.0,\"#f0f921\"]],\"type\":\"histogram2dcontour\"}],\"mesh3d\":[{\"colorbar\":{\"outlinewidth\":0,\"ticks\":\"\"},\"type\":\"mesh3d\"}],\"parcoords\":[{\"line\":{\"colorbar\":{\"outlinewidth\":0,\"ticks\":\"\"}},\"type\":\"parcoords\"}],\"pie\":[{\"automargin\":true,\"type\":\"pie\"}],\"scatter\":[{\"marker\":{\"colorbar\":{\"outlinewidth\":0,\"ticks\":\"\"}},\"type\":\"scatter\"}],\"scatter3d\":[{\"line\":{\"colorbar\":{\"outlinewidth\":0,\"ticks\":\"\"}},\"marker\":{\"colorbar\":{\"outlinewidth\":0,\"ticks\":\"\"}},\"type\":\"scatter3d\"}],\"scattercarpet\":[{\"marker\":{\"colorbar\":{\"outlinewidth\":0,\"ticks\":\"\"}},\"type\":\"scattercarpet\"}],\"scattergeo\":[{\"marker\":{\"colorbar\":{\"outlinewidth\":0,\"ticks\":\"\"}},\"type\":\"scattergeo\"}],\"scattergl\":[{\"marker\":{\"colorbar\":{\"outlinewidth\":0,\"ticks\":\"\"}},\"type\":\"scattergl\"}],\"scattermapbox\":[{\"marker\":{\"colorbar\":{\"outlinewidth\":0,\"ticks\":\"\"}},\"type\":\"scattermapbox\"}],\"scatterpolar\":[{\"marker\":{\"colorbar\":{\"outlinewidth\":0,\"ticks\":\"\"}},\"type\":\"scatterpolar\"}],\"scatterpolargl\":[{\"marker\":{\"colorbar\":{\"outlinewidth\":0,\"ticks\":\"\"}},\"type\":\"scatterpolargl\"}],\"scatterternary\":[{\"marker\":{\"colorbar\":{\"outlinewidth\":0,\"ticks\":\"\"}},\"type\":\"scatterternary\"}],\"surface\":[{\"colorbar\":{\"outlinewidth\":0,\"ticks\":\"\"},\"colorscale\":[[0.0,\"#0d0887\"],[0.1111111111111111,\"#46039f\"],[0.2222222222222222,\"#7201a8\"],[0.3333333333333333,\"#9c179e\"],[0.4444444444444444,\"#bd3786\"],[0.5555555555555556,\"#d8576b\"],[0.6666666666666666,\"#ed7953\"],[0.7777777777777778,\"#fb9f3a\"],[0.8888888888888888,\"#fdca26\"],[1.0,\"#f0f921\"]],\"type\":\"surface\"}],\"table\":[{\"cells\":{\"fill\":{\"color\":\"#EBF0F8\"},\"line\":{\"color\":\"white\"}},\"header\":{\"fill\":{\"color\":\"#C8D4E3\"},\"line\":{\"color\":\"white\"}},\"type\":\"table\"}]},\"layout\":{\"annotationdefaults\":{\"arrowcolor\":\"#2a3f5f\",\"arrowhead\":0,\"arrowwidth\":1},\"autotypenumbers\":\"strict\",\"coloraxis\":{\"colorbar\":{\"outlinewidth\":0,\"ticks\":\"\"}},\"colorscale\":{\"diverging\":[[0,\"#8e0152\"],[0.1,\"#c51b7d\"],[0.2,\"#de77ae\"],[0.3,\"#f1b6da\"],[0.4,\"#fde0ef\"],[0.5,\"#f7f7f7\"],[0.6,\"#e6f5d0\"],[0.7,\"#b8e186\"],[0.8,\"#7fbc41\"],[0.9,\"#4d9221\"],[1,\"#276419\"]],\"sequential\":[[0.0,\"#0d0887\"],[0.1111111111111111,\"#46039f\"],[0.2222222222222222,\"#7201a8\"],[0.3333333333333333,\"#9c179e\"],[0.4444444444444444,\"#bd3786\"],[0.5555555555555556,\"#d8576b\"],[0.6666666666666666,\"#ed7953\"],[0.7777777777777778,\"#fb9f3a\"],[0.8888888888888888,\"#fdca26\"],[1.0,\"#f0f921\"]],\"sequentialminus\":[[0.0,\"#0d0887\"],[0.1111111111111111,\"#46039f\"],[0.2222222222222222,\"#7201a8\"],[0.3333333333333333,\"#9c179e\"],[0.4444444444444444,\"#bd3786\"],[0.5555555555555556,\"#d8576b\"],[0.6666666666666666,\"#ed7953\"],[0.7777777777777778,\"#fb9f3a\"],[0.8888888888888888,\"#fdca26\"],[1.0,\"#f0f921\"]]},\"colorway\":[\"#636efa\",\"#EF553B\",\"#00cc96\",\"#ab63fa\",\"#FFA15A\",\"#19d3f3\",\"#FF6692\",\"#B6E880\",\"#FF97FF\",\"#FECB52\"],\"font\":{\"color\":\"#2a3f5f\"},\"geo\":{\"bgcolor\":\"white\",\"lakecolor\":\"white\",\"landcolor\":\"#E5ECF6\",\"showlakes\":true,\"showland\":true,\"subunitcolor\":\"white\"},\"hoverlabel\":{\"align\":\"left\"},\"hovermode\":\"closest\",\"mapbox\":{\"style\":\"light\"},\"paper_bgcolor\":\"white\",\"plot_bgcolor\":\"#E5ECF6\",\"polar\":{\"angularaxis\":{\"gridcolor\":\"white\",\"linecolor\":\"white\",\"ticks\":\"\"},\"bgcolor\":\"#E5ECF6\",\"radialaxis\":{\"gridcolor\":\"white\",\"linecolor\":\"white\",\"ticks\":\"\"}},\"scene\":{\"xaxis\":{\"backgroundcolor\":\"#E5ECF6\",\"gridcolor\":\"white\",\"gridwidth\":2,\"linecolor\":\"white\",\"showbackground\":true,\"ticks\":\"\",\"zerolinecolor\":\"white\"},\"yaxis\":{\"backgroundcolor\":\"#E5ECF6\",\"gridcolor\":\"white\",\"gridwidth\":2,\"linecolor\":\"white\",\"showbackground\":true,\"ticks\":\"\",\"zerolinecolor\":\"white\"},\"zaxis\":{\"backgroundcolor\":\"#E5ECF6\",\"gridcolor\":\"white\",\"gridwidth\":2,\"linecolor\":\"white\",\"showbackground\":true,\"ticks\":\"\",\"zerolinecolor\":\"white\"}},\"shapedefaults\":{\"line\":{\"color\":\"#2a3f5f\"}},\"ternary\":{\"aaxis\":{\"gridcolor\":\"white\",\"linecolor\":\"white\",\"ticks\":\"\"},\"baxis\":{\"gridcolor\":\"white\",\"linecolor\":\"white\",\"ticks\":\"\"},\"bgcolor\":\"#E5ECF6\",\"caxis\":{\"gridcolor\":\"white\",\"linecolor\":\"white\",\"ticks\":\"\"}},\"title\":{\"x\":0.05},\"xaxis\":{\"automargin\":true,\"gridcolor\":\"white\",\"linecolor\":\"white\",\"ticks\":\"\",\"title\":{\"standoff\":15},\"zerolinecolor\":\"white\",\"zerolinewidth\":2},\"yaxis\":{\"automargin\":true,\"gridcolor\":\"white\",\"linecolor\":\"white\",\"ticks\":\"\",\"title\":{\"standoff\":15},\"zerolinecolor\":\"white\",\"zerolinewidth\":2}}},\"xaxis\":{\"anchor\":\"y\",\"domain\":[0.0,1.0],\"title\":{\"text\":\"SibSp\"}},\"yaxis\":{\"anchor\":\"x\",\"domain\":[0.0,1.0],\"title\":{\"text\":\"Survived\"}}},                        {\"responsive\": true}                    ).then(function(){\n",
       "                            \n",
       "var gd = document.getElementById('493495d8-4f00-41ad-a778-7394d96c7130');\n",
       "var x = new MutationObserver(function (mutations, observer) {{\n",
       "        var display = window.getComputedStyle(gd).display;\n",
       "        if (!display || display === 'none') {{\n",
       "            console.log([gd, 'removed!']);\n",
       "            Plotly.purge(gd);\n",
       "            observer.disconnect();\n",
       "        }}\n",
       "}});\n",
       "\n",
       "// Listen for the removal of the full notebook cells\n",
       "var notebookContainer = gd.closest('#notebook-container');\n",
       "if (notebookContainer) {{\n",
       "    x.observe(notebookContainer, {childList: true});\n",
       "}}\n",
       "\n",
       "// Listen for the clearing of the current output cell\n",
       "var outputEl = gd.closest('.output');\n",
       "if (outputEl) {{\n",
       "    x.observe(outputEl, {childList: true});\n",
       "}}\n",
       "\n",
       "                        })                };                });            </script>        </div>"
      ]
     },
     "metadata": {},
     "output_type": "display_data"
    }
   ],
   "source": [
    "fig=px.bar(temp_df, x=temp_df.index, y='Survived')\n",
    "\n",
    "fig.show()"
   ]
  },
  {
   "cell_type": "code",
   "execution_count": 18,
   "id": "e57c4277",
   "metadata": {
    "execution": {
     "iopub.execute_input": "2021-11-17T11:53:02.568258Z",
     "iopub.status.busy": "2021-11-17T11:53:02.567274Z",
     "iopub.status.idle": "2021-11-17T11:53:02.574466Z",
     "shell.execute_reply": "2021-11-17T11:53:02.575079Z",
     "shell.execute_reply.started": "2021-11-17T11:51:04.472912Z"
    },
    "papermill": {
     "duration": 0.099112,
     "end_time": "2021-11-17T11:53:02.575284",
     "exception": false,
     "start_time": "2021-11-17T11:53:02.476172",
     "status": "completed"
    },
    "tags": []
   },
   "outputs": [],
   "source": [
    "temp2_df=train_df.groupby(['Parch']).mean()"
   ]
  },
  {
   "cell_type": "code",
   "execution_count": 19,
   "id": "e8fd2f20",
   "metadata": {
    "execution": {
     "iopub.execute_input": "2021-11-17T11:53:02.755883Z",
     "iopub.status.busy": "2021-11-17T11:53:02.754824Z",
     "iopub.status.idle": "2021-11-17T11:53:02.821303Z",
     "shell.execute_reply": "2021-11-17T11:53:02.821835Z",
     "shell.execute_reply.started": "2021-11-17T11:51:04.485657Z"
    },
    "papermill": {
     "duration": 0.158397,
     "end_time": "2021-11-17T11:53:02.822043",
     "exception": false,
     "start_time": "2021-11-17T11:53:02.663646",
     "status": "completed"
    },
    "tags": []
   },
   "outputs": [
    {
     "data": {
      "text/html": [
       "<div>                            <div id=\"859cbba1-f208-477a-9771-3f50d7b8c8fd\" class=\"plotly-graph-div\" style=\"height:525px; width:100%;\"></div>            <script type=\"text/javascript\">                require([\"plotly\"], function(Plotly) {                    window.PLOTLYENV=window.PLOTLYENV || {};                                    if (document.getElementById(\"859cbba1-f208-477a-9771-3f50d7b8c8fd\")) {                    Plotly.newPlot(                        \"859cbba1-f208-477a-9771-3f50d7b8c8fd\",                        [{\"alignmentgroup\":\"True\",\"hovertemplate\":\"Parch=%{x}<br>Survived=%{y}<extra></extra>\",\"legendgroup\":\"\",\"marker\":{\"color\":\"#636efa\",\"pattern\":{\"shape\":\"\"}},\"name\":\"\",\"offsetgroup\":\"\",\"orientation\":\"v\",\"showlegend\":false,\"textposition\":\"auto\",\"type\":\"bar\",\"x\":[0,1,2,3,4,5,6],\"xaxis\":\"x\",\"y\":[0.34074074074074073,0.5470085470085471,0.5,0.6,0.0,0.2,0.0],\"yaxis\":\"y\"}],                        {\"barmode\":\"relative\",\"legend\":{\"tracegroupgap\":0},\"margin\":{\"t\":60},\"template\":{\"data\":{\"bar\":[{\"error_x\":{\"color\":\"#2a3f5f\"},\"error_y\":{\"color\":\"#2a3f5f\"},\"marker\":{\"line\":{\"color\":\"#E5ECF6\",\"width\":0.5},\"pattern\":{\"fillmode\":\"overlay\",\"size\":10,\"solidity\":0.2}},\"type\":\"bar\"}],\"barpolar\":[{\"marker\":{\"line\":{\"color\":\"#E5ECF6\",\"width\":0.5},\"pattern\":{\"fillmode\":\"overlay\",\"size\":10,\"solidity\":0.2}},\"type\":\"barpolar\"}],\"carpet\":[{\"aaxis\":{\"endlinecolor\":\"#2a3f5f\",\"gridcolor\":\"white\",\"linecolor\":\"white\",\"minorgridcolor\":\"white\",\"startlinecolor\":\"#2a3f5f\"},\"baxis\":{\"endlinecolor\":\"#2a3f5f\",\"gridcolor\":\"white\",\"linecolor\":\"white\",\"minorgridcolor\":\"white\",\"startlinecolor\":\"#2a3f5f\"},\"type\":\"carpet\"}],\"choropleth\":[{\"colorbar\":{\"outlinewidth\":0,\"ticks\":\"\"},\"type\":\"choropleth\"}],\"contour\":[{\"colorbar\":{\"outlinewidth\":0,\"ticks\":\"\"},\"colorscale\":[[0.0,\"#0d0887\"],[0.1111111111111111,\"#46039f\"],[0.2222222222222222,\"#7201a8\"],[0.3333333333333333,\"#9c179e\"],[0.4444444444444444,\"#bd3786\"],[0.5555555555555556,\"#d8576b\"],[0.6666666666666666,\"#ed7953\"],[0.7777777777777778,\"#fb9f3a\"],[0.8888888888888888,\"#fdca26\"],[1.0,\"#f0f921\"]],\"type\":\"contour\"}],\"contourcarpet\":[{\"colorbar\":{\"outlinewidth\":0,\"ticks\":\"\"},\"type\":\"contourcarpet\"}],\"heatmap\":[{\"colorbar\":{\"outlinewidth\":0,\"ticks\":\"\"},\"colorscale\":[[0.0,\"#0d0887\"],[0.1111111111111111,\"#46039f\"],[0.2222222222222222,\"#7201a8\"],[0.3333333333333333,\"#9c179e\"],[0.4444444444444444,\"#bd3786\"],[0.5555555555555556,\"#d8576b\"],[0.6666666666666666,\"#ed7953\"],[0.7777777777777778,\"#fb9f3a\"],[0.8888888888888888,\"#fdca26\"],[1.0,\"#f0f921\"]],\"type\":\"heatmap\"}],\"heatmapgl\":[{\"colorbar\":{\"outlinewidth\":0,\"ticks\":\"\"},\"colorscale\":[[0.0,\"#0d0887\"],[0.1111111111111111,\"#46039f\"],[0.2222222222222222,\"#7201a8\"],[0.3333333333333333,\"#9c179e\"],[0.4444444444444444,\"#bd3786\"],[0.5555555555555556,\"#d8576b\"],[0.6666666666666666,\"#ed7953\"],[0.7777777777777778,\"#fb9f3a\"],[0.8888888888888888,\"#fdca26\"],[1.0,\"#f0f921\"]],\"type\":\"heatmapgl\"}],\"histogram\":[{\"marker\":{\"pattern\":{\"fillmode\":\"overlay\",\"size\":10,\"solidity\":0.2}},\"type\":\"histogram\"}],\"histogram2d\":[{\"colorbar\":{\"outlinewidth\":0,\"ticks\":\"\"},\"colorscale\":[[0.0,\"#0d0887\"],[0.1111111111111111,\"#46039f\"],[0.2222222222222222,\"#7201a8\"],[0.3333333333333333,\"#9c179e\"],[0.4444444444444444,\"#bd3786\"],[0.5555555555555556,\"#d8576b\"],[0.6666666666666666,\"#ed7953\"],[0.7777777777777778,\"#fb9f3a\"],[0.8888888888888888,\"#fdca26\"],[1.0,\"#f0f921\"]],\"type\":\"histogram2d\"}],\"histogram2dcontour\":[{\"colorbar\":{\"outlinewidth\":0,\"ticks\":\"\"},\"colorscale\":[[0.0,\"#0d0887\"],[0.1111111111111111,\"#46039f\"],[0.2222222222222222,\"#7201a8\"],[0.3333333333333333,\"#9c179e\"],[0.4444444444444444,\"#bd3786\"],[0.5555555555555556,\"#d8576b\"],[0.6666666666666666,\"#ed7953\"],[0.7777777777777778,\"#fb9f3a\"],[0.8888888888888888,\"#fdca26\"],[1.0,\"#f0f921\"]],\"type\":\"histogram2dcontour\"}],\"mesh3d\":[{\"colorbar\":{\"outlinewidth\":0,\"ticks\":\"\"},\"type\":\"mesh3d\"}],\"parcoords\":[{\"line\":{\"colorbar\":{\"outlinewidth\":0,\"ticks\":\"\"}},\"type\":\"parcoords\"}],\"pie\":[{\"automargin\":true,\"type\":\"pie\"}],\"scatter\":[{\"marker\":{\"colorbar\":{\"outlinewidth\":0,\"ticks\":\"\"}},\"type\":\"scatter\"}],\"scatter3d\":[{\"line\":{\"colorbar\":{\"outlinewidth\":0,\"ticks\":\"\"}},\"marker\":{\"colorbar\":{\"outlinewidth\":0,\"ticks\":\"\"}},\"type\":\"scatter3d\"}],\"scattercarpet\":[{\"marker\":{\"colorbar\":{\"outlinewidth\":0,\"ticks\":\"\"}},\"type\":\"scattercarpet\"}],\"scattergeo\":[{\"marker\":{\"colorbar\":{\"outlinewidth\":0,\"ticks\":\"\"}},\"type\":\"scattergeo\"}],\"scattergl\":[{\"marker\":{\"colorbar\":{\"outlinewidth\":0,\"ticks\":\"\"}},\"type\":\"scattergl\"}],\"scattermapbox\":[{\"marker\":{\"colorbar\":{\"outlinewidth\":0,\"ticks\":\"\"}},\"type\":\"scattermapbox\"}],\"scatterpolar\":[{\"marker\":{\"colorbar\":{\"outlinewidth\":0,\"ticks\":\"\"}},\"type\":\"scatterpolar\"}],\"scatterpolargl\":[{\"marker\":{\"colorbar\":{\"outlinewidth\":0,\"ticks\":\"\"}},\"type\":\"scatterpolargl\"}],\"scatterternary\":[{\"marker\":{\"colorbar\":{\"outlinewidth\":0,\"ticks\":\"\"}},\"type\":\"scatterternary\"}],\"surface\":[{\"colorbar\":{\"outlinewidth\":0,\"ticks\":\"\"},\"colorscale\":[[0.0,\"#0d0887\"],[0.1111111111111111,\"#46039f\"],[0.2222222222222222,\"#7201a8\"],[0.3333333333333333,\"#9c179e\"],[0.4444444444444444,\"#bd3786\"],[0.5555555555555556,\"#d8576b\"],[0.6666666666666666,\"#ed7953\"],[0.7777777777777778,\"#fb9f3a\"],[0.8888888888888888,\"#fdca26\"],[1.0,\"#f0f921\"]],\"type\":\"surface\"}],\"table\":[{\"cells\":{\"fill\":{\"color\":\"#EBF0F8\"},\"line\":{\"color\":\"white\"}},\"header\":{\"fill\":{\"color\":\"#C8D4E3\"},\"line\":{\"color\":\"white\"}},\"type\":\"table\"}]},\"layout\":{\"annotationdefaults\":{\"arrowcolor\":\"#2a3f5f\",\"arrowhead\":0,\"arrowwidth\":1},\"autotypenumbers\":\"strict\",\"coloraxis\":{\"colorbar\":{\"outlinewidth\":0,\"ticks\":\"\"}},\"colorscale\":{\"diverging\":[[0,\"#8e0152\"],[0.1,\"#c51b7d\"],[0.2,\"#de77ae\"],[0.3,\"#f1b6da\"],[0.4,\"#fde0ef\"],[0.5,\"#f7f7f7\"],[0.6,\"#e6f5d0\"],[0.7,\"#b8e186\"],[0.8,\"#7fbc41\"],[0.9,\"#4d9221\"],[1,\"#276419\"]],\"sequential\":[[0.0,\"#0d0887\"],[0.1111111111111111,\"#46039f\"],[0.2222222222222222,\"#7201a8\"],[0.3333333333333333,\"#9c179e\"],[0.4444444444444444,\"#bd3786\"],[0.5555555555555556,\"#d8576b\"],[0.6666666666666666,\"#ed7953\"],[0.7777777777777778,\"#fb9f3a\"],[0.8888888888888888,\"#fdca26\"],[1.0,\"#f0f921\"]],\"sequentialminus\":[[0.0,\"#0d0887\"],[0.1111111111111111,\"#46039f\"],[0.2222222222222222,\"#7201a8\"],[0.3333333333333333,\"#9c179e\"],[0.4444444444444444,\"#bd3786\"],[0.5555555555555556,\"#d8576b\"],[0.6666666666666666,\"#ed7953\"],[0.7777777777777778,\"#fb9f3a\"],[0.8888888888888888,\"#fdca26\"],[1.0,\"#f0f921\"]]},\"colorway\":[\"#636efa\",\"#EF553B\",\"#00cc96\",\"#ab63fa\",\"#FFA15A\",\"#19d3f3\",\"#FF6692\",\"#B6E880\",\"#FF97FF\",\"#FECB52\"],\"font\":{\"color\":\"#2a3f5f\"},\"geo\":{\"bgcolor\":\"white\",\"lakecolor\":\"white\",\"landcolor\":\"#E5ECF6\",\"showlakes\":true,\"showland\":true,\"subunitcolor\":\"white\"},\"hoverlabel\":{\"align\":\"left\"},\"hovermode\":\"closest\",\"mapbox\":{\"style\":\"light\"},\"paper_bgcolor\":\"white\",\"plot_bgcolor\":\"#E5ECF6\",\"polar\":{\"angularaxis\":{\"gridcolor\":\"white\",\"linecolor\":\"white\",\"ticks\":\"\"},\"bgcolor\":\"#E5ECF6\",\"radialaxis\":{\"gridcolor\":\"white\",\"linecolor\":\"white\",\"ticks\":\"\"}},\"scene\":{\"xaxis\":{\"backgroundcolor\":\"#E5ECF6\",\"gridcolor\":\"white\",\"gridwidth\":2,\"linecolor\":\"white\",\"showbackground\":true,\"ticks\":\"\",\"zerolinecolor\":\"white\"},\"yaxis\":{\"backgroundcolor\":\"#E5ECF6\",\"gridcolor\":\"white\",\"gridwidth\":2,\"linecolor\":\"white\",\"showbackground\":true,\"ticks\":\"\",\"zerolinecolor\":\"white\"},\"zaxis\":{\"backgroundcolor\":\"#E5ECF6\",\"gridcolor\":\"white\",\"gridwidth\":2,\"linecolor\":\"white\",\"showbackground\":true,\"ticks\":\"\",\"zerolinecolor\":\"white\"}},\"shapedefaults\":{\"line\":{\"color\":\"#2a3f5f\"}},\"ternary\":{\"aaxis\":{\"gridcolor\":\"white\",\"linecolor\":\"white\",\"ticks\":\"\"},\"baxis\":{\"gridcolor\":\"white\",\"linecolor\":\"white\",\"ticks\":\"\"},\"bgcolor\":\"#E5ECF6\",\"caxis\":{\"gridcolor\":\"white\",\"linecolor\":\"white\",\"ticks\":\"\"}},\"title\":{\"x\":0.05},\"xaxis\":{\"automargin\":true,\"gridcolor\":\"white\",\"linecolor\":\"white\",\"ticks\":\"\",\"title\":{\"standoff\":15},\"zerolinecolor\":\"white\",\"zerolinewidth\":2},\"yaxis\":{\"automargin\":true,\"gridcolor\":\"white\",\"linecolor\":\"white\",\"ticks\":\"\",\"title\":{\"standoff\":15},\"zerolinecolor\":\"white\",\"zerolinewidth\":2}}},\"xaxis\":{\"anchor\":\"y\",\"domain\":[0.0,1.0],\"title\":{\"text\":\"Parch\"}},\"yaxis\":{\"anchor\":\"x\",\"domain\":[0.0,1.0],\"title\":{\"text\":\"Survived\"}}},                        {\"responsive\": true}                    ).then(function(){\n",
       "                            \n",
       "var gd = document.getElementById('859cbba1-f208-477a-9771-3f50d7b8c8fd');\n",
       "var x = new MutationObserver(function (mutations, observer) {{\n",
       "        var display = window.getComputedStyle(gd).display;\n",
       "        if (!display || display === 'none') {{\n",
       "            console.log([gd, 'removed!']);\n",
       "            Plotly.purge(gd);\n",
       "            observer.disconnect();\n",
       "        }}\n",
       "}});\n",
       "\n",
       "// Listen for the removal of the full notebook cells\n",
       "var notebookContainer = gd.closest('#notebook-container');\n",
       "if (notebookContainer) {{\n",
       "    x.observe(notebookContainer, {childList: true});\n",
       "}}\n",
       "\n",
       "// Listen for the clearing of the current output cell\n",
       "var outputEl = gd.closest('.output');\n",
       "if (outputEl) {{\n",
       "    x.observe(outputEl, {childList: true});\n",
       "}}\n",
       "\n",
       "                        })                };                });            </script>        </div>"
      ]
     },
     "metadata": {},
     "output_type": "display_data"
    }
   ],
   "source": [
    "px.bar(temp2_df, x=temp2_df.index, y='Survived')"
   ]
  },
  {
   "cell_type": "markdown",
   "id": "060f07ff",
   "metadata": {
    "papermill": {
     "duration": 0.090428,
     "end_time": "2021-11-17T11:53:03.002525",
     "exception": false,
     "start_time": "2021-11-17T11:53:02.912097",
     "status": "completed"
    },
    "tags": []
   },
   "source": [
    "It looks like Parch and SibSp have a similar trend, so let's add them up in a new column, that I will call FamSize, as it represents the family size. Again, it looks like there is an optimum number, then the chance of survival decreases again. However, for some reason adding this data or substituting it to Parch and SibSp does not seem to improve the predictions. "
   ]
  },
  {
   "cell_type": "code",
   "execution_count": 20,
   "id": "803b3a49",
   "metadata": {
    "execution": {
     "iopub.execute_input": "2021-11-17T11:53:03.183849Z",
     "iopub.status.busy": "2021-11-17T11:53:03.182809Z",
     "iopub.status.idle": "2021-11-17T11:53:03.201573Z",
     "shell.execute_reply": "2021-11-17T11:53:03.202267Z",
     "shell.execute_reply.started": "2021-11-17T11:51:04.558391Z"
    },
    "papermill": {
     "duration": 0.110735,
     "end_time": "2021-11-17T11:53:03.202475",
     "exception": false,
     "start_time": "2021-11-17T11:53:03.091740",
     "status": "completed"
    },
    "tags": []
   },
   "outputs": [
    {
     "data": {
      "text/html": [
       "<div>\n",
       "<style scoped>\n",
       "    .dataframe tbody tr th:only-of-type {\n",
       "        vertical-align: middle;\n",
       "    }\n",
       "\n",
       "    .dataframe tbody tr th {\n",
       "        vertical-align: top;\n",
       "    }\n",
       "\n",
       "    .dataframe thead th {\n",
       "        text-align: right;\n",
       "    }\n",
       "</style>\n",
       "<table border=\"1\" class=\"dataframe\">\n",
       "  <thead>\n",
       "    <tr style=\"text-align: right;\">\n",
       "      <th></th>\n",
       "      <th>PassengerId</th>\n",
       "      <th>Survived</th>\n",
       "      <th>Pclass</th>\n",
       "      <th>Name</th>\n",
       "      <th>Sex</th>\n",
       "      <th>Age</th>\n",
       "      <th>SibSp</th>\n",
       "      <th>Parch</th>\n",
       "      <th>Ticket</th>\n",
       "      <th>Fare</th>\n",
       "      <th>Cabin</th>\n",
       "      <th>Embarked</th>\n",
       "      <th>FamSize</th>\n",
       "    </tr>\n",
       "  </thead>\n",
       "  <tbody>\n",
       "    <tr>\n",
       "      <th>0</th>\n",
       "      <td>1</td>\n",
       "      <td>0</td>\n",
       "      <td>3</td>\n",
       "      <td>Braund, Mr. Owen Harris</td>\n",
       "      <td>male</td>\n",
       "      <td>22.0</td>\n",
       "      <td>1</td>\n",
       "      <td>0</td>\n",
       "      <td>A/5 21171</td>\n",
       "      <td>7.2500</td>\n",
       "      <td>NaN</td>\n",
       "      <td>S</td>\n",
       "      <td>1</td>\n",
       "    </tr>\n",
       "    <tr>\n",
       "      <th>1</th>\n",
       "      <td>2</td>\n",
       "      <td>1</td>\n",
       "      <td>1</td>\n",
       "      <td>Cumings, Mrs. John Bradley (Florence Briggs Th...</td>\n",
       "      <td>female</td>\n",
       "      <td>38.0</td>\n",
       "      <td>1</td>\n",
       "      <td>0</td>\n",
       "      <td>PC 17599</td>\n",
       "      <td>71.2833</td>\n",
       "      <td>C85</td>\n",
       "      <td>C</td>\n",
       "      <td>1</td>\n",
       "    </tr>\n",
       "    <tr>\n",
       "      <th>2</th>\n",
       "      <td>3</td>\n",
       "      <td>1</td>\n",
       "      <td>3</td>\n",
       "      <td>Heikkinen, Miss. Laina</td>\n",
       "      <td>female</td>\n",
       "      <td>26.0</td>\n",
       "      <td>0</td>\n",
       "      <td>0</td>\n",
       "      <td>STON/O2. 3101282</td>\n",
       "      <td>7.9250</td>\n",
       "      <td>NaN</td>\n",
       "      <td>S</td>\n",
       "      <td>0</td>\n",
       "    </tr>\n",
       "    <tr>\n",
       "      <th>3</th>\n",
       "      <td>4</td>\n",
       "      <td>1</td>\n",
       "      <td>1</td>\n",
       "      <td>Futrelle, Mrs. Jacques Heath (Lily May Peel)</td>\n",
       "      <td>female</td>\n",
       "      <td>35.0</td>\n",
       "      <td>1</td>\n",
       "      <td>0</td>\n",
       "      <td>113803</td>\n",
       "      <td>53.1000</td>\n",
       "      <td>C123</td>\n",
       "      <td>S</td>\n",
       "      <td>1</td>\n",
       "    </tr>\n",
       "    <tr>\n",
       "      <th>4</th>\n",
       "      <td>5</td>\n",
       "      <td>0</td>\n",
       "      <td>3</td>\n",
       "      <td>Allen, Mr. William Henry</td>\n",
       "      <td>male</td>\n",
       "      <td>35.0</td>\n",
       "      <td>0</td>\n",
       "      <td>0</td>\n",
       "      <td>373450</td>\n",
       "      <td>8.0500</td>\n",
       "      <td>NaN</td>\n",
       "      <td>S</td>\n",
       "      <td>0</td>\n",
       "    </tr>\n",
       "  </tbody>\n",
       "</table>\n",
       "</div>"
      ],
      "text/plain": [
       "   PassengerId  Survived  Pclass  \\\n",
       "0            1         0       3   \n",
       "1            2         1       1   \n",
       "2            3         1       3   \n",
       "3            4         1       1   \n",
       "4            5         0       3   \n",
       "\n",
       "                                                Name     Sex   Age  SibSp  \\\n",
       "0                            Braund, Mr. Owen Harris    male  22.0      1   \n",
       "1  Cumings, Mrs. John Bradley (Florence Briggs Th...  female  38.0      1   \n",
       "2                             Heikkinen, Miss. Laina  female  26.0      0   \n",
       "3       Futrelle, Mrs. Jacques Heath (Lily May Peel)  female  35.0      1   \n",
       "4                           Allen, Mr. William Henry    male  35.0      0   \n",
       "\n",
       "   Parch            Ticket     Fare Cabin Embarked  FamSize  \n",
       "0      0         A/5 21171   7.2500   NaN        S        1  \n",
       "1      0          PC 17599  71.2833   C85        C        1  \n",
       "2      0  STON/O2. 3101282   7.9250   NaN        S        0  \n",
       "3      0            113803  53.1000  C123        S        1  \n",
       "4      0            373450   8.0500   NaN        S        0  "
      ]
     },
     "execution_count": 20,
     "metadata": {},
     "output_type": "execute_result"
    }
   ],
   "source": [
    "train_df['FamSize']=train_df['SibSp']+train_df['Parch']\n",
    "train_df.head()"
   ]
  },
  {
   "cell_type": "code",
   "execution_count": 21,
   "id": "7f290ccc",
   "metadata": {
    "execution": {
     "iopub.execute_input": "2021-11-17T11:53:03.384992Z",
     "iopub.status.busy": "2021-11-17T11:53:03.383978Z",
     "iopub.status.idle": "2021-11-17T11:53:03.455049Z",
     "shell.execute_reply": "2021-11-17T11:53:03.455662Z",
     "shell.execute_reply.started": "2021-11-17T11:51:04.579803Z"
    },
    "papermill": {
     "duration": 0.163489,
     "end_time": "2021-11-17T11:53:03.455887",
     "exception": false,
     "start_time": "2021-11-17T11:53:03.292398",
     "status": "completed"
    },
    "tags": []
   },
   "outputs": [
    {
     "data": {
      "text/html": [
       "<div>                            <div id=\"eafd020a-2720-427b-aa18-66815f739322\" class=\"plotly-graph-div\" style=\"height:525px; width:100%;\"></div>            <script type=\"text/javascript\">                require([\"plotly\"], function(Plotly) {                    window.PLOTLYENV=window.PLOTLYENV || {};                                    if (document.getElementById(\"eafd020a-2720-427b-aa18-66815f739322\")) {                    Plotly.newPlot(                        \"eafd020a-2720-427b-aa18-66815f739322\",                        [{\"alignmentgroup\":\"True\",\"hovertemplate\":\"FamSize=%{x}<br>Survived=%{y}<extra></extra>\",\"legendgroup\":\"\",\"marker\":{\"color\":\"#636efa\",\"pattern\":{\"shape\":\"\"}},\"name\":\"\",\"offsetgroup\":\"\",\"orientation\":\"v\",\"showlegend\":false,\"textposition\":\"auto\",\"type\":\"bar\",\"x\":[0,1,2,3,4,5,6,7,10],\"xaxis\":\"x\",\"y\":[0.299625468164794,0.55,0.5784313725490197,0.7241379310344828,0.2,0.13636363636363635,0.3333333333333333,0.0,0.0],\"yaxis\":\"y\"}],                        {\"barmode\":\"relative\",\"legend\":{\"tracegroupgap\":0},\"margin\":{\"t\":60},\"template\":{\"data\":{\"bar\":[{\"error_x\":{\"color\":\"#2a3f5f\"},\"error_y\":{\"color\":\"#2a3f5f\"},\"marker\":{\"line\":{\"color\":\"#E5ECF6\",\"width\":0.5},\"pattern\":{\"fillmode\":\"overlay\",\"size\":10,\"solidity\":0.2}},\"type\":\"bar\"}],\"barpolar\":[{\"marker\":{\"line\":{\"color\":\"#E5ECF6\",\"width\":0.5},\"pattern\":{\"fillmode\":\"overlay\",\"size\":10,\"solidity\":0.2}},\"type\":\"barpolar\"}],\"carpet\":[{\"aaxis\":{\"endlinecolor\":\"#2a3f5f\",\"gridcolor\":\"white\",\"linecolor\":\"white\",\"minorgridcolor\":\"white\",\"startlinecolor\":\"#2a3f5f\"},\"baxis\":{\"endlinecolor\":\"#2a3f5f\",\"gridcolor\":\"white\",\"linecolor\":\"white\",\"minorgridcolor\":\"white\",\"startlinecolor\":\"#2a3f5f\"},\"type\":\"carpet\"}],\"choropleth\":[{\"colorbar\":{\"outlinewidth\":0,\"ticks\":\"\"},\"type\":\"choropleth\"}],\"contour\":[{\"colorbar\":{\"outlinewidth\":0,\"ticks\":\"\"},\"colorscale\":[[0.0,\"#0d0887\"],[0.1111111111111111,\"#46039f\"],[0.2222222222222222,\"#7201a8\"],[0.3333333333333333,\"#9c179e\"],[0.4444444444444444,\"#bd3786\"],[0.5555555555555556,\"#d8576b\"],[0.6666666666666666,\"#ed7953\"],[0.7777777777777778,\"#fb9f3a\"],[0.8888888888888888,\"#fdca26\"],[1.0,\"#f0f921\"]],\"type\":\"contour\"}],\"contourcarpet\":[{\"colorbar\":{\"outlinewidth\":0,\"ticks\":\"\"},\"type\":\"contourcarpet\"}],\"heatmap\":[{\"colorbar\":{\"outlinewidth\":0,\"ticks\":\"\"},\"colorscale\":[[0.0,\"#0d0887\"],[0.1111111111111111,\"#46039f\"],[0.2222222222222222,\"#7201a8\"],[0.3333333333333333,\"#9c179e\"],[0.4444444444444444,\"#bd3786\"],[0.5555555555555556,\"#d8576b\"],[0.6666666666666666,\"#ed7953\"],[0.7777777777777778,\"#fb9f3a\"],[0.8888888888888888,\"#fdca26\"],[1.0,\"#f0f921\"]],\"type\":\"heatmap\"}],\"heatmapgl\":[{\"colorbar\":{\"outlinewidth\":0,\"ticks\":\"\"},\"colorscale\":[[0.0,\"#0d0887\"],[0.1111111111111111,\"#46039f\"],[0.2222222222222222,\"#7201a8\"],[0.3333333333333333,\"#9c179e\"],[0.4444444444444444,\"#bd3786\"],[0.5555555555555556,\"#d8576b\"],[0.6666666666666666,\"#ed7953\"],[0.7777777777777778,\"#fb9f3a\"],[0.8888888888888888,\"#fdca26\"],[1.0,\"#f0f921\"]],\"type\":\"heatmapgl\"}],\"histogram\":[{\"marker\":{\"pattern\":{\"fillmode\":\"overlay\",\"size\":10,\"solidity\":0.2}},\"type\":\"histogram\"}],\"histogram2d\":[{\"colorbar\":{\"outlinewidth\":0,\"ticks\":\"\"},\"colorscale\":[[0.0,\"#0d0887\"],[0.1111111111111111,\"#46039f\"],[0.2222222222222222,\"#7201a8\"],[0.3333333333333333,\"#9c179e\"],[0.4444444444444444,\"#bd3786\"],[0.5555555555555556,\"#d8576b\"],[0.6666666666666666,\"#ed7953\"],[0.7777777777777778,\"#fb9f3a\"],[0.8888888888888888,\"#fdca26\"],[1.0,\"#f0f921\"]],\"type\":\"histogram2d\"}],\"histogram2dcontour\":[{\"colorbar\":{\"outlinewidth\":0,\"ticks\":\"\"},\"colorscale\":[[0.0,\"#0d0887\"],[0.1111111111111111,\"#46039f\"],[0.2222222222222222,\"#7201a8\"],[0.3333333333333333,\"#9c179e\"],[0.4444444444444444,\"#bd3786\"],[0.5555555555555556,\"#d8576b\"],[0.6666666666666666,\"#ed7953\"],[0.7777777777777778,\"#fb9f3a\"],[0.8888888888888888,\"#fdca26\"],[1.0,\"#f0f921\"]],\"type\":\"histogram2dcontour\"}],\"mesh3d\":[{\"colorbar\":{\"outlinewidth\":0,\"ticks\":\"\"},\"type\":\"mesh3d\"}],\"parcoords\":[{\"line\":{\"colorbar\":{\"outlinewidth\":0,\"ticks\":\"\"}},\"type\":\"parcoords\"}],\"pie\":[{\"automargin\":true,\"type\":\"pie\"}],\"scatter\":[{\"marker\":{\"colorbar\":{\"outlinewidth\":0,\"ticks\":\"\"}},\"type\":\"scatter\"}],\"scatter3d\":[{\"line\":{\"colorbar\":{\"outlinewidth\":0,\"ticks\":\"\"}},\"marker\":{\"colorbar\":{\"outlinewidth\":0,\"ticks\":\"\"}},\"type\":\"scatter3d\"}],\"scattercarpet\":[{\"marker\":{\"colorbar\":{\"outlinewidth\":0,\"ticks\":\"\"}},\"type\":\"scattercarpet\"}],\"scattergeo\":[{\"marker\":{\"colorbar\":{\"outlinewidth\":0,\"ticks\":\"\"}},\"type\":\"scattergeo\"}],\"scattergl\":[{\"marker\":{\"colorbar\":{\"outlinewidth\":0,\"ticks\":\"\"}},\"type\":\"scattergl\"}],\"scattermapbox\":[{\"marker\":{\"colorbar\":{\"outlinewidth\":0,\"ticks\":\"\"}},\"type\":\"scattermapbox\"}],\"scatterpolar\":[{\"marker\":{\"colorbar\":{\"outlinewidth\":0,\"ticks\":\"\"}},\"type\":\"scatterpolar\"}],\"scatterpolargl\":[{\"marker\":{\"colorbar\":{\"outlinewidth\":0,\"ticks\":\"\"}},\"type\":\"scatterpolargl\"}],\"scatterternary\":[{\"marker\":{\"colorbar\":{\"outlinewidth\":0,\"ticks\":\"\"}},\"type\":\"scatterternary\"}],\"surface\":[{\"colorbar\":{\"outlinewidth\":0,\"ticks\":\"\"},\"colorscale\":[[0.0,\"#0d0887\"],[0.1111111111111111,\"#46039f\"],[0.2222222222222222,\"#7201a8\"],[0.3333333333333333,\"#9c179e\"],[0.4444444444444444,\"#bd3786\"],[0.5555555555555556,\"#d8576b\"],[0.6666666666666666,\"#ed7953\"],[0.7777777777777778,\"#fb9f3a\"],[0.8888888888888888,\"#fdca26\"],[1.0,\"#f0f921\"]],\"type\":\"surface\"}],\"table\":[{\"cells\":{\"fill\":{\"color\":\"#EBF0F8\"},\"line\":{\"color\":\"white\"}},\"header\":{\"fill\":{\"color\":\"#C8D4E3\"},\"line\":{\"color\":\"white\"}},\"type\":\"table\"}]},\"layout\":{\"annotationdefaults\":{\"arrowcolor\":\"#2a3f5f\",\"arrowhead\":0,\"arrowwidth\":1},\"autotypenumbers\":\"strict\",\"coloraxis\":{\"colorbar\":{\"outlinewidth\":0,\"ticks\":\"\"}},\"colorscale\":{\"diverging\":[[0,\"#8e0152\"],[0.1,\"#c51b7d\"],[0.2,\"#de77ae\"],[0.3,\"#f1b6da\"],[0.4,\"#fde0ef\"],[0.5,\"#f7f7f7\"],[0.6,\"#e6f5d0\"],[0.7,\"#b8e186\"],[0.8,\"#7fbc41\"],[0.9,\"#4d9221\"],[1,\"#276419\"]],\"sequential\":[[0.0,\"#0d0887\"],[0.1111111111111111,\"#46039f\"],[0.2222222222222222,\"#7201a8\"],[0.3333333333333333,\"#9c179e\"],[0.4444444444444444,\"#bd3786\"],[0.5555555555555556,\"#d8576b\"],[0.6666666666666666,\"#ed7953\"],[0.7777777777777778,\"#fb9f3a\"],[0.8888888888888888,\"#fdca26\"],[1.0,\"#f0f921\"]],\"sequentialminus\":[[0.0,\"#0d0887\"],[0.1111111111111111,\"#46039f\"],[0.2222222222222222,\"#7201a8\"],[0.3333333333333333,\"#9c179e\"],[0.4444444444444444,\"#bd3786\"],[0.5555555555555556,\"#d8576b\"],[0.6666666666666666,\"#ed7953\"],[0.7777777777777778,\"#fb9f3a\"],[0.8888888888888888,\"#fdca26\"],[1.0,\"#f0f921\"]]},\"colorway\":[\"#636efa\",\"#EF553B\",\"#00cc96\",\"#ab63fa\",\"#FFA15A\",\"#19d3f3\",\"#FF6692\",\"#B6E880\",\"#FF97FF\",\"#FECB52\"],\"font\":{\"color\":\"#2a3f5f\"},\"geo\":{\"bgcolor\":\"white\",\"lakecolor\":\"white\",\"landcolor\":\"#E5ECF6\",\"showlakes\":true,\"showland\":true,\"subunitcolor\":\"white\"},\"hoverlabel\":{\"align\":\"left\"},\"hovermode\":\"closest\",\"mapbox\":{\"style\":\"light\"},\"paper_bgcolor\":\"white\",\"plot_bgcolor\":\"#E5ECF6\",\"polar\":{\"angularaxis\":{\"gridcolor\":\"white\",\"linecolor\":\"white\",\"ticks\":\"\"},\"bgcolor\":\"#E5ECF6\",\"radialaxis\":{\"gridcolor\":\"white\",\"linecolor\":\"white\",\"ticks\":\"\"}},\"scene\":{\"xaxis\":{\"backgroundcolor\":\"#E5ECF6\",\"gridcolor\":\"white\",\"gridwidth\":2,\"linecolor\":\"white\",\"showbackground\":true,\"ticks\":\"\",\"zerolinecolor\":\"white\"},\"yaxis\":{\"backgroundcolor\":\"#E5ECF6\",\"gridcolor\":\"white\",\"gridwidth\":2,\"linecolor\":\"white\",\"showbackground\":true,\"ticks\":\"\",\"zerolinecolor\":\"white\"},\"zaxis\":{\"backgroundcolor\":\"#E5ECF6\",\"gridcolor\":\"white\",\"gridwidth\":2,\"linecolor\":\"white\",\"showbackground\":true,\"ticks\":\"\",\"zerolinecolor\":\"white\"}},\"shapedefaults\":{\"line\":{\"color\":\"#2a3f5f\"}},\"ternary\":{\"aaxis\":{\"gridcolor\":\"white\",\"linecolor\":\"white\",\"ticks\":\"\"},\"baxis\":{\"gridcolor\":\"white\",\"linecolor\":\"white\",\"ticks\":\"\"},\"bgcolor\":\"#E5ECF6\",\"caxis\":{\"gridcolor\":\"white\",\"linecolor\":\"white\",\"ticks\":\"\"}},\"title\":{\"x\":0.05},\"xaxis\":{\"automargin\":true,\"gridcolor\":\"white\",\"linecolor\":\"white\",\"ticks\":\"\",\"title\":{\"standoff\":15},\"zerolinecolor\":\"white\",\"zerolinewidth\":2},\"yaxis\":{\"automargin\":true,\"gridcolor\":\"white\",\"linecolor\":\"white\",\"ticks\":\"\",\"title\":{\"standoff\":15},\"zerolinecolor\":\"white\",\"zerolinewidth\":2}}},\"xaxis\":{\"anchor\":\"y\",\"domain\":[0.0,1.0],\"title\":{\"text\":\"FamSize\"}},\"yaxis\":{\"anchor\":\"x\",\"domain\":[0.0,1.0],\"title\":{\"text\":\"Survived\"}}},                        {\"responsive\": true}                    ).then(function(){\n",
       "                            \n",
       "var gd = document.getElementById('eafd020a-2720-427b-aa18-66815f739322');\n",
       "var x = new MutationObserver(function (mutations, observer) {{\n",
       "        var display = window.getComputedStyle(gd).display;\n",
       "        if (!display || display === 'none') {{\n",
       "            console.log([gd, 'removed!']);\n",
       "            Plotly.purge(gd);\n",
       "            observer.disconnect();\n",
       "        }}\n",
       "}});\n",
       "\n",
       "// Listen for the removal of the full notebook cells\n",
       "var notebookContainer = gd.closest('#notebook-container');\n",
       "if (notebookContainer) {{\n",
       "    x.observe(notebookContainer, {childList: true});\n",
       "}}\n",
       "\n",
       "// Listen for the clearing of the current output cell\n",
       "var outputEl = gd.closest('.output');\n",
       "if (outputEl) {{\n",
       "    x.observe(outputEl, {childList: true});\n",
       "}}\n",
       "\n",
       "                        })                };                });            </script>        </div>"
      ]
     },
     "metadata": {},
     "output_type": "display_data"
    }
   ],
   "source": [
    "temp3_df=train_df.groupby(['FamSize']).mean()\n",
    "px.bar(temp3_df, x=temp3_df.index, y='Survived')"
   ]
  },
  {
   "cell_type": "code",
   "execution_count": 22,
   "id": "7e19e6f8",
   "metadata": {
    "execution": {
     "iopub.execute_input": "2021-11-17T11:53:03.640728Z",
     "iopub.status.busy": "2021-11-17T11:53:03.639689Z",
     "iopub.status.idle": "2021-11-17T11:53:05.048990Z",
     "shell.execute_reply": "2021-11-17T11:53:05.049528Z",
     "shell.execute_reply.started": "2021-11-17T11:51:04.647809Z"
    },
    "papermill": {
     "duration": 1.505609,
     "end_time": "2021-11-17T11:53:05.049721",
     "exception": false,
     "start_time": "2021-11-17T11:53:03.544112",
     "status": "completed"
    },
    "tags": []
   },
   "outputs": [
    {
     "data": {
      "image/png": "[encoded data removed]",
      "text/plain": [
       "<Figure size 648x648 with 9 Axes>"
      ]
     },
     "metadata": {
      "needs_background": "light"
     },
     "output_type": "display_data"
    }
   ],
   "source": [
    "bins = np.linspace(-2, 2, 10)\n",
    "g = sns.FacetGrid(train_df, col='FamSize', hue=\"Survived\", palette=\"Set1\", col_wrap=3)\n",
    "g.map(plt.hist, 'Survived', bins=bins, ec='k')\n",
    "for i in range(9):\n",
    "    g.axes[i].set_xlabel('')\n",
    "\n",
    "g.axes[0].set_xticks([])\n",
    "# g.axes[0].set_xticklabels(['Dead ', 'Survived'])\n",
    "plt.show()"
   ]
  },
  {
   "cell_type": "markdown",
   "id": "87814ee4",
   "metadata": {
    "papermill": {
     "duration": 0.090142,
     "end_time": "2021-11-17T11:53:05.233671",
     "exception": false,
     "start_time": "2021-11-17T11:53:05.143529",
     "status": "completed"
    },
    "tags": []
   },
   "source": [
    "## Cabin"
   ]
  },
  {
   "cell_type": "markdown",
   "id": "c9c687c0",
   "metadata": {
    "papermill": {
     "duration": 0.089491,
     "end_time": "2021-11-17T11:53:05.412124",
     "exception": false,
     "start_time": "2021-11-17T11:53:05.322633",
     "status": "completed"
    },
    "tags": []
   },
   "source": [
    "The Cabin may or may not play a role, but more than half of the values are NaN. I will exclude this column from the data "
   ]
  },
  {
   "cell_type": "code",
   "execution_count": 23,
   "id": "9d1d2ec8",
   "metadata": {
    "execution": {
     "iopub.execute_input": "2021-11-17T11:53:05.595523Z",
     "iopub.status.busy": "2021-11-17T11:53:05.594843Z",
     "iopub.status.idle": "2021-11-17T11:53:05.601496Z",
     "shell.execute_reply": "2021-11-17T11:53:05.602140Z",
     "shell.execute_reply.started": "2021-11-17T11:51:06.047044Z"
    },
    "papermill": {
     "duration": 0.100965,
     "end_time": "2021-11-17T11:53:05.602324",
     "exception": false,
     "start_time": "2021-11-17T11:53:05.501359",
     "status": "completed"
    },
    "tags": []
   },
   "outputs": [
    {
     "data": {
      "text/plain": [
       "686"
      ]
     },
     "execution_count": 23,
     "metadata": {},
     "output_type": "execute_result"
    }
   ],
   "source": [
    "train_df['Cabin'].isna().sum()"
   ]
  },
  {
   "cell_type": "markdown",
   "id": "c5646f92",
   "metadata": {
    "papermill": {
     "duration": 0.088683,
     "end_time": "2021-11-17T11:53:05.780679",
     "exception": false,
     "start_time": "2021-11-17T11:53:05.691996",
     "status": "completed"
    },
    "tags": []
   },
   "source": [
    "# **Data Preparation**\n",
    "\n",
    "Redefining index and preparing data for machine learning algorithm. \n"
   ]
  },
  {
   "cell_type": "code",
   "execution_count": 24,
   "id": "e7f534c0",
   "metadata": {
    "execution": {
     "iopub.execute_input": "2021-11-17T11:53:05.966427Z",
     "iopub.status.busy": "2021-11-17T11:53:05.965715Z",
     "iopub.status.idle": "2021-11-17T11:53:05.972914Z",
     "shell.execute_reply": "2021-11-17T11:53:05.973440Z",
     "shell.execute_reply.started": "2021-11-17T11:51:06.056468Z"
    },
    "papermill": {
     "duration": 0.103699,
     "end_time": "2021-11-17T11:53:05.973623",
     "exception": false,
     "start_time": "2021-11-17T11:53:05.869924",
     "status": "completed"
    },
    "tags": []
   },
   "outputs": [],
   "source": [
    "train_df.set_index('PassengerId')\n",
    "# Dropping Cabin\n",
    "train_df=train_df[['PassengerId', 'Survived', 'Pclass', 'Sex', 'Age', 'FamSize', 'Parch', 'SibSp', 'Ticket', 'Fare', 'Embarked']]\n"
   ]
  },
  {
   "cell_type": "markdown",
   "id": "1541a190",
   "metadata": {
    "papermill": {
     "duration": 0.089068,
     "end_time": "2021-11-17T11:53:06.154163",
     "exception": false,
     "start_time": "2021-11-17T11:53:06.065095",
     "status": "completed"
    },
    "tags": []
   },
   "source": [
    "Check for NaN"
   ]
  },
  {
   "cell_type": "code",
   "execution_count": 25,
   "id": "cd62d2aa",
   "metadata": {
    "execution": {
     "iopub.execute_input": "2021-11-17T11:53:06.336123Z",
     "iopub.status.busy": "2021-11-17T11:53:06.335384Z",
     "iopub.status.idle": "2021-11-17T11:53:06.344364Z",
     "shell.execute_reply": "2021-11-17T11:53:06.344880Z",
     "shell.execute_reply.started": "2021-11-17T11:51:06.073817Z"
    },
    "papermill": {
     "duration": 0.101817,
     "end_time": "2021-11-17T11:53:06.345055",
     "exception": false,
     "start_time": "2021-11-17T11:53:06.243238",
     "status": "completed"
    },
    "tags": []
   },
   "outputs": [
    {
     "data": {
      "text/plain": [
       "PassengerId      0\n",
       "Survived         0\n",
       "Pclass           0\n",
       "Sex              0\n",
       "Age            177\n",
       "FamSize          0\n",
       "Parch            0\n",
       "SibSp            0\n",
       "Ticket           0\n",
       "Fare             0\n",
       "Embarked         2\n",
       "dtype: int64"
      ]
     },
     "execution_count": 25,
     "metadata": {},
     "output_type": "execute_result"
    }
   ],
   "source": [
    "train_df.isna().sum()"
   ]
  },
  {
   "cell_type": "markdown",
   "id": "8a10c93a",
   "metadata": {
    "papermill": {
     "duration": 0.096763,
     "end_time": "2021-11-17T11:53:06.531704",
     "exception": false,
     "start_time": "2021-11-17T11:53:06.434941",
     "status": "completed"
    },
    "tags": []
   },
   "source": [
    "Let's substitute the NaN occurences. The only columns containing NaN are 'Age' and 'Embarked'.\n",
    "\n",
    "For \"Age\" we can just compute the mean value and use it in place of NaN. Let's have a quick look at the distribution, just to be sure. It looks a bit skewed, it's not the nice Gaussian distribution I would have expected"
   ]
  },
  {
   "cell_type": "code",
   "execution_count": 26,
   "id": "df2aa297",
   "metadata": {
    "execution": {
     "iopub.execute_input": "2021-11-17T11:53:06.724089Z",
     "iopub.status.busy": "2021-11-17T11:53:06.723336Z",
     "iopub.status.idle": "2021-11-17T11:53:07.109679Z",
     "shell.execute_reply": "2021-11-17T11:53:07.109084Z",
     "shell.execute_reply.started": "2021-11-17T11:51:06.090636Z"
    },
    "papermill": {
     "duration": 0.485519,
     "end_time": "2021-11-17T11:53:07.109846",
     "exception": false,
     "start_time": "2021-11-17T11:53:06.624327",
     "status": "completed"
    },
    "tags": []
   },
   "outputs": [
    {
     "data": {
      "text/plain": [
       "<matplotlib.legend.Legend at 0x7f1ad27a2b10>"
      ]
     },
     "execution_count": 26,
     "metadata": {},
     "output_type": "execute_result"
    },
    {
     "data": {
      "image/png": "[encoded data removed]",
      "text/plain": [
       "<Figure size 1440x720 with 1 Axes>"
      ]
     },
     "metadata": {
      "needs_background": "light"
     },
     "output_type": "display_data"
    }
   ],
   "source": [
    "fig, axes = plt.subplots(figsize=(20, 10))\n",
    "train_df.hist('Age', ax=axes)\n",
    "\n",
    "std=train_df['Age'].std()\n",
    "\n",
    "axes.plot([train_df['Age'].mean(),train_df['Age'].mean()], [0, 400], label='Mean')\n",
    "axes.fill_betweenx([0, 400], [train_df['Age'].mean()-std,train_df['Age'].mean()-std], [train_df['Age'].mean()+std,train_df['Age'].mean()+std], color='g', alpha=0.2, label='SD')\n",
    "\n",
    "axes.plot([train_df['Age'].median(),train_df['Age'].median()], [0, 400], label='Median')\n",
    "axes.plot([train_df['Age'].mode(),train_df['Age'].mode()], [0, 400], label='Mode')\n",
    "# \n",
    "axes.set_xlabel('Age')\n",
    "axes.set_ylabel('Value Counts')\n",
    "\n",
    "axes.legend()"
   ]
  },
  {
   "cell_type": "markdown",
   "id": "c70b661a",
   "metadata": {
    "papermill": {
     "duration": 0.091469,
     "end_time": "2021-11-17T11:53:07.293837",
     "exception": false,
     "start_time": "2021-11-17T11:53:07.202368",
     "status": "completed"
    },
    "tags": []
   },
   "source": [
    "As the boxplot shows, the distribution is right-skewed, with a few outliers that may affect the mean. Let's try and use the Median instead, to replace NaN values (see below)."
   ]
  },
  {
   "cell_type": "code",
   "execution_count": 27,
   "id": "6d2968b1",
   "metadata": {
    "execution": {
     "iopub.execute_input": "2021-11-17T11:53:07.483397Z",
     "iopub.status.busy": "2021-11-17T11:53:07.482697Z",
     "iopub.status.idle": "2021-11-17T11:53:07.863126Z",
     "shell.execute_reply": "2021-11-17T11:53:07.862517Z",
     "shell.execute_reply.started": "2021-11-17T11:51:06.454256Z"
    },
    "papermill": {
     "duration": 0.477588,
     "end_time": "2021-11-17T11:53:07.863297",
     "exception": false,
     "start_time": "2021-11-17T11:53:07.385709",
     "status": "completed"
    },
    "tags": []
   },
   "outputs": [
    {
     "data": {
      "text/plain": [
       "<AxesSubplot:xlabel='Age'>"
      ]
     },
     "execution_count": 27,
     "metadata": {},
     "output_type": "execute_result"
    },
    {
     "data": {
      "image/png": "[encoded data removed]",
      "text/plain": [
       "<Figure size 432x288 with 1 Axes>"
      ]
     },
     "metadata": {
      "needs_background": "light"
     },
     "output_type": "display_data"
    }
   ],
   "source": [
    "sns.boxplot(x='Age', data=train_df)"
   ]
  },
  {
   "cell_type": "markdown",
   "id": "d5c9ad55",
   "metadata": {
    "papermill": {
     "duration": 0.095391,
     "end_time": "2021-11-17T11:53:08.071245",
     "exception": false,
     "start_time": "2021-11-17T11:53:07.975854",
     "status": "completed"
    },
    "tags": []
   },
   "source": [
    "The outliers may be trimmed out (see commented code below) but I have tried that and the accuracy of the predictions gets worse. I wish I knew why... \n",
    "\n",
    "Anyway, since our goal is a more accurate predicion, I shall keep them. "
   ]
  },
  {
   "cell_type": "code",
   "execution_count": 28,
   "id": "81b646da",
   "metadata": {
    "execution": {
     "iopub.execute_input": "2021-11-17T11:53:08.263990Z",
     "iopub.status.busy": "2021-11-17T11:53:08.263251Z",
     "iopub.status.idle": "2021-11-17T11:53:08.267688Z",
     "shell.execute_reply": "2021-11-17T11:53:08.266972Z",
     "shell.execute_reply.started": "2021-11-17T11:51:06.578471Z"
    },
    "papermill": {
     "duration": 0.101576,
     "end_time": "2021-11-17T11:53:08.267866",
     "exception": false,
     "start_time": "2021-11-17T11:53:08.166290",
     "status": "completed"
    },
    "tags": []
   },
   "outputs": [],
   "source": [
    "# Q1 = train_df['Age'].quantile(0.25)\n",
    "# Q3 = train_df['Age'].quantile(0.75)\n",
    "# #Interquartile range\n",
    "# IQR = Q3 - Q1\n",
    "# whisker_width = 1.5\n",
    "# #upper and lower whiskers\n",
    "# lower_whisker = Q1 -(whisker_width*IQR)\n",
    "# upper_whisker = Q3 +(whisker_width*IQR)\n",
    "\n",
    "# #Drop outliers\n",
    "# train_df.drop(train_df.loc[train_df['Age'] > upper_whisker].index, inplace=True)\n",
    "# # train_df.drop(train_df.loc[train_df['Age'] < lower_whisker].index, inplace=True)\n"
   ]
  },
  {
   "cell_type": "markdown",
   "id": "30c28723",
   "metadata": {
    "papermill": {
     "duration": 0.095387,
     "end_time": "2021-11-17T11:53:08.457390",
     "exception": false,
     "start_time": "2021-11-17T11:53:08.362003",
     "status": "completed"
    },
    "tags": []
   },
   "source": [
    "However, for Emabarked we can't compute the mode of a categorical value. We compute the frequency of each values and substitute the most frequent one, as it's more likely that those passengers embarked from that port. Conceptually is the same thing as using the mode."
   ]
  },
  {
   "cell_type": "code",
   "execution_count": 29,
   "id": "ee47bf3b",
   "metadata": {
    "execution": {
     "iopub.execute_input": "2021-11-17T11:53:08.660526Z",
     "iopub.status.busy": "2021-11-17T11:53:08.659762Z",
     "iopub.status.idle": "2021-11-17T11:53:08.665144Z",
     "shell.execute_reply": "2021-11-17T11:53:08.664257Z",
     "shell.execute_reply.started": "2021-11-17T11:51:06.585765Z"
    },
    "papermill": {
     "duration": 0.11287,
     "end_time": "2021-11-17T11:53:08.665347",
     "exception": false,
     "start_time": "2021-11-17T11:53:08.552477",
     "status": "completed"
    },
    "tags": []
   },
   "outputs": [
    {
     "name": "stderr",
     "output_type": "stream",
     "text": [
      "/opt/conda/lib/python3.7/site-packages/pandas/core/generic.py:6392: SettingWithCopyWarning:\n",
      "\n",
      "\n",
      "A value is trying to be set on a copy of a slice from a DataFrame\n",
      "\n",
      "See the caveats in the documentation: https://pandas.pydata.org/pandas-docs/stable/user_guide/indexing.html#returning-a-view-versus-a-copy\n",
      "\n"
     ]
    },
    {
     "data": {
      "text/plain": [
       "PassengerId    0\n",
       "Survived       0\n",
       "Pclass         0\n",
       "Sex            0\n",
       "Age            0\n",
       "FamSize        0\n",
       "Parch          0\n",
       "SibSp          0\n",
       "Ticket         0\n",
       "Fare           0\n",
       "Embarked       0\n",
       "dtype: int64"
      ]
     },
     "execution_count": 29,
     "metadata": {},
     "output_type": "execute_result"
    }
   ],
   "source": [
    "train_df['Age'].fillna(float(train_df['Age'].median()), inplace=True)\n",
    "\n",
    "train_df['Embarked'].value_counts()\n",
    "train_df['Embarked'].fillna('S', inplace=True)\n",
    "\n",
    "train_df.isna().sum()"
   ]
  },
  {
   "cell_type": "markdown",
   "id": "bbd59f56",
   "metadata": {
    "papermill": {
     "duration": 0.096586,
     "end_time": "2021-11-17T11:53:08.859403",
     "exception": false,
     "start_time": "2021-11-17T11:53:08.762817",
     "status": "completed"
    },
    "tags": []
   },
   "source": [
    "Here we need to select the features we will use to train the ML algorithms. I did a bit of testing with different combinations and subsets of columns. So far, I get the best results using the following:\n",
    "\n",
    "- Pclass\n",
    "- Sex\n",
    "- Age\n",
    "- SibSp\n",
    "- Parch\n",
    "- Fare\n",
    "- Embarked\n",
    "\n",
    "Male and Female are substituted with 0 and 1. Similarly, One Hot Encoding is used for 'Embarked'"
   ]
  },
  {
   "cell_type": "code",
   "execution_count": 30,
   "id": "74079d42",
   "metadata": {
    "execution": {
     "iopub.execute_input": "2021-11-17T11:53:09.060891Z",
     "iopub.status.busy": "2021-11-17T11:53:09.060116Z",
     "iopub.status.idle": "2021-11-17T11:53:09.078035Z",
     "shell.execute_reply": "2021-11-17T11:53:09.078542Z",
     "shell.execute_reply.started": "2021-11-17T11:51:06.610570Z"
    },
    "papermill": {
     "duration": 0.12253,
     "end_time": "2021-11-17T11:53:09.078759",
     "exception": false,
     "start_time": "2021-11-17T11:53:08.956229",
     "status": "completed"
    },
    "tags": []
   },
   "outputs": [
    {
     "name": "stderr",
     "output_type": "stream",
     "text": [
      "/opt/conda/lib/python3.7/site-packages/pandas/core/generic.py:6619: SettingWithCopyWarning:\n",
      "\n",
      "\n",
      "A value is trying to be set on a copy of a slice from a DataFrame\n",
      "\n",
      "See the caveats in the documentation: https://pandas.pydata.org/pandas-docs/stable/user_guide/indexing.html#returning-a-view-versus-a-copy\n",
      "\n"
     ]
    },
    {
     "data": {
      "text/html": [
       "<div>\n",
       "<style scoped>\n",
       "    .dataframe tbody tr th:only-of-type {\n",
       "        vertical-align: middle;\n",
       "    }\n",
       "\n",
       "    .dataframe tbody tr th {\n",
       "        vertical-align: top;\n",
       "    }\n",
       "\n",
       "    .dataframe thead th {\n",
       "        text-align: right;\n",
       "    }\n",
       "</style>\n",
       "<table border=\"1\" class=\"dataframe\">\n",
       "  <thead>\n",
       "    <tr style=\"text-align: right;\">\n",
       "      <th></th>\n",
       "      <th>Pclass</th>\n",
       "      <th>Sex</th>\n",
       "      <th>Age</th>\n",
       "      <th>SibSp</th>\n",
       "      <th>Parch</th>\n",
       "      <th>Fare</th>\n",
       "      <th>C</th>\n",
       "      <th>Q</th>\n",
       "      <th>S</th>\n",
       "    </tr>\n",
       "  </thead>\n",
       "  <tbody>\n",
       "    <tr>\n",
       "      <th>0</th>\n",
       "      <td>3</td>\n",
       "      <td>0</td>\n",
       "      <td>22.0</td>\n",
       "      <td>1</td>\n",
       "      <td>0</td>\n",
       "      <td>7.2500</td>\n",
       "      <td>0</td>\n",
       "      <td>0</td>\n",
       "      <td>1</td>\n",
       "    </tr>\n",
       "    <tr>\n",
       "      <th>1</th>\n",
       "      <td>1</td>\n",
       "      <td>1</td>\n",
       "      <td>38.0</td>\n",
       "      <td>1</td>\n",
       "      <td>0</td>\n",
       "      <td>71.2833</td>\n",
       "      <td>1</td>\n",
       "      <td>0</td>\n",
       "      <td>0</td>\n",
       "    </tr>\n",
       "    <tr>\n",
       "      <th>2</th>\n",
       "      <td>3</td>\n",
       "      <td>1</td>\n",
       "      <td>26.0</td>\n",
       "      <td>0</td>\n",
       "      <td>0</td>\n",
       "      <td>7.9250</td>\n",
       "      <td>0</td>\n",
       "      <td>0</td>\n",
       "      <td>1</td>\n",
       "    </tr>\n",
       "    <tr>\n",
       "      <th>3</th>\n",
       "      <td>1</td>\n",
       "      <td>1</td>\n",
       "      <td>35.0</td>\n",
       "      <td>1</td>\n",
       "      <td>0</td>\n",
       "      <td>53.1000</td>\n",
       "      <td>0</td>\n",
       "      <td>0</td>\n",
       "      <td>1</td>\n",
       "    </tr>\n",
       "    <tr>\n",
       "      <th>4</th>\n",
       "      <td>3</td>\n",
       "      <td>0</td>\n",
       "      <td>35.0</td>\n",
       "      <td>0</td>\n",
       "      <td>0</td>\n",
       "      <td>8.0500</td>\n",
       "      <td>0</td>\n",
       "      <td>0</td>\n",
       "      <td>1</td>\n",
       "    </tr>\n",
       "  </tbody>\n",
       "</table>\n",
       "</div>"
      ],
      "text/plain": [
       "   Pclass  Sex   Age  SibSp  Parch     Fare  C  Q  S\n",
       "0       3    0  22.0      1      0   7.2500  0  0  1\n",
       "1       1    1  38.0      1      0  71.2833  1  0  0\n",
       "2       3    1  26.0      0      0   7.9250  0  0  1\n",
       "3       1    1  35.0      1      0  53.1000  0  0  1\n",
       "4       3    0  35.0      0      0   8.0500  0  0  1"
      ]
     },
     "execution_count": 30,
     "metadata": {},
     "output_type": "execute_result"
    }
   ],
   "source": [
    "# Dropping a few columns as names and cabin\n",
    "# Feature=train_df[['Pclass', 'Sex', 'Age', 'FamSize', 'SibSp', 'Parch', 'Fare']]\n",
    "Feature=train_df[['Pclass', 'Sex', 'Age', 'SibSp', 'Parch', 'Fare']]\n",
    "# Feature=train_df[['Pclass', 'Sex', 'Age', 'SibSp', 'Fare']]\n",
    "\n",
    "#test: removing Fare and Age\n",
    "# Feature=train_df[['Pclass', 'Sex', 'SibSp', 'Parch']]\n",
    "\n",
    "# Replace male and female with 1 and 0, respectively\n",
    "Feature['Sex'].replace(to_replace=['male','female'], value=[0,1],inplace=True)\n",
    "# One hot encoding for Embarked\n",
    "Feature = pd.concat([Feature, pd.get_dummies(train_df['Embarked'])], axis=1)\n",
    "\n",
    "Feature.head()"
   ]
  },
  {
   "cell_type": "markdown",
   "id": "97657e4d",
   "metadata": {
    "papermill": {
     "duration": 0.09491,
     "end_time": "2021-11-17T11:53:09.268275",
     "exception": false,
     "start_time": "2021-11-17T11:53:09.173365",
     "status": "completed"
    },
    "tags": []
   },
   "source": [
    "Let's define X and Y"
   ]
  },
  {
   "cell_type": "code",
   "execution_count": 31,
   "id": "4089746e",
   "metadata": {
    "execution": {
     "iopub.execute_input": "2021-11-17T11:53:09.462720Z",
     "iopub.status.busy": "2021-11-17T11:53:09.462046Z",
     "iopub.status.idle": "2021-11-17T11:53:09.464869Z",
     "shell.execute_reply": "2021-11-17T11:53:09.465321Z",
     "shell.execute_reply.started": "2021-11-17T11:51:06.637870Z"
    },
    "papermill": {
     "duration": 0.102154,
     "end_time": "2021-11-17T11:53:09.465521",
     "exception": false,
     "start_time": "2021-11-17T11:53:09.363367",
     "status": "completed"
    },
    "tags": []
   },
   "outputs": [],
   "source": [
    "x=Feature\n",
    "# x[0:5]"
   ]
  },
  {
   "cell_type": "markdown",
   "id": "3b857c03",
   "metadata": {
    "papermill": {
     "duration": 0.095432,
     "end_time": "2021-11-17T11:53:09.655866",
     "exception": false,
     "start_time": "2021-11-17T11:53:09.560434",
     "status": "completed"
    },
    "tags": []
   },
   "source": [
    "Of course our labels will be the Survived column"
   ]
  },
  {
   "cell_type": "code",
   "execution_count": 32,
   "id": "678c3d3a",
   "metadata": {
    "execution": {
     "iopub.execute_input": "2021-11-17T11:53:09.854536Z",
     "iopub.status.busy": "2021-11-17T11:53:09.853829Z",
     "iopub.status.idle": "2021-11-17T11:53:09.856532Z",
     "shell.execute_reply": "2021-11-17T11:53:09.857050Z",
     "shell.execute_reply.started": "2021-11-17T11:51:06.644037Z"
    },
    "papermill": {
     "duration": 0.105714,
     "end_time": "2021-11-17T11:53:09.857250",
     "exception": false,
     "start_time": "2021-11-17T11:53:09.751536",
     "status": "completed"
    },
    "tags": []
   },
   "outputs": [
    {
     "data": {
      "text/plain": [
       "array([0, 1, 1, 1, 0])"
      ]
     },
     "execution_count": 32,
     "metadata": {},
     "output_type": "execute_result"
    }
   ],
   "source": [
    "y=train_df['Survived'].values\n",
    "y[0:5]\n",
    "\n"
   ]
  },
  {
   "cell_type": "markdown",
   "id": "bad61fc1",
   "metadata": {
    "papermill": {
     "duration": 0.100001,
     "end_time": "2021-11-17T11:53:10.054196",
     "exception": false,
     "start_time": "2021-11-17T11:53:09.954195",
     "status": "completed"
    },
    "tags": []
   },
   "source": [
    "Let's standardize the data"
   ]
  },
  {
   "cell_type": "code",
   "execution_count": 33,
   "id": "e86d2c96",
   "metadata": {
    "execution": {
     "iopub.execute_input": "2021-11-17T11:53:10.254162Z",
     "iopub.status.busy": "2021-11-17T11:53:10.253075Z",
     "iopub.status.idle": "2021-11-17T11:53:10.267227Z",
     "shell.execute_reply": "2021-11-17T11:53:10.266628Z",
     "shell.execute_reply.started": "2021-11-17T11:51:06.660534Z"
    },
    "papermill": {
     "duration": 0.115121,
     "end_time": "2021-11-17T11:53:10.267401",
     "exception": false,
     "start_time": "2021-11-17T11:53:10.152280",
     "status": "completed"
    },
    "tags": []
   },
   "outputs": [
    {
     "data": {
      "text/plain": [
       "array([[ 0.82303564, -0.73844172, -0.56356172,  0.42990395, -0.47367995,\n",
       "        -0.56665571, -0.47805006, -0.30832082,  0.61253065],\n",
       "       [-1.57838744,  1.35420302,  0.6743051 ,  0.42990395, -0.47367995,\n",
       "         0.98844283,  2.09183115, -0.30832082, -1.63257136],\n",
       "       [ 0.82303564,  1.35420302, -0.25409502, -0.47585568, -0.47367995,\n",
       "        -0.55026281, -0.47805006, -0.30832082,  0.61253065],\n",
       "       [-1.57838744,  1.35420302,  0.44220507,  0.42990395, -0.47367995,\n",
       "         0.54684724, -0.47805006, -0.30832082,  0.61253065],\n",
       "       [ 0.82303564, -0.73844172,  0.44220507, -0.47585568, -0.47367995,\n",
       "        -0.54722709, -0.47805006, -0.30832082,  0.61253065]])"
      ]
     },
     "execution_count": 33,
     "metadata": {},
     "output_type": "execute_result"
    }
   ],
   "source": [
    "x= preprocessing.StandardScaler().fit(x).transform(x)\n",
    "x[0:5]"
   ]
  },
  {
   "cell_type": "markdown",
   "id": "bad9874a",
   "metadata": {
    "papermill": {
     "duration": 0.098753,
     "end_time": "2021-11-17T11:53:10.464438",
     "exception": false,
     "start_time": "2021-11-17T11:53:10.365685",
     "status": "completed"
    },
    "tags": []
   },
   "source": [
    "And split the data set in a train and test set. 80% - 20% seems like a reasonable choice"
   ]
  },
  {
   "cell_type": "code",
   "execution_count": 34,
   "id": "060262dc",
   "metadata": {
    "execution": {
     "iopub.execute_input": "2021-11-17T11:53:10.692184Z",
     "iopub.status.busy": "2021-11-17T11:53:10.691120Z",
     "iopub.status.idle": "2021-11-17T11:53:10.699044Z",
     "shell.execute_reply": "2021-11-17T11:53:10.699714Z",
     "shell.execute_reply.started": "2021-11-17T11:51:06.679922Z"
    },
    "papermill": {
     "duration": 0.116018,
     "end_time": "2021-11-17T11:53:10.699955",
     "exception": false,
     "start_time": "2021-11-17T11:53:10.583937",
     "status": "completed"
    },
    "tags": []
   },
   "outputs": [],
   "source": [
    "#X and y have been defined in the data preparation step above\n",
    "#Splitting the set in train and test\n",
    "x_train, x_test, y_train, y_test = train_test_split(x, y, test_size=0.2, random_state=42)\n"
   ]
  },
  {
   "cell_type": "markdown",
   "id": "acc9a65d",
   "metadata": {
    "papermill": {
     "duration": 0.09672,
     "end_time": "2021-11-17T11:53:10.897945",
     "exception": false,
     "start_time": "2021-11-17T11:53:10.801225",
     "status": "completed"
    },
    "tags": []
   },
   "source": [
    "# ML model testing\n",
    "\n",
    "In the following, four different ML models are trained and tested. First, the optimum paramenters are searched through a grid search on a parameter grid, then the models are fitted and tested on the test set. "
   ]
  },
  {
   "cell_type": "markdown",
   "id": "1fcfeaff",
   "metadata": {
    "papermill": {
     "duration": 0.101529,
     "end_time": "2021-11-17T11:53:11.097542",
     "exception": false,
     "start_time": "2021-11-17T11:53:10.996013",
     "status": "completed"
    },
    "tags": []
   },
   "source": [
    "## K Nearest Neighbours"
   ]
  },
  {
   "cell_type": "markdown",
   "id": "3f82e06a",
   "metadata": {
    "papermill": {
     "duration": 0.101482,
     "end_time": "2021-11-17T11:53:11.297159",
     "exception": false,
     "start_time": "2021-11-17T11:53:11.195677",
     "status": "completed"
    },
    "tags": []
   },
   "source": [
    "First, let's calculate the optimum K value"
   ]
  },
  {
   "cell_type": "code",
   "execution_count": 35,
   "id": "33fbbedd",
   "metadata": {
    "execution": {
     "iopub.execute_input": "2021-11-17T11:53:11.543293Z",
     "iopub.status.busy": "2021-11-17T11:53:11.542260Z",
     "iopub.status.idle": "2021-11-17T11:53:12.037097Z",
     "shell.execute_reply": "2021-11-17T11:53:12.037582Z",
     "shell.execute_reply.started": "2021-11-17T11:51:06.689350Z"
    },
    "papermill": {
     "duration": 0.600102,
     "end_time": "2021-11-17T11:53:12.037908",
     "exception": false,
     "start_time": "2021-11-17T11:53:11.437806",
     "status": "completed"
    },
    "tags": []
   },
   "outputs": [
    {
     "data": {
      "text/plain": [
       "array([0.75280899, 0.75842697, 0.78089888, 0.80337079, 0.82022472,\n",
       "       0.80337079, 0.7752809 , 0.78089888, 0.76966292, 0.78089888,\n",
       "       0.79213483, 0.80337079, 0.82022472, 0.81460674, 0.80898876,\n",
       "       0.81460674, 0.78651685, 0.80898876, 0.79213483, 0.79213483,\n",
       "       0.78089888, 0.79775281, 0.80337079, 0.79213483, 0.78651685,\n",
       "       0.79213483, 0.79213483, 0.79775281, 0.79213483, 0.79775281,\n",
       "       0.79213483, 0.79213483, 0.79775281, 0.79213483, 0.79775281,\n",
       "       0.73033708, 0.74719101, 0.73595506, 0.73033708, 0.71910112])"
      ]
     },
     "execution_count": 35,
     "metadata": {},
     "output_type": "execute_result"
    }
   ],
   "source": [
    "Kmax=40\n",
    "#accuracy indicators\n",
    "mean_acc = np.zeros((Kmax))\n",
    "std_acc = np.zeros((Kmax))\n",
    "\n",
    "for k in range(1,Kmax+1):\n",
    "    #Define the model and fit to train test\n",
    "    knn=KNeighborsClassifier(n_neighbors=k).fit(x_train, y_train)\n",
    "    #Predict on the test set\n",
    "    y_hat=knn.predict(x_test)\n",
    "    #Verify accuracy against test set labels\n",
    "    mean_acc[k-1] = metrics.accuracy_score(y_test, y_hat)\n",
    "    std_acc[k-1] = np.std(y_hat==y_test)/np.sqrt(y_hat.shape[0])\n",
    "\n",
    "mean_acc"
   ]
  },
  {
   "cell_type": "code",
   "execution_count": 36,
   "id": "7ab2ddbe",
   "metadata": {
    "execution": {
     "iopub.execute_input": "2021-11-17T11:53:12.250533Z",
     "iopub.status.busy": "2021-11-17T11:53:12.249499Z",
     "iopub.status.idle": "2021-11-17T11:53:12.545168Z",
     "shell.execute_reply": "2021-11-17T11:53:12.545703Z",
     "shell.execute_reply.started": "2021-11-17T11:51:07.156500Z"
    },
    "papermill": {
     "duration": 0.401741,
     "end_time": "2021-11-17T11:53:12.545952",
     "exception": false,
     "start_time": "2021-11-17T11:53:12.144211",
     "status": "completed"
    },
    "tags": []
   },
   "outputs": [
    {
     "data": {
      "text/plain": [
       "Text(0, 0.5, 'Mean Accuracy')"
      ]
     },
     "execution_count": 36,
     "metadata": {},
     "output_type": "execute_result"
    },
    {
     "data": {
      "image/png": "[encoded data removed]",
      "text/plain": [
       "<Figure size 1440x720 with 1 Axes>"
      ]
     },
     "metadata": {
      "needs_background": "light"
     },
     "output_type": "display_data"
    }
   ],
   "source": [
    "plt.figure(figsize=(20,10))\n",
    "plt.plot(mean_acc)\n",
    "plt.xlabel('K')\n",
    "plt.ylabel('Mean Accuracy')"
   ]
  },
  {
   "cell_type": "markdown",
   "id": "611376d2",
   "metadata": {
    "papermill": {
     "duration": 0.098425,
     "end_time": "2021-11-17T11:53:12.744100",
     "exception": false,
     "start_time": "2021-11-17T11:53:12.645675",
     "status": "completed"
    },
    "tags": []
   },
   "source": [
    "Let's try optimize the other parameters, scanning a smaller k range"
   ]
  },
  {
   "cell_type": "code",
   "execution_count": 37,
   "id": "c315abec",
   "metadata": {
    "execution": {
     "iopub.execute_input": "2021-11-17T11:53:12.951117Z",
     "iopub.status.busy": "2021-11-17T11:53:12.950108Z",
     "iopub.status.idle": "2021-11-17T11:53:12.953363Z",
     "shell.execute_reply": "2021-11-17T11:53:12.952818Z",
     "shell.execute_reply.started": "2021-11-17T11:51:07.436307Z"
    },
    "papermill": {
     "duration": 0.108716,
     "end_time": "2021-11-17T11:53:12.953532",
     "exception": false,
     "start_time": "2021-11-17T11:53:12.844816",
     "status": "completed"
    },
    "tags": []
   },
   "outputs": [],
   "source": [
    "parameters = {'n_neighbors': range(1,15),\n",
    "              'algorithm': ['auto', 'ball_tree', 'kd_tree', 'brute'],\n",
    "              'p': [1,2]}\n",
    "\n",
    "KNN = KNeighborsClassifier()"
   ]
  },
  {
   "cell_type": "code",
   "execution_count": 38,
   "id": "4574b102",
   "metadata": {
    "execution": {
     "iopub.execute_input": "2021-11-17T11:53:13.165529Z",
     "iopub.status.busy": "2021-11-17T11:53:13.164646Z",
     "iopub.status.idle": "2021-11-17T11:53:20.827091Z",
     "shell.execute_reply": "2021-11-17T11:53:20.828066Z",
     "shell.execute_reply.started": "2021-11-17T11:51:07.442770Z"
    },
    "papermill": {
     "duration": 7.773701,
     "end_time": "2021-11-17T11:53:20.828421",
     "exception": false,
     "start_time": "2021-11-17T11:53:13.054720",
     "status": "completed"
    },
    "tags": []
   },
   "outputs": [],
   "source": [
    "knn_cv=GridSearchCV(KNN, parameters, cv=10).fit(x_train, y_train)\n"
   ]
  },
  {
   "cell_type": "code",
   "execution_count": 39,
   "id": "227d89d8",
   "metadata": {
    "execution": {
     "iopub.execute_input": "2021-11-17T11:53:21.079595Z",
     "iopub.status.busy": "2021-11-17T11:53:21.078895Z",
     "iopub.status.idle": "2021-11-17T11:53:21.081816Z",
     "shell.execute_reply": "2021-11-17T11:53:21.082336Z",
     "shell.execute_reply.started": "2021-11-17T11:51:14.984889Z"
    },
    "papermill": {
     "duration": 0.110662,
     "end_time": "2021-11-17T11:53:21.082521",
     "exception": false,
     "start_time": "2021-11-17T11:53:20.971859",
     "status": "completed"
    },
    "tags": []
   },
   "outputs": [
    {
     "name": "stdout",
     "output_type": "stream",
     "text": [
      "tuned hpyerparameters :(best parameters)  {'algorithm': 'auto', 'n_neighbors': 14, 'p': 1}\n",
      "accuracy : 0.8222535211267605\n"
     ]
    }
   ],
   "source": [
    "print(\"tuned hpyerparameters :(best parameters) \",knn_cv.best_params_)\n",
    "print(\"accuracy :\",knn_cv.best_score_)"
   ]
  },
  {
   "cell_type": "code",
   "execution_count": 40,
   "id": "10962cd6",
   "metadata": {
    "execution": {
     "iopub.execute_input": "2021-11-17T11:53:21.284968Z",
     "iopub.status.busy": "2021-11-17T11:53:21.284227Z",
     "iopub.status.idle": "2021-11-17T11:53:21.297757Z",
     "shell.execute_reply": "2021-11-17T11:53:21.298323Z",
     "shell.execute_reply.started": "2021-11-17T11:51:14.995145Z"
    },
    "papermill": {
     "duration": 0.11795,
     "end_time": "2021-11-17T11:53:21.298504",
     "exception": false,
     "start_time": "2021-11-17T11:53:21.180554",
     "status": "completed"
    },
    "tags": []
   },
   "outputs": [
    {
     "data": {
      "text/plain": [
       "0.8033707865168539"
      ]
     },
     "execution_count": 40,
     "metadata": {},
     "output_type": "execute_result"
    }
   ],
   "source": [
    "knnScore=knn_cv.score(x_test, y_test)\n",
    "knnScore"
   ]
  },
  {
   "cell_type": "markdown",
   "id": "d641f1f2",
   "metadata": {
    "papermill": {
     "duration": 0.104462,
     "end_time": "2021-11-17T11:53:21.500677",
     "exception": false,
     "start_time": "2021-11-17T11:53:21.396215",
     "status": "completed"
    },
    "tags": []
   },
   "source": [
    "## Decision Tree"
   ]
  },
  {
   "cell_type": "markdown",
   "id": "a360dc34",
   "metadata": {
    "papermill": {
     "duration": 0.097648,
     "end_time": "2021-11-17T11:53:21.715214",
     "exception": false,
     "start_time": "2021-11-17T11:53:21.617566",
     "status": "completed"
    },
    "tags": []
   },
   "source": [
    "Let's now optimize the parameters for a decision Tree"
   ]
  },
  {
   "cell_type": "code",
   "execution_count": 41,
   "id": "f51854c7",
   "metadata": {
    "execution": {
     "iopub.execute_input": "2021-11-17T11:53:21.916979Z",
     "iopub.status.busy": "2021-11-17T11:53:21.916262Z",
     "iopub.status.idle": "2021-11-17T11:53:21.921298Z",
     "shell.execute_reply": "2021-11-17T11:53:21.921836Z",
     "shell.execute_reply.started": "2021-11-17T11:51:15.032762Z"
    },
    "papermill": {
     "duration": 0.109539,
     "end_time": "2021-11-17T11:53:21.922055",
     "exception": false,
     "start_time": "2021-11-17T11:53:21.812516",
     "status": "completed"
    },
    "tags": []
   },
   "outputs": [],
   "source": [
    "parameters = {'criterion': ['gini', 'entropy'],\n",
    "     'splitter': ['best', 'random'],\n",
    "     'max_depth': [2*n for n in range(1,10)],\n",
    "     'max_features': ['auto', 'sqrt'],\n",
    "     'min_samples_leaf': [1, 2, 4],\n",
    "     'min_samples_split': [2, 5, 10]}\n",
    "\n",
    "tree = DecisionTreeClassifier()"
   ]
  },
  {
   "cell_type": "code",
   "execution_count": 42,
   "id": "952bad1d",
   "metadata": {
    "execution": {
     "iopub.execute_input": "2021-11-17T11:53:22.134680Z",
     "iopub.status.busy": "2021-11-17T11:53:22.133554Z",
     "iopub.status.idle": "2021-11-17T11:53:32.702319Z",
     "shell.execute_reply": "2021-11-17T11:53:32.701636Z",
     "shell.execute_reply.started": "2021-11-17T11:51:15.045284Z"
    },
    "papermill": {
     "duration": 10.676945,
     "end_time": "2021-11-17T11:53:32.702510",
     "exception": false,
     "start_time": "2021-11-17T11:53:22.025565",
     "status": "completed"
    },
    "tags": []
   },
   "outputs": [],
   "source": [
    "tree_cv=GridSearchCV(tree, parameters, cv=10).fit(x_train, y_train)\n"
   ]
  },
  {
   "cell_type": "code",
   "execution_count": 43,
   "id": "a98cc6c3",
   "metadata": {
    "execution": {
     "iopub.execute_input": "2021-11-17T11:53:32.918735Z",
     "iopub.status.busy": "2021-11-17T11:53:32.917949Z",
     "iopub.status.idle": "2021-11-17T11:53:32.921013Z",
     "shell.execute_reply": "2021-11-17T11:53:32.921649Z",
     "shell.execute_reply.started": "2021-11-17T11:51:26.178842Z"
    },
    "papermill": {
     "duration": 0.11282,
     "end_time": "2021-11-17T11:53:32.921877",
     "exception": false,
     "start_time": "2021-11-17T11:53:32.809057",
     "status": "completed"
    },
    "tags": []
   },
   "outputs": [
    {
     "name": "stdout",
     "output_type": "stream",
     "text": [
      "tuned hpyerparameters :(best parameters)  {'criterion': 'entropy', 'max_depth': 10, 'max_features': 'auto', 'min_samples_leaf': 4, 'min_samples_split': 2, 'splitter': 'best'}\n",
      "accuracy : 0.8265191146881288\n"
     ]
    }
   ],
   "source": [
    "print(\"tuned hpyerparameters :(best parameters) \",tree_cv.best_params_)\n",
    "print(\"accuracy :\",tree_cv.best_score_)"
   ]
  },
  {
   "cell_type": "code",
   "execution_count": 44,
   "id": "339748cd",
   "metadata": {
    "execution": {
     "iopub.execute_input": "2021-11-17T11:53:33.137755Z",
     "iopub.status.busy": "2021-11-17T11:53:33.136926Z",
     "iopub.status.idle": "2021-11-17T11:53:33.142301Z",
     "shell.execute_reply": "2021-11-17T11:53:33.142976Z",
     "shell.execute_reply.started": "2021-11-17T11:51:26.184647Z"
    },
    "papermill": {
     "duration": 0.113824,
     "end_time": "2021-11-17T11:53:33.143178",
     "exception": false,
     "start_time": "2021-11-17T11:53:33.029354",
     "status": "completed"
    },
    "tags": []
   },
   "outputs": [
    {
     "data": {
      "text/plain": [
       "0.8370786516853933"
      ]
     },
     "execution_count": 44,
     "metadata": {},
     "output_type": "execute_result"
    }
   ],
   "source": [
    "treeScore=tree_cv.score(x_test, y_test)\n",
    "treeScore"
   ]
  },
  {
   "cell_type": "markdown",
   "id": "62b2daf8",
   "metadata": {
    "papermill": {
     "duration": 0.102663,
     "end_time": "2021-11-17T11:53:33.353178",
     "exception": false,
     "start_time": "2021-11-17T11:53:33.250515",
     "status": "completed"
    },
    "tags": []
   },
   "source": [
    "## Logistic Regression"
   ]
  },
  {
   "cell_type": "code",
   "execution_count": 45,
   "id": "ea6eeb8d",
   "metadata": {
    "execution": {
     "iopub.execute_input": "2021-11-17T11:53:33.557848Z",
     "iopub.status.busy": "2021-11-17T11:53:33.557144Z",
     "iopub.status.idle": "2021-11-17T11:53:33.560913Z",
     "shell.execute_reply": "2021-11-17T11:53:33.561497Z",
     "shell.execute_reply.started": "2021-11-17T11:51:26.200127Z"
    },
    "papermill": {
     "duration": 0.107811,
     "end_time": "2021-11-17T11:53:33.561716",
     "exception": false,
     "start_time": "2021-11-17T11:53:33.453905",
     "status": "completed"
    },
    "tags": []
   },
   "outputs": [],
   "source": [
    "parameters ={'C':[0.001, 0.01,0.1,1],\n",
    "             'penalty':['l2'],\n",
    "             'solver':['lbfgs']}"
   ]
  },
  {
   "cell_type": "code",
   "execution_count": 46,
   "id": "0541342c",
   "metadata": {
    "execution": {
     "iopub.execute_input": "2021-11-17T11:53:33.775444Z",
     "iopub.status.busy": "2021-11-17T11:53:33.774736Z",
     "iopub.status.idle": "2021-11-17T11:53:34.035654Z",
     "shell.execute_reply": "2021-11-17T11:53:34.034985Z",
     "shell.execute_reply.started": "2021-11-17T11:51:26.209498Z"
    },
    "papermill": {
     "duration": 0.36957,
     "end_time": "2021-11-17T11:53:34.035848",
     "exception": false,
     "start_time": "2021-11-17T11:53:33.666278",
     "status": "completed"
    },
    "tags": []
   },
   "outputs": [
    {
     "data": {
      "text/plain": [
       "GridSearchCV(cv=10, estimator=LogisticRegression(),\n",
       "             param_grid={'C': [0.001, 0.01, 0.1, 1], 'penalty': ['l2'],\n",
       "                         'solver': ['lbfgs']})"
      ]
     },
     "execution_count": 46,
     "metadata": {},
     "output_type": "execute_result"
    }
   ],
   "source": [
    "lr=LogisticRegression()\n",
    "logreg_cv=GridSearchCV(lr, parameters, cv=10).fit(x_train, y_train)\n",
    "logreg_cv"
   ]
  },
  {
   "cell_type": "code",
   "execution_count": 47,
   "id": "b10ca244",
   "metadata": {
    "execution": {
     "iopub.execute_input": "2021-11-17T11:53:34.253933Z",
     "iopub.status.busy": "2021-11-17T11:53:34.253182Z",
     "iopub.status.idle": "2021-11-17T11:53:34.256498Z",
     "shell.execute_reply": "2021-11-17T11:53:34.255979Z",
     "shell.execute_reply.started": "2021-11-17T11:51:26.461432Z"
    },
    "papermill": {
     "duration": 0.115047,
     "end_time": "2021-11-17T11:53:34.256656",
     "exception": false,
     "start_time": "2021-11-17T11:53:34.141609",
     "status": "completed"
    },
    "tags": []
   },
   "outputs": [
    {
     "name": "stdout",
     "output_type": "stream",
     "text": [
      "tuned hpyerparameters :(best parameters)  {'C': 0.1, 'penalty': 'l2', 'solver': 'lbfgs'}\n",
      "accuracy : 0.8067605633802817\n"
     ]
    }
   ],
   "source": [
    "print(\"tuned hpyerparameters :(best parameters) \",logreg_cv.best_params_)\n",
    "print(\"accuracy :\",logreg_cv.best_score_)"
   ]
  },
  {
   "cell_type": "code",
   "execution_count": 48,
   "id": "c48efc62",
   "metadata": {
    "execution": {
     "iopub.execute_input": "2021-11-17T11:53:34.467911Z",
     "iopub.status.busy": "2021-11-17T11:53:34.467104Z",
     "iopub.status.idle": "2021-11-17T11:53:34.470544Z",
     "shell.execute_reply": "2021-11-17T11:53:34.471165Z",
     "shell.execute_reply.started": "2021-11-17T11:51:26.469183Z"
    },
    "papermill": {
     "duration": 0.112894,
     "end_time": "2021-11-17T11:53:34.471370",
     "exception": false,
     "start_time": "2021-11-17T11:53:34.358476",
     "status": "completed"
    },
    "tags": []
   },
   "outputs": [
    {
     "data": {
      "text/plain": [
       "0.8033707865168539"
      ]
     },
     "execution_count": 48,
     "metadata": {},
     "output_type": "execute_result"
    }
   ],
   "source": [
    "logregScore=logreg_cv.score(x_test, y_test)\n",
    "logregScore"
   ]
  },
  {
   "cell_type": "markdown",
   "id": "68be54fc",
   "metadata": {
    "papermill": {
     "duration": 0.106719,
     "end_time": "2021-11-17T11:53:34.685169",
     "exception": false,
     "start_time": "2021-11-17T11:53:34.578450",
     "status": "completed"
    },
    "tags": []
   },
   "source": [
    "## Support Vector Machine"
   ]
  },
  {
   "cell_type": "code",
   "execution_count": 49,
   "id": "7751861b",
   "metadata": {
    "execution": {
     "iopub.execute_input": "2021-11-17T11:53:34.903199Z",
     "iopub.status.busy": "2021-11-17T11:53:34.902468Z",
     "iopub.status.idle": "2021-11-17T11:53:34.907682Z",
     "shell.execute_reply": "2021-11-17T11:53:34.908366Z",
     "shell.execute_reply.started": "2021-11-17T11:51:26.483097Z"
    },
    "papermill": {
     "duration": 0.116179,
     "end_time": "2021-11-17T11:53:34.908584",
     "exception": false,
     "start_time": "2021-11-17T11:53:34.792405",
     "status": "completed"
    },
    "tags": []
   },
   "outputs": [],
   "source": [
    "parameters = {'kernel':['rbf'],\n",
    "              'C': np.logspace(-3, 3, 5),\n",
    "              'gamma':np.logspace(-3, 3, 5)}\n",
    "svm_new=svm.SVC()"
   ]
  },
  {
   "cell_type": "code",
   "execution_count": 50,
   "id": "56d3dc32",
   "metadata": {
    "execution": {
     "iopub.execute_input": "2021-11-17T11:53:35.129514Z",
     "iopub.status.busy": "2021-11-17T11:53:35.128794Z",
     "iopub.status.idle": "2021-11-17T11:53:42.666562Z",
     "shell.execute_reply": "2021-11-17T11:53:42.665907Z",
     "shell.execute_reply.started": "2021-11-17T11:51:26.492930Z"
    },
    "papermill": {
     "duration": 7.651665,
     "end_time": "2021-11-17T11:53:42.666732",
     "exception": false,
     "start_time": "2021-11-17T11:53:35.015067",
     "status": "completed"
    },
    "tags": []
   },
   "outputs": [],
   "source": [
    "svm_cv=GridSearchCV(svm_new,parameters, cv=10).fit(x_train, y_train)\n"
   ]
  },
  {
   "cell_type": "code",
   "execution_count": 51,
   "id": "430a08be",
   "metadata": {
    "execution": {
     "iopub.execute_input": "2021-11-17T11:53:42.875667Z",
     "iopub.status.busy": "2021-11-17T11:53:42.875008Z",
     "iopub.status.idle": "2021-11-17T11:53:42.878736Z",
     "shell.execute_reply": "2021-11-17T11:53:42.879631Z",
     "shell.execute_reply.started": "2021-11-17T11:51:34.009561Z"
    },
    "papermill": {
     "duration": 0.111964,
     "end_time": "2021-11-17T11:53:42.880006",
     "exception": false,
     "start_time": "2021-11-17T11:53:42.768042",
     "status": "completed"
    },
    "tags": []
   },
   "outputs": [
    {
     "name": "stdout",
     "output_type": "stream",
     "text": [
      "tuned hpyerparameters :(best parameters)  {'C': 31.622776601683793, 'gamma': 0.03162277660168379, 'kernel': 'rbf'}\n",
      "accuracy : 0.8208651911468813\n"
     ]
    }
   ],
   "source": [
    "print(\"tuned hpyerparameters :(best parameters) \",svm_cv.best_params_)\n",
    "print(\"accuracy :\",svm_cv.best_score_)"
   ]
  },
  {
   "cell_type": "code",
   "execution_count": 52,
   "id": "187b016f",
   "metadata": {
    "execution": {
     "iopub.execute_input": "2021-11-17T11:53:43.093965Z",
     "iopub.status.busy": "2021-11-17T11:53:43.093240Z",
     "iopub.status.idle": "2021-11-17T11:53:43.100494Z",
     "shell.execute_reply": "2021-11-17T11:53:43.099834Z",
     "shell.execute_reply.started": "2021-11-17T11:51:34.015970Z"
    },
    "papermill": {
     "duration": 0.115658,
     "end_time": "2021-11-17T11:53:43.100657",
     "exception": false,
     "start_time": "2021-11-17T11:53:42.984999",
     "status": "completed"
    },
    "tags": []
   },
   "outputs": [
    {
     "data": {
      "text/plain": [
       "0.8426966292134831"
      ]
     },
     "execution_count": 52,
     "metadata": {},
     "output_type": "execute_result"
    }
   ],
   "source": [
    "svmScore=svm_cv.score(x_test, y_test)\n",
    "svmScore"
   ]
  },
  {
   "cell_type": "markdown",
   "id": "1da6994b",
   "metadata": {
    "papermill": {
     "duration": 0.102402,
     "end_time": "2021-11-17T11:53:43.305746",
     "exception": false,
     "start_time": "2021-11-17T11:53:43.203344",
     "status": "completed"
    },
    "tags": []
   },
   "source": [
    "# Compare the scores of the different optimized models"
   ]
  },
  {
   "cell_type": "markdown",
   "id": "5bd1998c",
   "metadata": {
    "papermill": {
     "duration": 0.118966,
     "end_time": "2021-11-17T11:53:43.526397",
     "exception": false,
     "start_time": "2021-11-17T11:53:43.407431",
     "status": "completed"
    },
    "tags": []
   },
   "source": [
    "It looks like SVM is the best performing model"
   ]
  },
  {
   "cell_type": "code",
   "execution_count": 53,
   "id": "94a7847e",
   "metadata": {
    "execution": {
     "iopub.execute_input": "2021-11-17T11:53:43.776492Z",
     "iopub.status.busy": "2021-11-17T11:53:43.775784Z",
     "iopub.status.idle": "2021-11-17T11:53:44.047647Z",
     "shell.execute_reply": "2021-11-17T11:53:44.048560Z",
     "shell.execute_reply.started": "2021-11-17T11:51:34.033710Z"
    },
    "papermill": {
     "duration": 0.384585,
     "end_time": "2021-11-17T11:53:44.048827",
     "exception": false,
     "start_time": "2021-11-17T11:53:43.664242",
     "status": "completed"
    },
    "tags": []
   },
   "outputs": [
    {
     "data": {
      "text/plain": [
       "Text(0, 0.5, 'SCORE')"
      ]
     },
     "execution_count": 53,
     "metadata": {},
     "output_type": "execute_result"
    },
    {
     "data": {
      "image/png": "[encoded data removed]",
      "text/plain": [
       "<Figure size 1440x720 with 1 Axes>"
      ]
     },
     "metadata": {
      "needs_background": "light"
     },
     "output_type": "display_data"
    }
   ],
   "source": [
    "scores=[knnScore, treeScore, logregScore, svmScore]\n",
    "xax=[0, 1, 2, 3]\n",
    "\n",
    "fig, axes=plt.subplots(figsize=(20,10))\n",
    "\n",
    "axes.bar(xax, scores, width=0.5, color=['r', 'g', 'b', 'k'], alpha=0.7)\n",
    "\n",
    "axes.set_xticks(xax)\n",
    "axes.set_xticklabels(['KNN', 'Decision Tree', 'LogRegression', 'SVM'])\n",
    "axes.set_ylabel('SCORE')"
   ]
  },
  {
   "cell_type": "markdown",
   "id": "2f651c15",
   "metadata": {
    "papermill": {
     "duration": 0.1033,
     "end_time": "2021-11-17T11:53:44.261225",
     "exception": false,
     "start_time": "2021-11-17T11:53:44.157925",
     "status": "completed"
    },
    "tags": []
   },
   "source": [
    "If we have a look at the confusion matrix, we notice that the main problem are the false negatives. "
   ]
  },
  {
   "cell_type": "code",
   "execution_count": 54,
   "id": "4244cbc8",
   "metadata": {
    "execution": {
     "iopub.execute_input": "2021-11-17T11:53:44.474593Z",
     "iopub.status.busy": "2021-11-17T11:53:44.473890Z",
     "iopub.status.idle": "2021-11-17T11:53:44.720128Z",
     "shell.execute_reply": "2021-11-17T11:53:44.719447Z",
     "shell.execute_reply.started": "2021-11-17T11:51:34.294481Z"
    },
    "jupyter": {
     "source_hidden": true
    },
    "papermill": {
     "duration": 0.356211,
     "end_time": "2021-11-17T11:53:44.720307",
     "exception": false,
     "start_time": "2021-11-17T11:53:44.364096",
     "status": "completed"
    },
    "tags": []
   },
   "outputs": [
    {
     "name": "stdout",
     "output_type": "stream",
     "text": [
      "Confusion matrix, without normalization\n",
      "[[96  4]\n",
      " [24 54]]\n"
     ]
    },
    {
     "data": {
      "image/png": "[encoded data removed]",
      "text/plain": [
       "<Figure size 432x288 with 2 Axes>"
      ]
     },
     "metadata": {
      "needs_background": "light"
     },
     "output_type": "display_data"
    }
   ],
   "source": [
    "y_hat=svm_cv.predict(x_test)\n",
    "cnf_matrix = confusion_matrix(y_test, y_hat)\n",
    "np.set_printoptions(precision=2)\n",
    "\n",
    "# print(classification_report(y_test,y_hat))\n",
    "\n",
    "# Plot non-normalized confusion matrix\n",
    "plt.figure()\n",
    "plot_confusion_matrix(cnf_matrix, classes=['Dead','Survived'],normalize= False,  title='Confusion matrix')\n"
   ]
  },
  {
   "cell_type": "markdown",
   "id": "15b3cd1c",
   "metadata": {
    "papermill": {
     "duration": 0.104427,
     "end_time": "2021-11-17T11:53:44.929848",
     "exception": false,
     "start_time": "2021-11-17T11:53:44.825421",
     "status": "completed"
    },
    "tags": []
   },
   "source": [
    "We'll refit svn_cv to the whole train test"
   ]
  },
  {
   "cell_type": "code",
   "execution_count": 55,
   "id": "64af1caa",
   "metadata": {
    "execution": {
     "iopub.execute_input": "2021-11-17T11:53:45.146199Z",
     "iopub.status.busy": "2021-11-17T11:53:45.145481Z",
     "iopub.status.idle": "2021-11-17T11:53:57.656645Z",
     "shell.execute_reply": "2021-11-17T11:53:57.656044Z",
     "shell.execute_reply.started": "2021-11-17T11:51:34.587070Z"
    },
    "papermill": {
     "duration": 12.621766,
     "end_time": "2021-11-17T11:53:57.656833",
     "exception": false,
     "start_time": "2021-11-17T11:53:45.035067",
     "status": "completed"
    },
    "tags": []
   },
   "outputs": [
    {
     "data": {
      "text/plain": [
       "GridSearchCV(cv=10, estimator=SVC(),\n",
       "             param_grid={'C': array([1.00e-03, 3.16e-02, 1.00e+00, 3.16e+01, 1.00e+03]),\n",
       "                         'gamma': array([1.00e-03, 3.16e-02, 1.00e+00, 3.16e+01, 1.00e+03]),\n",
       "                         'kernel': ['rbf']})"
      ]
     },
     "execution_count": 55,
     "metadata": {},
     "output_type": "execute_result"
    }
   ],
   "source": [
    "svm_cv.fit(x,y)"
   ]
  },
  {
   "cell_type": "markdown",
   "id": "b5ca3de4",
   "metadata": {
    "papermill": {
     "duration": 0.103719,
     "end_time": "2021-11-17T11:53:57.864785",
     "exception": false,
     "start_time": "2021-11-17T11:53:57.761066",
     "status": "completed"
    },
    "tags": []
   },
   "source": [
    "# Predictions on the Test Set\n",
    "\n",
    "Time to compute the predictions on the actual test set, to prepare a submission file. \n",
    "First, the test set needs to be imported and undergo the same data preparations steps carried out for the Train test"
   ]
  },
  {
   "cell_type": "code",
   "execution_count": 56,
   "id": "f7c03d7e",
   "metadata": {
    "execution": {
     "iopub.execute_input": "2021-11-17T11:53:58.087748Z",
     "iopub.status.busy": "2021-11-17T11:53:58.087077Z",
     "iopub.status.idle": "2021-11-17T11:53:58.113194Z",
     "shell.execute_reply": "2021-11-17T11:53:58.113818Z",
     "shell.execute_reply.started": "2021-11-17T11:51:47.028586Z"
    },
    "papermill": {
     "duration": 0.139811,
     "end_time": "2021-11-17T11:53:58.114076",
     "exception": false,
     "start_time": "2021-11-17T11:53:57.974265",
     "status": "completed"
    },
    "tags": []
   },
   "outputs": [
    {
     "data": {
      "text/html": [
       "<div>\n",
       "<style scoped>\n",
       "    .dataframe tbody tr th:only-of-type {\n",
       "        vertical-align: middle;\n",
       "    }\n",
       "\n",
       "    .dataframe tbody tr th {\n",
       "        vertical-align: top;\n",
       "    }\n",
       "\n",
       "    .dataframe thead th {\n",
       "        text-align: right;\n",
       "    }\n",
       "</style>\n",
       "<table border=\"1\" class=\"dataframe\">\n",
       "  <thead>\n",
       "    <tr style=\"text-align: right;\">\n",
       "      <th></th>\n",
       "      <th>PassengerId</th>\n",
       "      <th>Pclass</th>\n",
       "      <th>Sex</th>\n",
       "      <th>Age</th>\n",
       "      <th>SibSp</th>\n",
       "      <th>Parch</th>\n",
       "      <th>Ticket</th>\n",
       "      <th>Fare</th>\n",
       "      <th>Embarked</th>\n",
       "    </tr>\n",
       "  </thead>\n",
       "  <tbody>\n",
       "    <tr>\n",
       "      <th>0</th>\n",
       "      <td>892</td>\n",
       "      <td>3</td>\n",
       "      <td>male</td>\n",
       "      <td>34.5</td>\n",
       "      <td>0</td>\n",
       "      <td>0</td>\n",
       "      <td>330911</td>\n",
       "      <td>7.8292</td>\n",
       "      <td>Q</td>\n",
       "    </tr>\n",
       "    <tr>\n",
       "      <th>1</th>\n",
       "      <td>893</td>\n",
       "      <td>3</td>\n",
       "      <td>female</td>\n",
       "      <td>47.0</td>\n",
       "      <td>1</td>\n",
       "      <td>0</td>\n",
       "      <td>363272</td>\n",
       "      <td>7.0000</td>\n",
       "      <td>S</td>\n",
       "    </tr>\n",
       "    <tr>\n",
       "      <th>2</th>\n",
       "      <td>894</td>\n",
       "      <td>2</td>\n",
       "      <td>male</td>\n",
       "      <td>62.0</td>\n",
       "      <td>0</td>\n",
       "      <td>0</td>\n",
       "      <td>240276</td>\n",
       "      <td>9.6875</td>\n",
       "      <td>Q</td>\n",
       "    </tr>\n",
       "    <tr>\n",
       "      <th>3</th>\n",
       "      <td>895</td>\n",
       "      <td>3</td>\n",
       "      <td>male</td>\n",
       "      <td>27.0</td>\n",
       "      <td>0</td>\n",
       "      <td>0</td>\n",
       "      <td>315154</td>\n",
       "      <td>8.6625</td>\n",
       "      <td>S</td>\n",
       "    </tr>\n",
       "    <tr>\n",
       "      <th>4</th>\n",
       "      <td>896</td>\n",
       "      <td>3</td>\n",
       "      <td>female</td>\n",
       "      <td>22.0</td>\n",
       "      <td>1</td>\n",
       "      <td>1</td>\n",
       "      <td>3101298</td>\n",
       "      <td>12.2875</td>\n",
       "      <td>S</td>\n",
       "    </tr>\n",
       "  </tbody>\n",
       "</table>\n",
       "</div>"
      ],
      "text/plain": [
       "   PassengerId  Pclass     Sex   Age  SibSp  Parch   Ticket     Fare Embarked\n",
       "0          892       3    male  34.5      0      0   330911   7.8292        Q\n",
       "1          893       3  female  47.0      1      0   363272   7.0000        S\n",
       "2          894       2    male  62.0      0      0   240276   9.6875        Q\n",
       "3          895       3    male  27.0      0      0   315154   8.6625        S\n",
       "4          896       3  female  22.0      1      1  3101298  12.2875        S"
      ]
     },
     "execution_count": 56,
     "metadata": {},
     "output_type": "execute_result"
    }
   ],
   "source": [
    "test_df=pd.read_csv('/kaggle/input/titanic/test.csv')\n",
    "test_df=test_df[['PassengerId', 'Pclass', 'Sex', 'Age', 'SibSp', 'Parch', 'Ticket', 'Fare', 'Embarked']]\n",
    "\n",
    "test_df.head()"
   ]
  },
  {
   "cell_type": "markdown",
   "id": "faf8beea",
   "metadata": {
    "papermill": {
     "duration": 0.104886,
     "end_time": "2021-11-17T11:53:58.324910",
     "exception": false,
     "start_time": "2021-11-17T11:53:58.220024",
     "status": "completed"
    },
    "tags": []
   },
   "source": [
    "A quick look at the age and fare distributions. 'Fare' has quite a few outliers, here we can't just get rid of them, as we will need to submit a prediction for each entry. But since the model is trained on a less skewed distribution, if we use them as they are this will result in a low out of sample accuracy. I'll try to substitute (some of) them with the mean."
   ]
  },
  {
   "cell_type": "code",
   "execution_count": 57,
   "id": "a27e2094",
   "metadata": {
    "execution": {
     "iopub.execute_input": "2021-11-17T11:53:58.539465Z",
     "iopub.status.busy": "2021-11-17T11:53:58.538706Z",
     "iopub.status.idle": "2021-11-17T11:53:58.727709Z",
     "shell.execute_reply": "2021-11-17T11:53:58.727121Z",
     "shell.execute_reply.started": "2021-11-17T11:51:47.052453Z"
    },
    "papermill": {
     "duration": 0.297847,
     "end_time": "2021-11-17T11:53:58.727879",
     "exception": false,
     "start_time": "2021-11-17T11:53:58.430032",
     "status": "completed"
    },
    "tags": []
   },
   "outputs": [
    {
     "data": {
      "text/plain": [
       "<AxesSubplot:>"
      ]
     },
     "execution_count": 57,
     "metadata": {},
     "output_type": "execute_result"
    },
    {
     "data": {
      "image/png": "[encoded data removed]",
      "text/plain": [
       "<Figure size 432x288 with 1 Axes>"
      ]
     },
     "metadata": {
      "needs_background": "light"
     },
     "output_type": "display_data"
    }
   ],
   "source": [
    "sns.boxplot(data=test_df[['Age','Fare']])"
   ]
  },
  {
   "cell_type": "code",
   "execution_count": 58,
   "id": "d0aa5ba7",
   "metadata": {
    "execution": {
     "iopub.execute_input": "2021-11-17T11:53:58.944129Z",
     "iopub.status.busy": "2021-11-17T11:53:58.943447Z",
     "iopub.status.idle": "2021-11-17T11:53:58.954250Z",
     "shell.execute_reply": "2021-11-17T11:53:58.953600Z",
     "shell.execute_reply.started": "2021-11-17T11:51:47.245989Z"
    },
    "papermill": {
     "duration": 0.120067,
     "end_time": "2021-11-17T11:53:58.954401",
     "exception": false,
     "start_time": "2021-11-17T11:53:58.834334",
     "status": "completed"
    },
    "tags": []
   },
   "outputs": [],
   "source": [
    "Q1 = test_df['Fare'].quantile(0.25)\n",
    "Q3 = test_df['Fare'].quantile(0.75)\n",
    "#Interquartile range\n",
    "IQR = Q3 - Q1\n",
    "whisker_width = 1.5\n",
    "#upper and lower whiskers\n",
    "lower_whisker = Q1 -(whisker_width*IQR)\n",
    "upper_whisker = Q3 +(whisker_width*IQR)\n",
    "\n",
    "#Drop outliers\n",
    "test_df.loc[test_df['Fare'] > upper_whisker, 'Fare']=float(test_df['Fare'].mean())\n",
    "\n",
    "# train_df.drop(train_df.loc[train_df['Age'] < lower_whisker].index, inplace=True)\n"
   ]
  },
  {
   "cell_type": "markdown",
   "id": "ae991891",
   "metadata": {
    "execution": {
     "iopub.execute_input": "2021-11-17T10:41:58.564839Z",
     "iopub.status.busy": "2021-11-17T10:41:58.564016Z",
     "iopub.status.idle": "2021-11-17T10:41:58.568002Z",
     "shell.execute_reply": "2021-11-17T10:41:58.567412Z",
     "shell.execute_reply.started": "2021-11-17T10:41:58.564797Z"
    },
    "papermill": {
     "duration": 0.105117,
     "end_time": "2021-11-17T11:53:59.165438",
     "exception": false,
     "start_time": "2021-11-17T11:53:59.060321",
     "status": "completed"
    },
    "tags": []
   },
   "source": [
    "Here's how the distributions look like after treating the outliers"
   ]
  },
  {
   "cell_type": "code",
   "execution_count": 59,
   "id": "0adce885",
   "metadata": {
    "execution": {
     "iopub.execute_input": "2021-11-17T11:53:59.379136Z",
     "iopub.status.busy": "2021-11-17T11:53:59.378411Z",
     "iopub.status.idle": "2021-11-17T11:53:59.570000Z",
     "shell.execute_reply": "2021-11-17T11:53:59.569121Z",
     "shell.execute_reply.started": "2021-11-17T11:51:47.261081Z"
    },
    "papermill": {
     "duration": 0.300361,
     "end_time": "2021-11-17T11:53:59.570165",
     "exception": false,
     "start_time": "2021-11-17T11:53:59.269804",
     "status": "completed"
    },
    "tags": []
   },
   "outputs": [
    {
     "data": {
      "text/plain": [
       "<AxesSubplot:>"
      ]
     },
     "execution_count": 59,
     "metadata": {},
     "output_type": "execute_result"
    },
    {
     "data": {
      "image/png": "[encoded data removed]",
      "text/plain": [
       "<Figure size 432x288 with 1 Axes>"
      ]
     },
     "metadata": {
      "needs_background": "light"
     },
     "output_type": "display_data"
    }
   ],
   "source": [
    "sns.boxplot(data=test_df[['Age','Fare']])"
   ]
  },
  {
   "cell_type": "code",
   "execution_count": 60,
   "id": "cbc57e22",
   "metadata": {
    "execution": {
     "iopub.execute_input": "2021-11-17T11:53:59.799505Z",
     "iopub.status.busy": "2021-11-17T11:53:59.789024Z",
     "iopub.status.idle": "2021-11-17T11:53:59.803318Z",
     "shell.execute_reply": "2021-11-17T11:53:59.802735Z",
     "shell.execute_reply.started": "2021-11-17T11:51:47.455500Z"
    },
    "papermill": {
     "duration": 0.126313,
     "end_time": "2021-11-17T11:53:59.803477",
     "exception": false,
     "start_time": "2021-11-17T11:53:59.677164",
     "status": "completed"
    },
    "tags": []
   },
   "outputs": [
    {
     "data": {
      "text/plain": [
       "PassengerId    0\n",
       "Pclass         0\n",
       "Sex            0\n",
       "Age            0\n",
       "SibSp          0\n",
       "Parch          0\n",
       "Ticket         0\n",
       "Fare           0\n",
       "Embarked       0\n",
       "dtype: int64"
      ]
     },
     "execution_count": 60,
     "metadata": {},
     "output_type": "execute_result"
    }
   ],
   "source": [
    "#substitute age outliers\n",
    "test_df['Age'].fillna(test_df['Age'].mean(), inplace=True)\n",
    "#substitute Fare and embarked outliers\n",
    "test_df['Fare'].fillna(float(test_df['Fare'].mean()), inplace=True)\n",
    "test_df['Embarked'].value_counts()\n",
    "test_df['Embarked'].fillna('S', inplace=True)\n",
    "\n",
    "test_df.isna().sum()"
   ]
  },
  {
   "cell_type": "markdown",
   "id": "8f217c2a",
   "metadata": {
    "papermill": {
     "duration": 0.108587,
     "end_time": "2021-11-17T11:54:00.020599",
     "exception": false,
     "start_time": "2021-11-17T11:53:59.912012",
     "status": "completed"
    },
    "tags": []
   },
   "source": [
    "Recreate the Family Size columns, just to be consistent. We're not actually using it in the final version"
   ]
  },
  {
   "cell_type": "code",
   "execution_count": 61,
   "id": "af91d243",
   "metadata": {
    "execution": {
     "iopub.execute_input": "2021-11-17T11:54:00.241052Z",
     "iopub.status.busy": "2021-11-17T11:54:00.238303Z",
     "iopub.status.idle": "2021-11-17T11:54:00.243082Z",
     "shell.execute_reply": "2021-11-17T11:54:00.243622Z",
     "shell.execute_reply.started": "2021-11-17T11:51:47.472928Z"
    },
    "papermill": {
     "duration": 0.11593,
     "end_time": "2021-11-17T11:54:00.243837",
     "exception": false,
     "start_time": "2021-11-17T11:54:00.127907",
     "status": "completed"
    },
    "tags": []
   },
   "outputs": [],
   "source": [
    "test_df['FamSize']=test_df['SibSp']+test_df['Parch']\n"
   ]
  },
  {
   "cell_type": "markdown",
   "id": "1987a490",
   "metadata": {
    "papermill": {
     "duration": 0.108471,
     "end_time": "2021-11-17T11:54:00.461889",
     "exception": false,
     "start_time": "2021-11-17T11:54:00.353418",
     "status": "completed"
    },
    "tags": []
   },
   "source": [
    "Create the feature, as done for the training set."
   ]
  },
  {
   "cell_type": "code",
   "execution_count": 62,
   "id": "d3e5b720",
   "metadata": {
    "execution": {
     "iopub.execute_input": "2021-11-17T11:54:00.689174Z",
     "iopub.status.busy": "2021-11-17T11:54:00.685238Z",
     "iopub.status.idle": "2021-11-17T11:54:00.698408Z",
     "shell.execute_reply": "2021-11-17T11:54:00.699172Z",
     "shell.execute_reply.started": "2021-11-17T11:51:47.485620Z"
    },
    "papermill": {
     "duration": 0.128926,
     "end_time": "2021-11-17T11:54:00.699421",
     "exception": false,
     "start_time": "2021-11-17T11:54:00.570495",
     "status": "completed"
    },
    "tags": []
   },
   "outputs": [
    {
     "name": "stderr",
     "output_type": "stream",
     "text": [
      "/opt/conda/lib/python3.7/site-packages/pandas/core/generic.py:6619: SettingWithCopyWarning:\n",
      "\n",
      "\n",
      "A value is trying to be set on a copy of a slice from a DataFrame\n",
      "\n",
      "See the caveats in the documentation: https://pandas.pydata.org/pandas-docs/stable/user_guide/indexing.html#returning-a-view-versus-a-copy\n",
      "\n"
     ]
    }
   ],
   "source": [
    "test_df.set_index('PassengerId')\n",
    "\n",
    "# test_df.dropna(inplace=True)\n",
    "# Dropping a few columns as names and cabin\n",
    "# Feature=test_df[['Pclass', 'Sex', 'Age', 'FamSize', 'SibSp', 'Parch', 'Fare']]\n",
    "Feature=test_df[['Pclass', 'Sex', 'Age',  'SibSp', 'Parch', 'Fare']]\n",
    "# Feature=test_df[['Pclass', 'Sex', 'Age',  'SibSp', 'Fare']]\n",
    "\n",
    "# test, removing age and fare\n",
    "# Feature=test_df[['Pclass', 'Sex', 'SibSp', 'Parch']]\n",
    "\n",
    "# Replace male and female with 1 and 0, respectively\n",
    "Feature['Sex'].replace(to_replace=['male','female'], value=[0,1],inplace=True)\n",
    "# One hot encoding for Embarked\n",
    "Feature = pd.concat([Feature, pd.get_dummies(test_df['Embarked'])], axis=1)\n",
    "\n",
    "# Feature.head()\n",
    "\n",
    "final_x=Feature\n",
    "# x[0:5]\n",
    "\n",
    "final_x= preprocessing.StandardScaler().fit(final_x).transform(final_x)\n",
    "# x[0:5]"
   ]
  },
  {
   "cell_type": "markdown",
   "id": "67a6f79c",
   "metadata": {
    "papermill": {
     "duration": 0.106009,
     "end_time": "2021-11-17T11:54:00.913644",
     "exception": false,
     "start_time": "2021-11-17T11:54:00.807635",
     "status": "completed"
    },
    "tags": []
   },
   "source": [
    "Let's compute predictions using the best ML method: SVM. The prediction is than converted in a dataframe and written to a 'submission.csv' for submission."
   ]
  },
  {
   "cell_type": "code",
   "execution_count": 63,
   "id": "a9439cc0",
   "metadata": {
    "execution": {
     "iopub.execute_input": "2021-11-17T11:54:01.135918Z",
     "iopub.status.busy": "2021-11-17T11:54:01.134009Z",
     "iopub.status.idle": "2021-11-17T11:54:01.145090Z",
     "shell.execute_reply": "2021-11-17T11:54:01.145583Z",
     "shell.execute_reply.started": "2021-11-17T11:51:47.506770Z"
    },
    "papermill": {
     "duration": 0.123146,
     "end_time": "2021-11-17T11:54:01.145797",
     "exception": false,
     "start_time": "2021-11-17T11:54:01.022651",
     "status": "completed"
    },
    "tags": []
   },
   "outputs": [],
   "source": [
    "pred_from_svm_cv=svm_cv.predict(final_x)"
   ]
  },
  {
   "cell_type": "code",
   "execution_count": 64,
   "id": "7d0b168a",
   "metadata": {
    "execution": {
     "iopub.execute_input": "2021-11-17T11:54:01.364213Z",
     "iopub.status.busy": "2021-11-17T11:54:01.363460Z",
     "iopub.status.idle": "2021-11-17T11:54:01.368212Z",
     "shell.execute_reply": "2021-11-17T11:54:01.368688Z",
     "shell.execute_reply.started": "2021-11-17T11:51:47.518238Z"
    },
    "papermill": {
     "duration": 0.116192,
     "end_time": "2021-11-17T11:54:01.368905",
     "exception": false,
     "start_time": "2021-11-17T11:54:01.252713",
     "status": "completed"
    },
    "tags": []
   },
   "outputs": [],
   "source": [
    "#KNN\n",
    "# output = pd.DataFrame({'PassengerId': test_df.PassengerId, 'Survived': pred_from_knn_cv})\n",
    "#Decision Tree\n",
    "# output = pd.DataFrame({'PassengerId': test_df.PassengerId, 'Survived': pred_from_tree_cv})\n",
    "#Logistic Regression\n",
    "# output = pd.DataFrame({'PassengerId': test_df.PassengerId, 'Survived': pred_from_lr_cv})\n",
    "#SVM\n",
    "output = pd.DataFrame({'PassengerId': test_df.PassengerId, 'Survived': pred_from_svm_cv})\n"
   ]
  },
  {
   "cell_type": "code",
   "execution_count": 65,
   "id": "4149adb0",
   "metadata": {
    "execution": {
     "iopub.execute_input": "2021-11-17T11:54:01.585521Z",
     "iopub.status.busy": "2021-11-17T11:54:01.584864Z",
     "iopub.status.idle": "2021-11-17T11:54:01.593180Z",
     "shell.execute_reply": "2021-11-17T11:54:01.593678Z",
     "shell.execute_reply.started": "2021-11-17T11:51:47.527130Z"
    },
    "papermill": {
     "duration": 0.118721,
     "end_time": "2021-11-17T11:54:01.593885",
     "exception": false,
     "start_time": "2021-11-17T11:54:01.475164",
     "status": "completed"
    },
    "tags": []
   },
   "outputs": [
    {
     "data": {
      "text/html": [
       "<div>\n",
       "<style scoped>\n",
       "    .dataframe tbody tr th:only-of-type {\n",
       "        vertical-align: middle;\n",
       "    }\n",
       "\n",
       "    .dataframe tbody tr th {\n",
       "        vertical-align: top;\n",
       "    }\n",
       "\n",
       "    .dataframe thead th {\n",
       "        text-align: right;\n",
       "    }\n",
       "</style>\n",
       "<table border=\"1\" class=\"dataframe\">\n",
       "  <thead>\n",
       "    <tr style=\"text-align: right;\">\n",
       "      <th></th>\n",
       "      <th>PassengerId</th>\n",
       "      <th>Survived</th>\n",
       "    </tr>\n",
       "  </thead>\n",
       "  <tbody>\n",
       "    <tr>\n",
       "      <th>0</th>\n",
       "      <td>892</td>\n",
       "      <td>0</td>\n",
       "    </tr>\n",
       "    <tr>\n",
       "      <th>1</th>\n",
       "      <td>893</td>\n",
       "      <td>0</td>\n",
       "    </tr>\n",
       "    <tr>\n",
       "      <th>2</th>\n",
       "      <td>894</td>\n",
       "      <td>0</td>\n",
       "    </tr>\n",
       "    <tr>\n",
       "      <th>3</th>\n",
       "      <td>895</td>\n",
       "      <td>0</td>\n",
       "    </tr>\n",
       "    <tr>\n",
       "      <th>4</th>\n",
       "      <td>896</td>\n",
       "      <td>0</td>\n",
       "    </tr>\n",
       "  </tbody>\n",
       "</table>\n",
       "</div>"
      ],
      "text/plain": [
       "   PassengerId  Survived\n",
       "0          892         0\n",
       "1          893         0\n",
       "2          894         0\n",
       "3          895         0\n",
       "4          896         0"
      ]
     },
     "execution_count": 65,
     "metadata": {},
     "output_type": "execute_result"
    }
   ],
   "source": [
    "output.head()"
   ]
  },
  {
   "cell_type": "code",
   "execution_count": 66,
   "id": "9814587d",
   "metadata": {
    "execution": {
     "iopub.execute_input": "2021-11-17T11:54:01.812940Z",
     "iopub.status.busy": "2021-11-17T11:54:01.812235Z",
     "iopub.status.idle": "2021-11-17T11:54:01.820151Z",
     "shell.execute_reply": "2021-11-17T11:54:01.820639Z",
     "shell.execute_reply.started": "2021-11-17T11:51:47.545543Z"
    },
    "papermill": {
     "duration": 0.118819,
     "end_time": "2021-11-17T11:54:01.820876",
     "exception": false,
     "start_time": "2021-11-17T11:54:01.702057",
     "status": "completed"
    },
    "tags": []
   },
   "outputs": [],
   "source": [
    "output.to_csv('submission.csv', index=False)"
   ]
  },
  {
   "cell_type": "code",
   "execution_count": null,
   "id": "7ec39f8e",
   "metadata": {
    "jupyter": {
     "source_hidden": true
    },
    "papermill": {
     "duration": 0.10911,
     "end_time": "2021-11-17T11:54:02.039639",
     "exception": false,
     "start_time": "2021-11-17T11:54:01.930529",
     "status": "completed"
    },
    "tags": []
   },
   "outputs": [],
   "source": []
  },
  {
   "cell_type": "markdown",
   "id": "903f8d2e",
   "metadata": {
    "papermill": {
     "duration": 0.106894,
     "end_time": "2021-11-17T11:54:02.255820",
     "exception": false,
     "start_time": "2021-11-17T11:54:02.148926",
     "status": "completed"
    },
    "tags": []
   },
   "source": [
    "# Conclusions\n",
    "\n"
   ]
  },
  {
   "cell_type": "markdown",
   "id": "fd9ef665",
   "metadata": {
    "execution": {
     "iopub.execute_input": "2021-11-17T10:53:11.393199Z",
     "iopub.status.busy": "2021-11-17T10:53:11.392917Z",
     "iopub.status.idle": "2021-11-17T10:53:11.399601Z",
     "shell.execute_reply": "2021-11-17T10:53:11.398782Z",
     "shell.execute_reply.started": "2021-11-17T10:53:11.393167Z"
    },
    "papermill": {
     "duration": 0.10707,
     "end_time": "2021-11-17T11:54:02.470930",
     "exception": false,
     "start_time": "2021-11-17T11:54:02.363860",
     "status": "completed"
    },
    "tags": []
   },
   "source": [
    "> 'Pclass', 'Sex', 'Age',  'SibSp', 'Parch', 'Fare' \n",
    "\n",
    "Is the best subset I found to predict the survival through a Support Vector Machine model. The correlation between data and survival is quite simple and explains the ratio they used to choose who to save. \"Women and childern first!\" but also \"Rich and wealthy first!\"\n",
    "\n",
    "- The higher Fare and Pclass, the higher the chance of survival\n",
    "\n",
    "- Women had a higher survival rate than men\n",
    "\n",
    "- The lower the age, the higher the chance of survival\n",
    "\n",
    "- The family size has an optimum value around 3\n",
    "\n",
    "The analysis presented above scores 0.78708. I am sure that there is much to be done to improve it and I am very much open to any comments or suggestions. This one was just my first attempt to apply my moderate knowledge of data science to make predictions. \n",
    "\n",
    "Cheers!\n",
    "\n"
   ]
  }
 ],
 "metadata": {
  "kernelspec": {
   "display_name": "Python 3",
   "language": "python",
   "name": "python3"
  },
  "language_info": {
   "codemirror_mode": {
    "name": "ipython",
    "version": 3
   },
   "file_extension": ".py",
   "mimetype": "text/x-python",
   "name": "python",
   "nbconvert_exporter": "python",
   "pygments_lexer": "ipython3",
   "version": "3.7.10"
  },
  "papermill": {
   "default_parameters": {},
   "duration": 83.649689,
   "end_time": "2021-11-17T11:54:03.592072",
   "environment_variables": {},
   "exception": null,
   "input_path": "__notebook__.ipynb",
   "output_path": "__notebook__.ipynb",
   "parameters": {},
   "start_time": "2021-11-17T11:52:39.942383",
   "version": "2.3.3"
  }
 },
 "nbformat": 4,
 "nbformat_minor": 5
}
